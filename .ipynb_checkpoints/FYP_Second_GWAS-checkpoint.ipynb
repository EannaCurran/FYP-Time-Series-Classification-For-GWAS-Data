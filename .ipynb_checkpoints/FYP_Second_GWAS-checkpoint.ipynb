{
 "cells": [
  {
   "cell_type": "code",
   "execution_count": 1,
   "metadata": {},
   "outputs": [],
   "source": [
    "# Imports\n",
    "\n",
    "import pandas as pd\n",
    "import numpy as np\n",
    "import warnings\n",
    "import matplotlib.pyplot as plt\n",
    "\n",
    "from sklearn.model_selection import train_test_split\n",
    "from sklearn.linear_model import RidgeClassifierCV\n",
    "from sklearn.metrics import classification_report\n",
    "from sklearn.metrics import confusion_matrix\n",
    "from sklearn.metrics import accuracy_score\n",
    "from sklearn.impute import SimpleImputer\n",
    "from sklearn.ensemble import RandomForestClassifier\n",
    "from sklearn.model_selection import GridSearchCV\n",
    "from sklearn.model_selection import cross_val_score\n",
    "\n",
    "from sktime.classification.shapelet_based import MrSEQLClassifier\n",
    "from sktime.transformations.panel.rocket import MiniRocket\n",
    "from sktime.datatypes._panel._convert import from_2d_array_to_nested\n",
    "from sktime.transformations.panel.rocket import Rocket\n",
    "\n",
    "warnings.filterwarnings('ignore')\n",
    "pd.set_option(\"display.max_rows\", 100)"
   ]
  },
  {
   "cell_type": "code",
   "execution_count": 2,
   "metadata": {},
   "outputs": [
    {
     "data": {
      "text/plain": [
       "110"
      ]
     },
     "execution_count": 2,
     "metadata": {},
     "output_type": "execute_result"
    }
   ],
   "source": [
    "# Opening up file containing GWAS data and reading in\n",
    "\n",
    "file = open(\"Second_GWAS/Second_GWAS_Add.raw\", \"r\")\n",
    "lines = file.readlines()\n",
    "len(lines)"
   ]
  },
  {
   "cell_type": "code",
   "execution_count": 3,
   "metadata": {},
   "outputs": [],
   "source": [
    "# Loading GWAS data into DF in the correct format\n",
    "\n",
    "columns = lines[0].strip(\"\\n\").split(\" \")\n",
    "columns = [n.split(\"_\", 1)[0] for n in columns]\n",
    "\n",
    "df = pd.DataFrame(columns=columns)\n",
    "data = []\n",
    "\n",
    "for line in lines[1:]:\n",
    "    newRow = line.strip(\"\\n\").split(\" \")\n",
    "    for position in range(0, len(newRow)):\n",
    "        if newRow[position] == \"0\":\n",
    "            newRow[position] = \"2\"\n",
    "        elif newRow[position] == \"2\":\n",
    "            newRow[position] = \"0\"\n",
    "        \n",
    "    data.append(newRow)\n",
    "\n",
    "df = pd.DataFrame(data, columns=columns)"
   ]
  },
  {
   "cell_type": "code",
   "execution_count": 4,
   "metadata": {},
   "outputs": [
    {
     "data": {
      "text/plain": [
       "1    55\n",
       "0    54\n",
       "Name: PHENOTYPE, dtype: int64"
      ]
     },
     "execution_count": 4,
     "metadata": {},
     "output_type": "execute_result"
    }
   ],
   "source": [
    "# Checking to see split between cases and controls\n",
    "\n",
    "df[\"PHENOTYPE\"].value_counts()"
   ]
  },
  {
   "cell_type": "code",
   "execution_count": 5,
   "metadata": {},
   "outputs": [
    {
     "data": {
      "text/plain": [
       "(109, 41313)"
      ]
     },
     "execution_count": 5,
     "metadata": {},
     "output_type": "execute_result"
    }
   ],
   "source": [
    "# Printing shape of df\n",
    "\n",
    "df.shape"
   ]
  },
  {
   "cell_type": "code",
   "execution_count": 6,
   "metadata": {},
   "outputs": [
    {
     "data": {
      "text/plain": [
       "Index(['FID', 'IID', 'PAT', 'MAT', 'SEX', 'PHENOTYPE', 'rs7433861',\n",
       "       'rs1166974', 'rs1166975', 'rs10446372',\n",
       "       ...\n",
       "       'rs4030335', 'rs7374010', 'rs9877345', 'rs7373662', 'rs12630742',\n",
       "       'rs11916265', 'rs7374354', 'rs9325418', 'rs9325420', 'rs10154902'],\n",
       "      dtype='object', length=41313)"
      ]
     },
     "execution_count": 6,
     "metadata": {},
     "output_type": "execute_result"
    }
   ],
   "source": [
    "# Printing shape of df\n",
    "\n",
    "df.columns"
   ]
  },
  {
   "cell_type": "code",
   "execution_count": 7,
   "metadata": {},
   "outputs": [],
   "source": [
    "df[\"PHENOTYPE\"] = df[\"PHENOTYPE\"].replace(\"0\",\"case\")\n",
    "df[\"PHENOTYPE\"] = df[\"PHENOTYPE\"].replace(\"1\",\"control\")"
   ]
  },
  {
   "cell_type": "code",
   "execution_count": 8,
   "metadata": {},
   "outputs": [],
   "source": [
    "# Dropping columns and seperating phenotype column\n",
    "phenotype = df.pop(\"PHENOTYPE\")\n",
    "dfTest = df.drop(columns=[\"FID\",\"IID\",\"PAT\",\"MAT\",\"SEX\"])"
   ]
  },
  {
   "cell_type": "code",
   "execution_count": 9,
   "metadata": {},
   "outputs": [],
   "source": [
    "# Replacing missing values in df with most common allele for \n",
    "\n",
    "imp = SimpleImputer(missing_values=\"NA\", strategy=\"most_frequent\")\n",
    "idf = pd.DataFrame(imp.fit_transform(dfTest))\n",
    "idf.columns = dfTest.columns"
   ]
  },
  {
   "cell_type": "code",
   "execution_count": 10,
   "metadata": {},
   "outputs": [],
   "source": [
    "# Converting columns to be numberical\n",
    "\n",
    "dfTest = idf.apply(pd.to_numeric)"
   ]
  },
  {
   "cell_type": "code",
   "execution_count": 11,
   "metadata": {},
   "outputs": [],
   "source": [
    "dfTranspose = dfTest.T"
   ]
  },
  {
   "cell_type": "code",
   "execution_count": 12,
   "metadata": {},
   "outputs": [
    {
     "data": {
      "text/plain": [
       "'case'"
      ]
     },
     "execution_count": 12,
     "metadata": {},
     "output_type": "execute_result"
    },
    {
     "data": {
      "image/png": "[encoded data removed]",
      "text/plain": [
       "<Figure size 432x288 with 1 Axes>"
      ]
     },
     "metadata": {
      "needs_background": "light"
     },
     "output_type": "display_data"
    }
   ],
   "source": [
    "plt.xticks([])\n",
    "plt.plot(dfTranspose[0][0:100], color=\"tab:blue\")\n",
    "phenotype[0]"
   ]
  },
  {
   "cell_type": "code",
   "execution_count": 13,
   "metadata": {},
   "outputs": [],
   "source": [
    "# Splitting data into training data and testing data\n",
    "\n",
    "xTrain, xTtest, yTrain, yTest = train_test_split(dfTest, phenotype, train_size=0.7, random_state=1)"
   ]
  },
  {
   "cell_type": "code",
   "execution_count": 14,
   "metadata": {},
   "outputs": [],
   "source": [
    "# Finding hyperparameters for RandomForst\n",
    "\n",
    "#bootstrap = [True, False]\n",
    "#maxDepth = list(range(10,110,10))\n",
    "#maxFeatures = [\"auto\", \"sqrt\"]\n",
    "#minSamplesLeaf = [1,2,3,4]\n",
    "#minSamplesSplit = [2,3,5]\n",
    "#nEstimators = list(range(100,1100,100))\n",
    "\n",
    "#hyperparameters = dict(bootstrap=bootstrap, max_depth=maxDepth, max_features=maxFeatures, min_samples_leaf=minSamplesLeaf,\n",
    "#                       min_samples_split=minSamplesSplit, n_estimators=nEstimators)\n",
    "\n",
    "#rfd = RandomForestClassifier()\n",
    "\n",
    "#clf = GridSearchCV(rfd, hyperparameters, cv=10)\n",
    "\n",
    "#bestModel = clf.fit(dfTest, phenotype)\n",
    "#print('Best bootstrap:', bestModel.best_estimator_.get_params()['bootstrap'])\n",
    "#print('Best max_depth:', bestModel.best_estimator_.get_params()['max_depth'])\n",
    "#print('Best max_features:', bestModel.best_estimator_.get_params()['max_features'])\n",
    "#print('Best min_samples_leaf:', bestModel.best_estimator_.get_params()['min_samples_leaf'])\n",
    "#print('Best min_samples_split:', bestModel.best_estimator_.get_params()['min_samples_split'])\n",
    "#print('Best n_estimators:', bestModel.best_estimator_.get_params()['n_estimators'])"
   ]
  },
  {
   "cell_type": "code",
   "execution_count": 15,
   "metadata": {},
   "outputs": [
    {
     "name": "stdout",
     "output_type": "stream",
     "text": [
      "Training accuracy score: 1.0\n",
      "Testing accuracy score: 0.5454545454545454\n",
      "[[10  3]\n",
      " [12  8]]\n",
      "              precision    recall  f1-score   support\n",
      "\n",
      "        case       0.45      0.77      0.57        13\n",
      "     control       0.73      0.40      0.52        20\n",
      "\n",
      "    accuracy                           0.55        33\n",
      "   macro avg       0.59      0.58      0.54        33\n",
      "weighted avg       0.62      0.55      0.54        33\n",
      "\n"
     ]
    }
   ],
   "source": [
    "rfc = RandomForestClassifier()\n",
    "rfc.fit(xTrain, yTrain)\n",
    "yPredicted = rfc.predict(xTrain)\n",
    "print(\"Training accuracy score: {}\".format(accuracy_score(yTrain, yPredicted)))\n",
    "yPredicted = rfc.predict(xTtest)\n",
    "print(\"Testing accuracy score: {}\".format(accuracy_score(yTest, yPredicted)))\n",
    "print(confusion_matrix(yTest, yPredicted))\n",
    "print(classification_report(yTest, yPredicted))"
   ]
  },
  {
   "cell_type": "code",
   "execution_count": 16,
   "metadata": {},
   "outputs": [],
   "source": [
    "# Converting df to array structure\n",
    "\n",
    "dfTestSeries = from_2d_array_to_nested(dfTest)"
   ]
  },
  {
   "cell_type": "code",
   "execution_count": 17,
   "metadata": {},
   "outputs": [],
   "source": [
    "# Splitting time series data into training data and testing data\n",
    "\n",
    "xTrain, xTest, yTrain, yTest = train_test_split(dfTestSeries, phenotype, train_size=0.7, random_state=1)"
   ]
  },
  {
   "cell_type": "code",
   "execution_count": 18,
   "metadata": {},
   "outputs": [],
   "source": [
    "# Extracting values from training split\n",
    "\n",
    "#yTrain = yTrain.values\n",
    "#yTest = yTest.values\n",
    "\n",
    "#xTrain = xTrain.reset_index()\n",
    "#xTrain = xTrain.drop(columns=[\"index\"])\n",
    "\n",
    "#xTest = xTest.reset_index()\n",
    "#xTest = xTest.drop(columns=[\"index\"])"
   ]
  },
  {
   "cell_type": "code",
   "execution_count": 19,
   "metadata": {},
   "outputs": [
    {
     "name": "stdout",
     "output_type": "stream",
     "text": [
      "Accuracy with Rocket: 0.455\n",
      "[[11  2]\n",
      " [16  4]]\n",
      "              precision    recall  f1-score   support\n",
      "\n",
      "        case       0.41      0.85      0.55        13\n",
      "     control       0.67      0.20      0.31        20\n",
      "\n",
      "    accuracy                           0.45        33\n",
      "   macro avg       0.54      0.52      0.43        33\n",
      "weighted avg       0.56      0.45      0.40        33\n",
      "\n"
     ]
    }
   ],
   "source": [
    "# Classifying GWAS data using MiniRocket\n",
    "\n",
    "minirocket = MiniRocket()\n",
    "minirocket.fit(xTrain)\n",
    "xTrainTransform = minirocket.transform(xTrain)\n",
    "\n",
    "classifier = RidgeClassifierCV(alphas=np.logspace(-3, 3, 10), normalize=True)\n",
    "classifier.fit(xTrainTransform, yTrain)\n",
    "\n",
    "xTestTransform = minirocket.transform(xTest)\n",
    "yPredict = classifier.predict(xTestTransform)\n",
    "\n",
    "print(\"Accuracy with Rocket: %2.3f\" % accuracy_score(yTest, yPredict))\n",
    "print(confusion_matrix(yTest, yPredict))\n",
    "print(classification_report(yTest, yPredict))"
   ]
  },
  {
   "cell_type": "code",
   "execution_count": 20,
   "metadata": {},
   "outputs": [],
   "source": [
    "# Classifying GWAS data using MrSEQL\n",
    "\n",
    "#ms = MrSEQLClassifier(seql_mode=\"clf\")\n",
    "#ms.fit(xTrain, yTrain)\n",
    "#yPredict = ms.predict(xTest)\n",
    "#print(\"Accuracy with MrSEQL: %2.3f\" % metrics.accuracy_score(yTest, yPredict))\n",
    "#print(confusion_matrix(yTest, yPredict))\n",
    "#print(classification_report(yTest, yPredict))"
   ]
  },
  {
   "cell_type": "code",
   "execution_count": 21,
   "metadata": {},
   "outputs": [
    {
     "ename": "IndexError",
     "evalue": "index 99 is out of bounds for axis 0 with size 1",
     "output_type": "error",
     "traceback": [
      "\u001b[1;31m---------------------------------------------------------------------------\u001b[0m",
      "\u001b[1;31mIndexError\u001b[0m                                Traceback (most recent call last)",
      "\u001b[1;32m~\\anaconda3\\lib\\site-packages\\pandas\\core\\indexes\\range.py\u001b[0m in \u001b[0;36m__getitem__\u001b[1;34m(self, key)\u001b[0m\n\u001b[0;32m    825\u001b[0m             \u001b[1;32mtry\u001b[0m\u001b[1;33m:\u001b[0m\u001b[1;33m\u001b[0m\u001b[1;33m\u001b[0m\u001b[0m\n\u001b[1;32m--> 826\u001b[1;33m                 \u001b[1;32mreturn\u001b[0m \u001b[0mself\u001b[0m\u001b[1;33m.\u001b[0m\u001b[0m_range\u001b[0m\u001b[1;33m[\u001b[0m\u001b[0mnew_key\u001b[0m\u001b[1;33m]\u001b[0m\u001b[1;33m\u001b[0m\u001b[1;33m\u001b[0m\u001b[0m\n\u001b[0m\u001b[0;32m    827\u001b[0m             \u001b[1;32mexcept\u001b[0m \u001b[0mIndexError\u001b[0m \u001b[1;32mas\u001b[0m \u001b[0merr\u001b[0m\u001b[1;33m:\u001b[0m\u001b[1;33m\u001b[0m\u001b[1;33m\u001b[0m\u001b[0m\n",
      "\u001b[1;31mIndexError\u001b[0m: range object index out of range",
      "\nThe above exception was the direct cause of the following exception:\n",
      "\u001b[1;31mIndexError\u001b[0m                                Traceback (most recent call last)",
      "\u001b[1;32m~\\AppData\\Local\\Temp/ipykernel_17516/461043086.py\u001b[0m in \u001b[0;36m<module>\u001b[1;34m\u001b[0m\n\u001b[1;32m----> 1\u001b[1;33m \u001b[0mxTrain\u001b[0m\u001b[1;33m.\u001b[0m\u001b[0miloc\u001b[0m\u001b[1;33m[\u001b[0m\u001b[1;33m:\u001b[0m\u001b[1;33m,\u001b[0m\u001b[1;36m0\u001b[0m\u001b[1;33m:\u001b[0m\u001b[1;36m100\u001b[0m\u001b[1;33m]\u001b[0m\u001b[1;33m.\u001b[0m\u001b[0mcolumns\u001b[0m\u001b[1;33m[\u001b[0m\u001b[1;36m99\u001b[0m\u001b[1;33m]\u001b[0m\u001b[1;33m\u001b[0m\u001b[1;33m\u001b[0m\u001b[0m\n\u001b[0m",
      "\u001b[1;32m~\\anaconda3\\lib\\site-packages\\pandas\\core\\indexes\\range.py\u001b[0m in \u001b[0;36m__getitem__\u001b[1;34m(self, key)\u001b[0m\n\u001b[0;32m    826\u001b[0m                 \u001b[1;32mreturn\u001b[0m \u001b[0mself\u001b[0m\u001b[1;33m.\u001b[0m\u001b[0m_range\u001b[0m\u001b[1;33m[\u001b[0m\u001b[0mnew_key\u001b[0m\u001b[1;33m]\u001b[0m\u001b[1;33m\u001b[0m\u001b[1;33m\u001b[0m\u001b[0m\n\u001b[0;32m    827\u001b[0m             \u001b[1;32mexcept\u001b[0m \u001b[0mIndexError\u001b[0m \u001b[1;32mas\u001b[0m \u001b[0merr\u001b[0m\u001b[1;33m:\u001b[0m\u001b[1;33m\u001b[0m\u001b[1;33m\u001b[0m\u001b[0m\n\u001b[1;32m--> 828\u001b[1;33m                 raise IndexError(\n\u001b[0m\u001b[0;32m    829\u001b[0m                     \u001b[1;34mf\"index {key} is out of bounds for axis 0 with size {len(self)}\"\u001b[0m\u001b[1;33m\u001b[0m\u001b[1;33m\u001b[0m\u001b[0m\n\u001b[0;32m    830\u001b[0m                 ) from err\n",
      "\u001b[1;31mIndexError\u001b[0m: index 99 is out of bounds for axis 0 with size 1"
     ]
    }
   ],
   "source": [
    "#xTrain.iloc[:,0:100].columns[99]"
   ]
  },
  {
   "cell_type": "code",
   "execution_count": 22,
   "metadata": {},
   "outputs": [
    {
     "name": "stdout",
     "output_type": "stream",
     "text": [
      "Run:0 Accuracy:0.625\n",
      "Run:1 Accuracy:0.5625\n",
      "Run:2 Accuracy:0.625\n",
      "Run:3 Accuracy:0.4375\n",
      "Run:4 Accuracy:0.4375\n",
      "Run:5 Accuracy:0.5625\n",
      "Run:6 Accuracy:0.5\n",
      "Run:7 Accuracy:0.625\n",
      "Run:8 Accuracy:0.5625\n",
      "Run:9 Accuracy:0.4375\n",
      "Run:10 Accuracy:0.5625\n",
      "Run:11 Accuracy:0.4375\n",
      "Run:12 Accuracy:0.625\n",
      "Run:13 Accuracy:0.375\n",
      "Run:14 Accuracy:0.375\n",
      "Run:15 Accuracy:0.5625\n",
      "Run:16 Accuracy:0.5625\n",
      "Run:17 Accuracy:0.6875\n",
      "Run:18 Accuracy:0.625\n",
      "Run:19 Accuracy:0.625\n",
      "Run:20 Accuracy:0.5625\n",
      "Run:21 Accuracy:0.375\n",
      "Run:22 Accuracy:0.4375\n",
      "Run:23 Accuracy:0.3125\n",
      "Run:24 Accuracy:0.6875\n",
      "Run:25 Accuracy:0.75\n",
      "Run:26 Accuracy:0.4375\n",
      "Run:27 Accuracy:0.4375\n",
      "Run:28 Accuracy:0.6875\n",
      "Run:29 Accuracy:0.3125\n",
      "Run:30 Accuracy:0.5625\n",
      "Run:31 Accuracy:0.4375\n",
      "Run:32 Accuracy:0.5\n",
      "Run:33 Accuracy:0.3125\n",
      "Run:34 Accuracy:0.5625\n",
      "Run:35 Accuracy:0.5\n",
      "Run:36 Accuracy:0.4375\n",
      "Run:37 Accuracy:0.5\n",
      "Run:38 Accuracy:0.5\n",
      "Run:39 Accuracy:0.5\n",
      "Run:40 Accuracy:0.75\n",
      "Run:41 Accuracy:0.5625\n",
      "Run:42 Accuracy:0.4375\n",
      "Run:43 Accuracy:0.5625\n",
      "Run:44 Accuracy:0.5625\n",
      "Run:45 Accuracy:0.6875\n",
      "Run:46 Accuracy:0.5\n",
      "Run:47 Accuracy:0.5625\n",
      "Run:48 Accuracy:0.5625\n",
      "Run:49 Accuracy:0.4375\n",
      "Run:50 Accuracy:0.4375\n",
      "Run:51 Accuracy:0.375\n",
      "Run:52 Accuracy:0.5625\n",
      "Run:53 Accuracy:0.75\n",
      "Run:54 Accuracy:0.75\n",
      "Run:55 Accuracy:0.625\n",
      "Run:56 Accuracy:0.625\n",
      "Run:57 Accuracy:0.5\n",
      "Run:58 Accuracy:0.625\n",
      "Run:59 Accuracy:0.5\n",
      "Run:60 Accuracy:0.5\n",
      "Run:61 Accuracy:0.375\n",
      "Run:62 Accuracy:0.625\n",
      "Run:63 Accuracy:0.5625\n",
      "Run:64 Accuracy:0.5625\n",
      "Run:65 Accuracy:0.625\n",
      "Run:66 Accuracy:0.5\n",
      "Run:67 Accuracy:0.5625\n",
      "Run:68 Accuracy:0.5\n",
      "Run:69 Accuracy:0.5\n",
      "Run:70 Accuracy:0.5\n",
      "Run:71 Accuracy:0.375\n",
      "Run:72 Accuracy:0.75\n",
      "Run:73 Accuracy:0.375\n",
      "Run:74 Accuracy:0.4375\n",
      "Run:75 Accuracy:0.5\n",
      "Run:76 Accuracy:0.6875\n",
      "Run:77 Accuracy:0.375\n",
      "Run:78 Accuracy:0.5\n",
      "Run:79 Accuracy:0.4375\n",
      "Run:80 Accuracy:0.4375\n",
      "Run:81 Accuracy:0.4375\n",
      "Run:82 Accuracy:0.5\n",
      "Run:83 Accuracy:0.375\n",
      "Run:84 Accuracy:0.4375\n",
      "Run:85 Accuracy:0.5\n",
      "Run:86 Accuracy:0.5\n",
      "Run:87 Accuracy:0.5\n",
      "Run:88 Accuracy:0.625\n",
      "Run:89 Accuracy:0.625\n",
      "Run:90 Accuracy:0.625\n",
      "Run:91 Accuracy:0.5\n",
      "Run:92 Accuracy:0.625\n",
      "Run:93 Accuracy:0.5\n",
      "Run:94 Accuracy:0.5625\n",
      "Run:95 Accuracy:0.3125\n",
      "Run:96 Accuracy:0.5\n",
      "Run:97 Accuracy:0.375\n",
      "Run:98 Accuracy:0.3125\n",
      "Run:99 Accuracy:0.5625\n",
      "Run:100 Accuracy:0.5625\n",
      "Run:101 Accuracy:0.3125\n",
      "Run:102 Accuracy:0.5\n",
      "Run:103 Accuracy:0.5\n",
      "Run:104 Accuracy:0.5625\n",
      "Run:105 Accuracy:0.4375\n",
      "Run:106 Accuracy:0.5625\n",
      "Run:107 Accuracy:0.5625\n",
      "Run:108 Accuracy:0.625\n",
      "Run:109 Accuracy:0.625\n",
      "Run:110 Accuracy:0.4375\n",
      "Run:111 Accuracy:0.5\n",
      "Run:112 Accuracy:0.5\n",
      "Run:113 Accuracy:0.4375\n",
      "Run:114 Accuracy:0.5625\n",
      "Run:115 Accuracy:0.5625\n",
      "Run:116 Accuracy:0.4375\n",
      "Run:117 Accuracy:0.4375\n",
      "Run:118 Accuracy:0.375\n",
      "Run:119 Accuracy:0.5\n",
      "Run:120 Accuracy:0.375\n",
      "Run:121 Accuracy:0.4375\n",
      "Run:122 Accuracy:0.5625\n",
      "Run:123 Accuracy:0.4375\n",
      "Run:124 Accuracy:0.5\n",
      "Run:125 Accuracy:0.5625\n",
      "Run:126 Accuracy:0.5625\n",
      "Run:127 Accuracy:0.625\n",
      "Run:128 Accuracy:0.5\n",
      "Run:129 Accuracy:0.4375\n",
      "Run:130 Accuracy:0.5625\n",
      "Run:131 Accuracy:0.375\n",
      "Run:132 Accuracy:0.4375\n",
      "Run:133 Accuracy:0.5\n",
      "Run:134 Accuracy:0.3125\n",
      "Run:135 Accuracy:0.5\n",
      "Run:136 Accuracy:0.4375\n",
      "Run:137 Accuracy:0.4375\n",
      "Run:138 Accuracy:0.4375\n",
      "Run:139 Accuracy:0.4375\n",
      "Run:140 Accuracy:0.3125\n",
      "Run:141 Accuracy:0.6875\n",
      "Run:142 Accuracy:0.5\n",
      "Run:143 Accuracy:0.625\n",
      "Run:144 Accuracy:0.625\n",
      "Run:145 Accuracy:0.4375\n",
      "Run:146 Accuracy:0.5625\n",
      "Run:147 Accuracy:0.4375\n",
      "Run:148 Accuracy:0.5625\n",
      "Run:149 Accuracy:0.625\n",
      "Run:150 Accuracy:0.5\n",
      "Run:151 Accuracy:0.5\n",
      "Run:152 Accuracy:0.5\n",
      "Run:153 Accuracy:0.625\n",
      "Run:154 Accuracy:0.6875\n",
      "Run:155 Accuracy:0.625\n",
      "Run:156 Accuracy:0.5625\n",
      "Run:157 Accuracy:0.5\n",
      "Run:158 Accuracy:0.4375\n",
      "Run:159 Accuracy:0.5\n",
      "Run:160 Accuracy:0.625\n",
      "Run:161 Accuracy:0.5\n",
      "Run:162 Accuracy:0.625\n",
      "Run:163 Accuracy:0.5\n",
      "Run:164 Accuracy:0.4375\n",
      "Run:165 Accuracy:0.5\n",
      "Run:166 Accuracy:0.5625\n",
      "Run:167 Accuracy:0.4375\n",
      "Run:168 Accuracy:0.5625\n",
      "Run:169 Accuracy:0.4375\n",
      "Run:170 Accuracy:0.6875\n",
      "Run:171 Accuracy:0.4375\n",
      "Run:172 Accuracy:0.4375\n",
      "Run:173 Accuracy:0.5\n",
      "Run:174 Accuracy:0.5625\n",
      "Run:175 Accuracy:0.5625\n",
      "Run:176 Accuracy:0.6875\n",
      "Run:177 Accuracy:0.4375\n",
      "Run:178 Accuracy:0.5\n",
      "Run:179 Accuracy:0.5\n",
      "Run:180 Accuracy:0.625\n",
      "Run:181 Accuracy:0.5\n",
      "Run:182 Accuracy:0.5625\n",
      "Run:183 Accuracy:0.4375\n",
      "Run:184 Accuracy:0.5625\n",
      "Run:185 Accuracy:0.5\n",
      "Run:186 Accuracy:0.625\n",
      "Run:187 Accuracy:0.5625\n",
      "Run:188 Accuracy:0.5625\n",
      "Run:189 Accuracy:0.625\n",
      "Run:190 Accuracy:0.5625\n",
      "Run:191 Accuracy:0.5\n",
      "Run:192 Accuracy:0.5625\n",
      "Run:193 Accuracy:0.4375\n",
      "Run:194 Accuracy:0.375\n",
      "Run:195 Accuracy:0.4375\n",
      "Run:196 Accuracy:0.4375\n",
      "Run:197 Accuracy:0.625\n",
      "Run:198 Accuracy:0.375\n",
      "Run:199 Accuracy:0.4375\n",
      "Run:200 Accuracy:0.6875\n",
      "Run:201 Accuracy:0.625\n",
      "Run:202 Accuracy:0.4375\n",
      "Run:203 Accuracy:0.5625\n",
      "Run:204 Accuracy:0.375\n",
      "Run:205 Accuracy:0.5\n",
      "Run:206 Accuracy:0.375\n",
      "Run:207 Accuracy:0.625\n",
      "Run:208 Accuracy:0.4375\n",
      "Run:209 Accuracy:0.625\n",
      "Run:210 Accuracy:0.4375\n",
      "Run:211 Accuracy:0.5625\n",
      "Run:212 Accuracy:0.5625\n",
      "Run:213 Accuracy:0.375\n",
      "Run:214 Accuracy:0.4375\n",
      "Run:215 Accuracy:0.5\n",
      "Run:216 Accuracy:0.5\n",
      "Run:217 Accuracy:0.6875\n",
      "Run:218 Accuracy:0.375\n",
      "Run:219 Accuracy:0.5625\n",
      "Run:220 Accuracy:0.5\n",
      "Run:221 Accuracy:0.5\n",
      "Run:222 Accuracy:0.5\n",
      "Run:223 Accuracy:0.5625\n",
      "Run:224 Accuracy:0.4375\n",
      "Run:225 Accuracy:0.5625\n",
      "Run:226 Accuracy:0.3125\n",
      "Run:227 Accuracy:0.5625\n",
      "Run:228 Accuracy:0.375\n",
      "Run:229 Accuracy:0.5\n",
      "Run:230 Accuracy:0.3125\n",
      "Run:231 Accuracy:0.4375\n",
      "Run:232 Accuracy:0.6875\n",
      "Run:233 Accuracy:0.625\n",
      "Run:234 Accuracy:0.5625\n",
      "Run:235 Accuracy:0.6875\n",
      "Run:236 Accuracy:0.5\n",
      "Run:237 Accuracy:0.625\n",
      "Run:238 Accuracy:0.5\n",
      "Run:239 Accuracy:0.5\n",
      "Run:240 Accuracy:0.5\n",
      "Run:241 Accuracy:0.375\n",
      "Run:242 Accuracy:0.5625\n",
      "Run:243 Accuracy:0.5\n",
      "Run:244 Accuracy:0.4375\n",
      "Run:245 Accuracy:0.4375\n",
      "Run:246 Accuracy:0.375\n",
      "Run:247 Accuracy:0.375\n",
      "Run:248 Accuracy:0.375\n",
      "Run:249 Accuracy:0.5625\n",
      "Run:250 Accuracy:0.4375\n",
      "Run:251 Accuracy:0.5\n",
      "Run:252 Accuracy:0.5\n",
      "Run:253 Accuracy:0.5\n",
      "Run:254 Accuracy:0.5625\n",
      "Run:255 Accuracy:0.625\n",
      "Run:256 Accuracy:0.5625\n",
      "Run:257 Accuracy:0.5\n",
      "Run:258 Accuracy:0.5625\n",
      "Run:259 Accuracy:0.4375\n",
      "Run:260 Accuracy:0.375\n",
      "Run:261 Accuracy:0.625\n",
      "Run:262 Accuracy:0.4375\n",
      "Run:263 Accuracy:0.5625\n",
      "Run:264 Accuracy:0.375\n",
      "Run:265 Accuracy:0.5\n",
      "Run:266 Accuracy:0.5625\n",
      "Run:267 Accuracy:0.375\n",
      "Run:268 Accuracy:0.4375\n",
      "Run:269 Accuracy:0.5\n",
      "Run:270 Accuracy:0.4375\n",
      "Run:271 Accuracy:0.5\n",
      "Run:272 Accuracy:0.4375\n",
      "Run:273 Accuracy:0.25\n",
      "Run:274 Accuracy:0.6875\n",
      "Run:275 Accuracy:0.5\n",
      "Run:276 Accuracy:0.5\n",
      "Run:277 Accuracy:0.3125\n",
      "Run:278 Accuracy:0.5625\n",
      "Run:279 Accuracy:0.4375\n",
      "Run:280 Accuracy:0.4375\n",
      "Run:281 Accuracy:0.4375\n",
      "Run:282 Accuracy:0.3125\n",
      "Run:283 Accuracy:0.4375\n",
      "Run:284 Accuracy:0.5\n",
      "Run:285 Accuracy:0.5\n",
      "Run:286 Accuracy:0.5\n",
      "Run:287 Accuracy:0.5625\n",
      "Run:288 Accuracy:0.4375\n",
      "Run:289 Accuracy:0.375\n",
      "Run:290 Accuracy:0.4375\n",
      "Run:291 Accuracy:0.3125\n",
      "Run:292 Accuracy:0.5\n",
      "Run:293 Accuracy:0.3125\n",
      "Run:294 Accuracy:0.375\n",
      "Run:295 Accuracy:0.375\n",
      "Run:296 Accuracy:0.5625\n",
      "Run:297 Accuracy:0.25\n",
      "Run:298 Accuracy:0.625\n",
      "Run:299 Accuracy:0.625\n",
      "Run:300 Accuracy:0.4375\n",
      "Run:301 Accuracy:0.375\n",
      "Run:302 Accuracy:0.5625\n",
      "Run:303 Accuracy:0.5\n",
      "Run:304 Accuracy:0.5\n",
      "Run:305 Accuracy:0.625\n",
      "Run:306 Accuracy:0.5625\n",
      "Run:307 Accuracy:0.5625\n",
      "Run:308 Accuracy:0.5\n",
      "Run:309 Accuracy:0.4375\n",
      "Run:310 Accuracy:0.4375\n",
      "Run:311 Accuracy:0.5\n",
      "Run:312 Accuracy:0.5\n",
      "Run:313 Accuracy:0.4375\n",
      "Run:314 Accuracy:0.5\n",
      "Run:315 Accuracy:0.5625\n",
      "Run:316 Accuracy:0.4375\n",
      "Run:317 Accuracy:0.4375\n",
      "Run:318 Accuracy:0.4375\n",
      "Run:319 Accuracy:0.375\n",
      "Run:320 Accuracy:0.625\n",
      "Run:321 Accuracy:0.6875\n",
      "Run:322 Accuracy:0.75\n",
      "Run:323 Accuracy:0.6875\n",
      "Run:324 Accuracy:0.5625\n",
      "Run:325 Accuracy:0.5\n",
      "Run:326 Accuracy:0.6875\n",
      "Run:327 Accuracy:0.5\n",
      "Run:328 Accuracy:0.5\n",
      "Run:329 Accuracy:0.5625\n",
      "Run:330 Accuracy:0.625\n",
      "Run:331 Accuracy:0.5\n",
      "Run:332 Accuracy:0.5\n",
      "Run:333 Accuracy:0.4375\n",
      "Run:334 Accuracy:0.3125\n",
      "Run:335 Accuracy:0.6875\n",
      "Run:336 Accuracy:0.5\n",
      "Run:337 Accuracy:0.6875\n",
      "Run:338 Accuracy:0.5\n",
      "Run:339 Accuracy:0.4375\n",
      "Run:340 Accuracy:0.4375\n",
      "Run:341 Accuracy:0.5\n",
      "Run:342 Accuracy:0.4375\n",
      "Run:343 Accuracy:0.5\n",
      "Run:344 Accuracy:0.625\n",
      "Run:345 Accuracy:0.4375\n",
      "Run:346 Accuracy:0.5\n",
      "Run:347 Accuracy:0.4375\n",
      "Run:348 Accuracy:0.4375\n",
      "Run:349 Accuracy:0.375\n",
      "Run:350 Accuracy:0.5625\n",
      "Run:351 Accuracy:0.625\n",
      "Run:352 Accuracy:0.625\n",
      "Run:353 Accuracy:0.5625\n",
      "Run:354 Accuracy:0.5625\n",
      "Run:355 Accuracy:0.375\n",
      "Run:356 Accuracy:0.5\n",
      "Run:357 Accuracy:0.5\n",
      "Run:358 Accuracy:0.5\n",
      "Run:359 Accuracy:0.375\n",
      "Run:360 Accuracy:0.5625\n",
      "Run:361 Accuracy:0.25\n"
     ]
    },
    {
     "name": "stdout",
     "output_type": "stream",
     "text": [
      "Run:362 Accuracy:0.75\n",
      "Run:363 Accuracy:0.4375\n",
      "Run:364 Accuracy:0.625\n",
      "Run:365 Accuracy:0.5\n",
      "Run:366 Accuracy:0.6875\n",
      "Run:367 Accuracy:0.625\n",
      "Run:368 Accuracy:0.4375\n",
      "Run:369 Accuracy:0.75\n",
      "Run:370 Accuracy:0.375\n",
      "Run:371 Accuracy:0.5\n",
      "Run:372 Accuracy:0.5625\n",
      "Run:373 Accuracy:0.6875\n",
      "Run:374 Accuracy:0.4375\n",
      "Run:375 Accuracy:0.375\n",
      "Run:376 Accuracy:0.5625\n",
      "Run:377 Accuracy:0.5\n",
      "Run:378 Accuracy:0.5625\n",
      "Run:379 Accuracy:0.6875\n",
      "Run:380 Accuracy:0.5625\n",
      "Run:381 Accuracy:0.5\n",
      "Run:382 Accuracy:0.5625\n",
      "Run:383 Accuracy:0.4375\n",
      "Run:384 Accuracy:0.5\n",
      "Run:385 Accuracy:0.5625\n",
      "Run:386 Accuracy:0.5625\n",
      "Run:387 Accuracy:0.5\n",
      "Run:388 Accuracy:0.5\n",
      "Run:389 Accuracy:0.5\n",
      "Run:390 Accuracy:0.625\n",
      "Run:391 Accuracy:0.5625\n",
      "Run:392 Accuracy:0.375\n",
      "Run:393 Accuracy:0.6875\n",
      "Run:394 Accuracy:0.5\n",
      "Run:395 Accuracy:0.625\n",
      "Run:396 Accuracy:0.3125\n",
      "Run:397 Accuracy:0.5\n",
      "Run:398 Accuracy:0.5\n",
      "Run:399 Accuracy:0.5625\n",
      "Run:400 Accuracy:0.625\n",
      "Run:401 Accuracy:0.6875\n",
      "Run:402 Accuracy:0.5\n",
      "Run:403 Accuracy:0.375\n",
      "Run:404 Accuracy:0.5\n",
      "Run:405 Accuracy:0.625\n",
      "Run:406 Accuracy:0.5625\n",
      "Run:407 Accuracy:0.5625\n",
      "Run:408 Accuracy:0.3125\n",
      "Run:409 Accuracy:0.4375\n",
      "Run:410 Accuracy:0.25\n",
      "Run:411 Accuracy:0.5625\n",
      "Run:412 Accuracy:0.5625\n"
     ]
    }
   ],
   "source": [
    "validationScores = []\n",
    "\n",
    "xTrain, xRemain, yTrain, yRemain = train_test_split(dfTest, phenotype, train_size=0.7, random_state=1)\n",
    "xValidate, xTest, yValidate, yTest = train_test_split(xRemain, yRemain, train_size=0.5, random_state=1)\n",
    "\n",
    "for n in range(0,413):\n",
    "    \n",
    "    windowStart = n * 100\n",
    "    windowEnd = windowStart + 100 # size 100 instead of 99 for .iloc\n",
    "    \n",
    "    xTrainWindow = xTrain.iloc[:,windowStart:windowEnd]\n",
    "    xValidateWindow = xValidate.iloc[:,windowStart:windowEnd]\n",
    "\n",
    "    xTrainWindowSeries = from_2d_array_to_nested(xTrainWindow)\n",
    "    xValidateWindowSeries = from_2d_array_to_nested(xValidateWindow)\n",
    "    \n",
    "    minirocket = MiniRocket()\n",
    "    minirocket.fit(xTrainWindowSeries)\n",
    "    xTrainTransform = minirocket.transform(xTrainWindowSeries)\n",
    "    \n",
    "    classifier = RidgeClassifierCV(alphas=np.logspace(-3, 3, 10), normalize=True)\n",
    "    classifier.fit(xTrainTransform, yTrain)\n",
    "    \n",
    "    xValidateTransform = minirocket.transform(xValidateWindowSeries)\n",
    "    score = classifier.score(xValidateTransform, yValidate)\n",
    "    print(f\"Run:{n} Accuracy:{score}\")\n",
    "    validationScores.append(classifier.score(xValidateTransform, yValidate))"
   ]
  },
  {
   "cell_type": "code",
   "execution_count": 23,
   "metadata": {},
   "outputs": [
    {
     "data": {
      "text/plain": [
       "[25, 40, 53, 54, 72, 322, 362, 369]"
      ]
     },
     "execution_count": 23,
     "metadata": {},
     "output_type": "execute_result"
    }
   ],
   "source": [
    "[n for n in range(len(validationScores)) if validationScores[n] > 0.7]"
   ]
  },
  {
   "cell_type": "code",
   "execution_count": 26,
   "metadata": {},
   "outputs": [],
   "source": [
    "xTrainSplit = xTrain.iloc[:, np.r_[2500:2600, 4000:4100,5300:5400,5400:5500,7200:7300,32200:32300,36200:36300,36900:37000]]\n",
    "xtestSplit = xRemain.iloc[:, np.r_[2500:2600, 4000:4100,5300:5400,5400:5500,7200:7300,32200:32300,36200:36300,36900:37000]]"
   ]
  },
  {
   "cell_type": "code",
   "execution_count": 28,
   "metadata": {},
   "outputs": [],
   "source": [
    "xTrainWindowSeries = from_2d_array_to_nested(xTrainSplit)\n",
    "xValidateWindowSeries = from_2d_array_to_nested(xtestSplit)\n",
    "    \n",
    "minirocket = MiniRocket()\n",
    "minirocket.fit(xTrainWindowSeries)\n",
    "xTrainTransform = minirocket.transform(xTrainWindowSeries)\n",
    "    \n",
    "classifier = RidgeClassifierCV(alphas=np.logspace(-3, 3, 10), normalize=True)\n",
    "classifier.fit(xTrainTransform, yTrain)\n",
    "    \n",
    "xValidateTransform = minirocket.transform(xValidateWindowSeries)\n",
    "score = classifier.score(xValidateTransform, yRemain)"
   ]
  },
  {
   "cell_type": "code",
   "execution_count": null,
   "metadata": {},
   "outputs": [],
   "source": []
  }
 ],
 "metadata": {
  "kernelspec": {
   "display_name": "Python 3 (ipykernel)",
   "language": "python",
   "name": "python3"
  },
  "language_info": {
   "codemirror_mode": {
    "name": "ipython",
    "version": 3
   },
   "file_extension": ".py",
   "mimetype": "text/x-python",
   "name": "python",
   "nbconvert_exporter": "python",
   "pygments_lexer": "ipython3",
   "version": "3.9.7"
  }
 },
 "nbformat": 4,
 "nbformat_minor": 4
}
