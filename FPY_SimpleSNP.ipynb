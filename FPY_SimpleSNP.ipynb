{
 "cells": [
  {
   "cell_type": "code",
   "execution_count": 89,
   "metadata": {},
   "outputs": [],
   "source": [
    "# Imports\n",
    "\n",
    "import pandas as pd\n",
    "import matplotlib.pyplot as plt\n",
    "import numpy as np\n",
    "from sklearn.svm import SVC  \n",
    "from matplotlib.pyplot import figure\n",
    "from sklearn.model_selection import train_test_split\n",
    "from sklearn.tree import DecisionTreeClassifier\n",
    "from sklearn.neighbors import KNeighborsClassifier\n",
    "from sklearn.impute import SimpleImputer\n",
    "from sklearn.metrics import accuracy_score\n",
    "from sklearn import tree\n",
    "\n",
    "from sklearn import metrics\n",
    "from sklearn.model_selection import train_test_split\n",
    "\n",
    "from sktime.classification.shapelet_based import MrSEQLClassifier\n",
    "from sktime.datasets import load_arrow_head, load_basic_motions\n",
    "\n",
    "from sktime.datatypes._panel._convert import from_2d_array_to_nested\n",
    "from sktime.transformations.panel.rocket import Rocket\n",
    "from sklearn.linear_model import RidgeClassifierCV\n",
    "\n",
    "from sktime.datasets import load_arrow_head \n",
    "from sklearn.metrics import confusion_matrix\n",
    "from sklearn.metrics import classification_report\n",
    "from sklearn.ensemble import RandomForestClassifier\n",
    "from sklearn.model_selection import GridSearchCV\n",
    "from sklearn.base import clone\n",
    "import warnings\n",
    "\n",
    "warnings.filterwarnings('ignore')\n",
    "pd.set_option(\"display.max_rows\", 100)"
   ]
  },
  {
   "cell_type": "code",
   "execution_count": 90,
   "metadata": {},
   "outputs": [
    {
     "data": {
      "text/plain": [
       "90"
      ]
     },
     "execution_count": 90,
     "metadata": {},
     "output_type": "execute_result"
    }
   ],
   "source": [
    "# Opening up file containing GWAS data and reading in\n",
    "\n",
    "file = open(\"GWAS_Add.raw\", \"r\")\n",
    "lines = file.readlines()\n",
    "len(lines)"
   ]
  },
  {
   "cell_type": "code",
   "execution_count": 91,
   "metadata": {},
   "outputs": [],
   "source": [
    "# Loading GWAS data into DF in the correct format\n",
    "\n",
    "columns = lines[0].strip(\"\\n\").split(\" \")\n",
    "columns = [n.split(\"_\", 1)[0] for n in columns]\n",
    "df = pd.DataFrame(columns=columns)\n",
    "i = 1\n",
    "data = []\n",
    "for line in lines[1:]:\n",
    "    newRow = line.strip(\"\\n\").split(\" \")\n",
    "    for position in range(0, len(newRow)):\n",
    "        if newRow[position] == \"0\":\n",
    "            newRow[position] = \"2\"\n",
    "        elif newRow[position] == \"2\":\n",
    "            newRow[position] = \"0\"\n",
    "        \n",
    "    data.append(newRow)\n",
    "\n",
    "df = pd.DataFrame(data, columns=columns)"
   ]
  },
  {
   "cell_type": "code",
   "execution_count": 92,
   "metadata": {},
   "outputs": [
    {
     "data": {
      "text/plain": [
       "rs2222162  PHENOTYPE\n",
       "1          1            22\n",
       "0          1            17\n",
       "2          1             6\n",
       "dtype: int64"
      ]
     },
     "execution_count": 92,
     "metadata": {},
     "output_type": "execute_result"
    }
   ],
   "source": [
    "# Sanity check to see if control SNPs have been encoded correctly\n",
    "\n",
    "df1 = df[[\"rs2222162\",\"PHENOTYPE\"]]\n",
    "df1[df1[\"PHENOTYPE\"] == \"1\"].value_counts()"
   ]
  },
  {
   "cell_type": "code",
   "execution_count": 93,
   "metadata": {},
   "outputs": [
    {
     "data": {
      "text/plain": [
       "rs2222162  PHENOTYPE\n",
       "2          0            22\n",
       "1          0            19\n",
       "0          0             3\n",
       "dtype: int64"
      ]
     },
     "execution_count": 93,
     "metadata": {},
     "output_type": "execute_result"
    }
   ],
   "source": [
    "# Sanity check to see if cases SNPs have been encoded correctly\n",
    "\n",
    "df1 = df[[\"rs2222162\",\"PHENOTYPE\"]]\n",
    "df1[df1[\"PHENOTYPE\"] == \"0\"].value_counts()"
   ]
  },
  {
   "cell_type": "code",
   "execution_count": 94,
   "metadata": {},
   "outputs": [
    {
     "data": {
      "text/plain": [
       "106"
      ]
     },
     "execution_count": 94,
     "metadata": {},
     "output_type": "execute_result"
    }
   ],
   "source": [
    "# Only selecting 100 SNPs located on chromosome 2 \n",
    "\n",
    "dfAlleles = df.loc[:, \"rs11684739\":\"rs2521953\"]\n",
    "# dfAlleles = df.loc[:, \"rs11684739\":\"rs6757306\"] 500\n",
    "dfInfo = df.loc[:, :\"PHENOTYPE\"]\n",
    "df = dfInfo.join(dfAlleles)\n",
    "len(df.columns)"
   ]
  },
  {
   "cell_type": "code",
   "execution_count": 95,
   "metadata": {},
   "outputs": [],
   "source": [
    "# Fixing Phenotype values\n",
    "\n",
    "df[\"PHENOTYPE\"] = df[\"PHENOTYPE\"].replace(\"0\",\"case\")\n",
    "df[\"PHENOTYPE\"] = df[\"PHENOTYPE\"].replace(\"1\",\"control\")"
   ]
  },
  {
   "cell_type": "code",
   "execution_count": 96,
   "metadata": {},
   "outputs": [],
   "source": [
    "dfSave = df.copy(deep=True)"
   ]
  },
  {
   "cell_type": "code",
   "execution_count": 97,
   "metadata": {},
   "outputs": [],
   "source": [
    "# Re-encoding SNP of interest to generate stronger signal\n",
    "\n",
    "#df.loc[df.PHENOTYPE == \"case\", [\"rs2222162\"]] = \"2\"\n",
    "#df.loc[df.PHENOTYPE == \"control\", [\"rs2222162\"]] = \"0\""
   ]
  },
  {
   "cell_type": "code",
   "execution_count": 98,
   "metadata": {},
   "outputs": [],
   "source": [
    "# Testing to see if amplifying singal increases accuracy\n",
    "\n",
    "# df.insert(df.columns.get_loc(\"rs2222162\"), \"rs222216_1\", df[\"rs2222162\"])\n",
    "# df.insert(df.columns.get_loc(\"rs2222162\"), \"rs222216_2\", df[\"rs2222162\"])\n",
    "# df.insert(df.columns.get_loc(\"rs2222162\"), \"rs222216_3\", df[\"rs2222162\"])\n",
    "# #df.insert(df.columns.get_loc(\"rs2222162\"), \"rs222216_4\", df[\"rs2222162\"])"
   ]
  },
  {
   "cell_type": "code",
   "execution_count": 99,
   "metadata": {},
   "outputs": [],
   "source": [
    "# Removing ID columns and \n",
    "\n",
    "phenotype = df.pop(\"PHENOTYPE\")\n",
    "dfTest = df.drop(columns=[\"FID\",\"IID\",\"PAT\",\"MAT\",\"SEX\"])"
   ]
  },
  {
   "cell_type": "code",
   "execution_count": 100,
   "metadata": {},
   "outputs": [],
   "source": [
    "# Replacing missing SNP entries and replacing with most frequent value for that SNP of other entries\n",
    "\n",
    "imp = SimpleImputer(missing_values=\"NA\", strategy=\"most_frequent\")\n",
    "idf = pd.DataFrame(imp.fit_transform(dfTest))\n",
    "idf.columns = dfTest.columns"
   ]
  },
  {
   "cell_type": "code",
   "execution_count": 101,
   "metadata": {},
   "outputs": [],
   "source": [
    "# Converting columns to be numberical\n",
    "idf = idf.apply(pd.to_numeric)"
   ]
  },
  {
   "cell_type": "code",
   "execution_count": 102,
   "metadata": {},
   "outputs": [],
   "source": [
    "# Getting index of SNP of interest\n",
    "idfT = idf.T\n",
    "position = idfT[0].index.get_loc(\"rs2222162\")"
   ]
  },
  {
   "cell_type": "code",
   "execution_count": 169,
   "metadata": {},
   "outputs": [
    {
     "data": {
      "text/plain": [
       "('control', 2)"
      ]
     },
     "execution_count": 169,
     "metadata": {},
     "output_type": "execute_result"
    },
    {
     "data": {
      "image/png": "[encoded data removed]",
      "text/plain": [
       "<Figure size 432x288 with 1 Axes>"
      ]
     },
     "metadata": {
      "needs_background": "light"
     },
     "output_type": "display_data"
    }
   ],
   "source": [
    "# Visualising entry 0 - control\n",
    "position = idfT[0].index.get_loc(\"rs2222162\")\n",
    "plt.xticks([])\n",
    "plt.plot(idfT[0][0:position-1], color=\"tab:blue\")\n",
    "plt.plot(idfT[0][position-2:position+1], color=\"red\")\n",
    "plt.plot(idfT[0][position:],color=\"tab:blue\")\n",
    "phenotype[position], idfT[0][position]"
   ]
  },
  {
   "cell_type": "code",
   "execution_count": 171,
   "metadata": {},
   "outputs": [
    {
     "data": {
      "text/plain": [
       "('control', 1)"
      ]
     },
     "execution_count": 171,
     "metadata": {},
     "output_type": "execute_result"
    },
    {
     "data": {
      "image/png": "[encoded data removed]",
      "text/plain": [
       "<Figure size 432x288 with 1 Axes>"
      ]
     },
     "metadata": {
      "needs_background": "light"
     },
     "output_type": "display_data"
    }
   ],
   "source": [
    "# Visualising entry 1 - control\n",
    "\n",
    "position = idfT[1].index.get_loc(\"rs2222162\")\n",
    "plt.xticks([])\n",
    "plt.plot(idfT[1][0:position-1], color=\"tab:blue\")\n",
    "plt.plot(idfT[1][position-2:position+1], color=\"red\")\n",
    "plt.plot(idfT[1][position:],color=\"tab:blue\")\n",
    "phenotype[position], idfT[1][position]"
   ]
  },
  {
   "cell_type": "code",
   "execution_count": 172,
   "metadata": {},
   "outputs": [
    {
     "data": {
      "text/plain": [
       "('control', 2)"
      ]
     },
     "execution_count": 172,
     "metadata": {},
     "output_type": "execute_result"
    },
    {
     "data": {
      "image/png": "[encoded data removed]",
      "text/plain": [
       "<Figure size 432x288 with 1 Axes>"
      ]
     },
     "metadata": {
      "needs_background": "light"
     },
     "output_type": "display_data"
    }
   ],
   "source": [
    "# Visualising entry 2 - case\n",
    "\n",
    "position = idfT[2].index.get_loc(\"rs2222162\")\n",
    "plt.xticks([])\n",
    "plt.plot(idfT[2][0:position-1], color=\"tab:blue\")\n",
    "plt.plot(idfT[2][position-2:position+1], color=\"red\")\n",
    "plt.plot(idfT[2][position:],color=\"tab:blue\")\n",
    "phenotype[position], idfT[2][position]"
   ]
  },
  {
   "cell_type": "code",
   "execution_count": 173,
   "metadata": {},
   "outputs": [
    {
     "data": {
      "text/plain": [
       "('control', 2)"
      ]
     },
     "execution_count": 173,
     "metadata": {},
     "output_type": "execute_result"
    },
    {
     "data": {
      "image/png": "[encoded data removed]",
      "text/plain": [
       "<Figure size 432x288 with 1 Axes>"
      ]
     },
     "metadata": {
      "needs_background": "light"
     },
     "output_type": "display_data"
    }
   ],
   "source": [
    "# Visualising entry 10 - case\n",
    "\n",
    "position = idfT[10].index.get_loc(\"rs2222162\")\n",
    "plt.xticks([])\n",
    "plt.plot(idfT[10][0:position-1], color=\"tab:blue\")\n",
    "plt.plot(idfT[10][position-2:position+1], color=\"red\")\n",
    "plt.plot(idfT[10][position:],color=\"tab:blue\")\n",
    "phenotype[position], idfT[10][position]"
   ]
  },
  {
   "cell_type": "code",
   "execution_count": 107,
   "metadata": {},
   "outputs": [],
   "source": [
    "# Splitting data into training data and testing data\n",
    "\n",
    "xTrain, xTtest, yTrain, yTest = train_test_split(idf, phenotype, train_size=0.6, random_state=1)"
   ]
  },
  {
   "cell_type": "code",
   "execution_count": 108,
   "metadata": {},
   "outputs": [],
   "source": [
    "# Finding hyperparameters for RandomForst\n",
    "\n",
    "# bootstrap = [True, False]\n",
    "# maxDepth = list(range(10,110,10))\n",
    "# maxFeatures = [\"auto\", \"sqrt\"]\n",
    "# minSamplesLeaf = [1,2,3,4]\n",
    "# minSamplesSplit = [2,3,5]\n",
    "# nEstimators = list(range(100,1100,100))\n",
    "\n",
    "# hyperparameters = dict(bootstrap=bootstrap, max_depth=maxDepth, max_features=maxFeatures, min_samples_leaf=minSamplesLeaf,\n",
    "#                       min_samples_split=minSamplesSplit, n_estimators=nEstimators)\n",
    "\n",
    "# rfd = RandomForestClassifier()\n",
    "\n",
    "# clf = GridSearchCV(rfd, hyperparameters, cv=10)\n",
    "\n",
    "# bestModel = clf.fit(idf, phenotype)\n",
    "# print('Best bootstrap:', bestModel.best_estimator_.get_params()['bootstrap'])\n",
    "# print('Best max_depth:', bestModel.best_estimator_.get_params()['max_depth'])\n",
    "# print('Best max_features:', bestModel.best_estimator_.get_params()['max_features'])\n",
    "# print('Best min_samples_leaf:', bestModel.best_estimator_.get_params()['min_samples_leaf'])\n",
    "# print('Best min_samples_split:', bestModel.best_estimator_.get_params()['min_samples_split'])\n",
    "# print('Best n_estimators:', bestModel.best_estimator_.get_params()['n_estimators'])"
   ]
  },
  {
   "cell_type": "code",
   "execution_count": 109,
   "metadata": {},
   "outputs": [
    {
     "name": "stdout",
     "output_type": "stream",
     "text": [
      "Training accuracy score: 0.9433962264150944\n",
      "Testing accuracy score: 0.5\n",
      "[[ 6 15]\n",
      " [ 3 12]]\n",
      "              precision    recall  f1-score   support\n",
      "\n",
      "        case       0.67      0.29      0.40        21\n",
      "     control       0.44      0.80      0.57        15\n",
      "\n",
      "    accuracy                           0.50        36\n",
      "   macro avg       0.56      0.54      0.49        36\n",
      "weighted avg       0.57      0.50      0.47        36\n",
      "\n"
     ]
    }
   ],
   "source": [
    "# Classifying GWAS data using decision tree and printing results\n",
    "\n",
    "rfc = RandomForestClassifier(bootstrap=True, max_depth=100, max_features=\"sqrt\", \n",
    "                             min_samples_leaf=4, min_samples_split=2, n_estimators=100)\n",
    "rfc.fit(xTrain, yTrain)\n",
    "yPredicted = rfc.predict(xTrain)\n",
    "print(\"Training accuracy score: {}\".format(accuracy_score(yTrain, yPredicted)))\n",
    "yPredicted = rfc.predict(xTtest)\n",
    "print(\"Testing accuracy score: {}\".format(accuracy_score(yTest, yPredicted)))\n",
    "print(confusion_matrix(yTest, yPredicted))\n",
    "print(classification_report(yTest, yPredicted))"
   ]
  },
  {
   "cell_type": "code",
   "execution_count": 110,
   "metadata": {},
   "outputs": [
    {
     "data": {
      "text/plain": [
       "<BarContainer object of 10 artists>"
      ]
     },
     "execution_count": 110,
     "metadata": {},
     "output_type": "execute_result"
    },
    {
     "data": {
      "image/png": "[encoded data removed]",
      "text/plain": [
       "<Figure size 432x288 with 1 Axes>"
      ]
     },
     "metadata": {
      "needs_background": "light"
     },
     "output_type": "display_data"
    }
   ],
   "source": [
    "# Plotting features that random forest classifier found important\n",
    "\n",
    "rf =  pd.DataFrame({\"featrue\": idf.columns, \"importance\":rfc.feature_importances_})\n",
    "sorted_idx = rfc.feature_importances_.argsort()\n",
    "plt.barh(idf.columns[sorted_idx[-10:]], rfc.feature_importances_[sorted_idx[-10:]])"
   ]
  },
  {
   "cell_type": "code",
   "execution_count": 111,
   "metadata": {},
   "outputs": [],
   "source": [
    "# Finding hyperparameters for KNN\n",
    "\n",
    "\n",
    "# leafSize = list(range(1,30))\n",
    "# neighbours = list(range(1,30))\n",
    "# p = [1,2]\n",
    "# hyperparameters = dict(leaf_size=leafSize, n_neighbors=neighbours, p=p)\n",
    "\n",
    "# knn = KNeighborsClassifier() \n",
    "\n",
    "# clf = GridSearchCV(knn, hyperparameters, cv=10)\n",
    "\n",
    "# bestModel = clf.fit(idf, phenotype)\n",
    "# print('Best leaf_size:', bestModel.best_estimator_.get_params()['leaf_size'])\n",
    "# print('Best p:', bestModel.best_estimator_.get_params()['p'])\n",
    "# print('Best n_neighbors:', bestModel.best_estimator_.get_params()['n_neighbors'])"
   ]
  },
  {
   "cell_type": "code",
   "execution_count": 112,
   "metadata": {},
   "outputs": [
    {
     "name": "stdout",
     "output_type": "stream",
     "text": [
      "Training accuracy score: 0.6037735849056604\n",
      "Testing accuracy score: 0.4722222222222222\n",
      "[[ 8 13]\n",
      " [ 6  9]]\n"
     ]
    }
   ],
   "source": [
    "# Classifying GWAS data using KNN and printing results\n",
    "\n",
    "knnClf = KNeighborsClassifier(leaf_size=1, n_neighbors=22,p=2 ) \n",
    "knnClf.fit(xTrain, yTrain)\n",
    "yPredicted = knnClf.predict(xTrain)\n",
    "print(\"Training accuracy score: {}\".format(accuracy_score(yTrain, yPredicted)))\n",
    "yPredicted = knnClf.predict(xTtest)\n",
    "print(\"Testing accuracy score: {}\".format(accuracy_score(yTest, yPredicted)))\n",
    "print(confusion_matrix(yTest, yPredicted))"
   ]
  },
  {
   "cell_type": "code",
   "execution_count": 113,
   "metadata": {},
   "outputs": [],
   "source": [
    "# Finding hyperparameters for KNN\n",
    "\n",
    "# C = [0.1,1, 10, 100]\n",
    "# gamma = [1,0.1,0.01,0.001]\n",
    "# kernel = ['rbf', 'poly', 'sigmoid']\n",
    "# hyperparameters = dict(C=C,gamma=gamma,kernel=kernel)\n",
    "\n",
    "# SVM = SVC()\n",
    "\n",
    "# clf = GridSearchCV(SVM, hyperparameters, refit=True,cv=10)\n",
    "\n",
    "# bestModel = clf.fit(idf, phenotype)\n",
    "# print('Best C:', bestModel.best_estimator_.get_params()['C'])\n",
    "# print('Best gamma:', bestModel.best_estimator_.get_params()['gamma'])\n",
    "# print('Best kernel:', bestModel.best_estimator_.get_params()['kernel'])"
   ]
  },
  {
   "cell_type": "code",
   "execution_count": 114,
   "metadata": {},
   "outputs": [
    {
     "name": "stdout",
     "output_type": "stream",
     "text": [
      "Training accuracy score: 0.9245283018867925\n",
      "Testing accuracy score: 0.4166666666666667\n",
      "[[ 6 15]\n",
      " [ 6  9]]\n"
     ]
    }
   ],
   "source": [
    "SVM = SVC(kernel=\"sigmoid\", C=100, gamma=0.001)\n",
    "SVM.fit(xTrain, yTrain)\n",
    "yPredicted = SVM.predict(xTrain)\n",
    "print(\"Training accuracy score: {}\".format(accuracy_score(yTrain, yPredicted)))\n",
    "yPredicted = SVM.predict(xTtest)\n",
    "print(\"Testing accuracy score: {}\".format(accuracy_score(yTest, yPredicted)))\n",
    "print(confusion_matrix(yTest, yPredicted))"
   ]
  },
  {
   "cell_type": "code",
   "execution_count": 115,
   "metadata": {},
   "outputs": [],
   "source": [
    "# Converting df columns into 2d numpy array time series\n",
    "\n",
    "idf = idf.apply(pd.to_numeric)\n",
    "idfSeries = from_2d_array_to_nested(idf)"
   ]
  },
  {
   "cell_type": "code",
   "execution_count": 116,
   "metadata": {},
   "outputs": [],
   "source": [
    "# Splitting time seriesdata into training data and testing data\n",
    "\n",
    "xTrain, xTest, yTrain, yTest = train_test_split(idfSeries, phenotype, train_size=0.6, random_state=1)"
   ]
  },
  {
   "cell_type": "code",
   "execution_count": 117,
   "metadata": {},
   "outputs": [],
   "source": [
    "# Extracting values from training split\n",
    "\n",
    "yTrain = yTrain.values\n",
    "yTest = yTest.values\n",
    "\n",
    "xTrain = xTrain.reset_index()\n",
    "xTrain = xTrain.drop(columns=[\"index\"])\n",
    "\n",
    "xTest = xTest.reset_index()\n",
    "xTest = xTest.drop(columns=[\"index\"])"
   ]
  },
  {
   "cell_type": "code",
   "execution_count": 118,
   "metadata": {},
   "outputs": [],
   "source": [
    "# Running rocket kernal transformation on training data\n",
    "\n",
    "rocket = Rocket()\n",
    "rocket.fit(xTrain)\n",
    "xTrainTransform = rocket.transform(xTrain)"
   ]
  },
  {
   "cell_type": "code",
   "execution_count": 119,
   "metadata": {},
   "outputs": [
    {
     "name": "stdout",
     "output_type": "stream",
     "text": [
      "Accuracy with Rocket: 0.583\n",
      "[[ 9 12]\n",
      " [ 3 12]]\n",
      "              precision    recall  f1-score   support\n",
      "\n",
      "        case       0.75      0.43      0.55        21\n",
      "     control       0.50      0.80      0.62        15\n",
      "\n",
      "    accuracy                           0.58        36\n",
      "   macro avg       0.62      0.61      0.58        36\n",
      "weighted avg       0.65      0.58      0.57        36\n",
      "\n"
     ]
    }
   ],
   "source": [
    "# Classifying GWAS Data from rocket transformation using Ridge Classifier\n",
    "\n",
    "classifier = RidgeClassifierCV(alphas=np.logspace(-3, 3, 10), normalize=True)\n",
    "classifier.fit(xTrainTransform, yTrain)\n",
    "xTestTransform = rocket.transform(xTest)\n",
    "yPredict = classifier.predict(xTestTransform)\n",
    "print(\"Accuracy with Rocket: %2.3f\" % metrics.accuracy_score(yTest, yPredict))\n",
    "print(confusion_matrix(yTest, yPredict))\n",
    "print(classification_report(yTest, yPredict))"
   ]
  },
  {
   "cell_type": "code",
   "execution_count": 120,
   "metadata": {
    "scrolled": true
   },
   "outputs": [
    {
     "name": "stdout",
     "output_type": "stream",
     "text": [
      "Accuracy with MrSEQL: 0.667\n",
      "[[12  9]\n",
      " [ 3 12]]\n",
      "              precision    recall  f1-score   support\n",
      "\n",
      "        case       0.80      0.57      0.67        21\n",
      "     control       0.57      0.80      0.67        15\n",
      "\n",
      "    accuracy                           0.67        36\n",
      "   macro avg       0.69      0.69      0.67        36\n",
      "weighted avg       0.70      0.67      0.67        36\n",
      "\n"
     ]
    }
   ],
   "source": [
    "# Classifying GWAS data using MrSEQL\n",
    "\n",
    "ms = MrSEQLClassifier(seql_mode=\"clf\")\n",
    "ms.fit(xTrain, yTrain)\n",
    "yPredict = ms.predict(xTest)\n",
    "print(\"Accuracy with MrSEQL: %2.3f\" % metrics.accuracy_score(yTest, yPredict))\n",
    "print(confusion_matrix(yTest, yPredict))\n",
    "print(classification_report(yTest, yPredict))"
   ]
  },
  {
   "cell_type": "code",
   "execution_count": 121,
   "metadata": {},
   "outputs": [],
   "source": [
    "# Method to setup df for testing\n",
    "\n",
    "def SetupTest(df):\n",
    "    imp = SimpleImputer(missing_values=\"NA\", strategy=\"most_frequent\")\n",
    "    idf = pd.DataFrame(imp.fit_transform(df))\n",
    "    idf.columns = df.columns\n",
    "    idf = idf.apply(pd.to_numeric)\n",
    "    return idf"
   ]
  },
  {
   "cell_type": "code",
   "execution_count": 122,
   "metadata": {},
   "outputs": [],
   "source": [
    "# Method to generate graph that displays change in accuracy for a given classifier as the length of the target SNP\n",
    "#    is increasde\n",
    "\n",
    "def GenerateSignalGraph(df, classifier):\n",
    "    \n",
    "    results = []\n",
    "    dfTest = df.copy(deep=True)\n",
    "    phenotype = dfTest.pop(\"PHENOTYPE\")\n",
    "    dfTest = dfTest.drop(columns=[\"FID\",\"IID\",\"PAT\",\"MAT\",\"SEX\"])\n",
    "    for n in range(1,10):\n",
    "        classifierTemp = clone(classifier)\n",
    "        dfTest.insert(dfTest.columns.get_loc(\"rs2222162\"), f\"rs222216_{n}\", dfTest[\"rs2222162\"])\n",
    "        idf = SetupTest(dfTest)\n",
    "        xTrain, xTest, yTrain, yTest = train_test_split(idf, phenotype, train_size=0.6, random_state=1)\n",
    "        classifierTemp.fit(xTrain, yTrain)\n",
    "        yPredict = classifierTemp.predict(xTest)\n",
    "        results.append(metrics.accuracy_score(yTest, yPredict))\n",
    "        \n",
    "        if n == 9:\n",
    "            print(f\"Accuracy with 10 length signal: {metrics.accuracy_score(yTest, yPredict)}\")\n",
    "            print(confusion_matrix(yTest, yPredict))\n",
    "            print(classification_report(yTest, yPredict))\n",
    "            \n",
    "    plt.plot(results)"
   ]
  },
  {
   "cell_type": "code",
   "execution_count": 123,
   "metadata": {},
   "outputs": [
    {
     "name": "stdout",
     "output_type": "stream",
     "text": [
      "Accuracy with 10 length signal: 0.6944444444444444\n",
      "[[13  8]\n",
      " [ 3 12]]\n",
      "              precision    recall  f1-score   support\n",
      "\n",
      "        case       0.81      0.62      0.70        21\n",
      "     control       0.60      0.80      0.69        15\n",
      "\n",
      "    accuracy                           0.69        36\n",
      "   macro avg       0.71      0.71      0.69        36\n",
      "weighted avg       0.72      0.69      0.70        36\n",
      "\n"
     ]
    },
    {
     "data": {
      "image/png": "[encoded data removed]",
      "text/plain": [
       "<Figure size 432x288 with 1 Axes>"
      ]
     },
     "metadata": {
      "needs_background": "light"
     },
     "output_type": "display_data"
    }
   ],
   "source": [
    "# Plotting change in accuracy for increased signal length for Random Forst\n",
    "\n",
    "rfc = RandomForestClassifier(bootstrap=True, max_depth=100, max_features=\"sqrt\", \n",
    "                             min_samples_leaf=4, min_samples_split=2, n_estimators=100)\n",
    "GenerateSignalGraph(dfSave, rfc)"
   ]
  },
  {
   "cell_type": "code",
   "execution_count": 124,
   "metadata": {},
   "outputs": [
    {
     "name": "stdout",
     "output_type": "stream",
     "text": [
      "Accuracy with 10 length signal: 0.7222222222222222\n",
      "[[16  5]\n",
      " [ 5 10]]\n",
      "              precision    recall  f1-score   support\n",
      "\n",
      "        case       0.76      0.76      0.76        21\n",
      "     control       0.67      0.67      0.67        15\n",
      "\n",
      "    accuracy                           0.72        36\n",
      "   macro avg       0.71      0.71      0.71        36\n",
      "weighted avg       0.72      0.72      0.72        36\n",
      "\n"
     ]
    },
    {
     "data": {
      "image/png": "[encoded data removed]",
      "text/plain": [
       "<Figure size 432x288 with 1 Axes>"
      ]
     },
     "metadata": {
      "needs_background": "light"
     },
     "output_type": "display_data"
    }
   ],
   "source": [
    "# Plotting change in accuracy for increased signal length for Knn\n",
    "\n",
    "knnClf = KNeighborsClassifier(leaf_size=1, n_neighbors=22,p=2 ) \n",
    "GenerateSignalGraph(dfSave, knnClf)"
   ]
  },
  {
   "cell_type": "code",
   "execution_count": 125,
   "metadata": {},
   "outputs": [
    {
     "name": "stdout",
     "output_type": "stream",
     "text": [
      "Accuracy with 10 length signal: 0.6111111111111112\n",
      "[[12  9]\n",
      " [ 5 10]]\n",
      "              precision    recall  f1-score   support\n",
      "\n",
      "        case       0.71      0.57      0.63        21\n",
      "     control       0.53      0.67      0.59        15\n",
      "\n",
      "    accuracy                           0.61        36\n",
      "   macro avg       0.62      0.62      0.61        36\n",
      "weighted avg       0.63      0.61      0.61        36\n",
      "\n"
     ]
    },
    {
     "data": {
      "image/png": "[encoded data removed]",
      "text/plain": [
       "<Figure size 432x288 with 1 Axes>"
      ]
     },
     "metadata": {
      "needs_background": "light"
     },
     "output_type": "display_data"
    }
   ],
   "source": [
    "# Plotting change in accuracy for increased signal length for SVM\n",
    "\n",
    "SVM = SVC(kernel=\"sigmoid\", C=100, gamma=0.001)\n",
    "GenerateSignalGraph(dfSave, SVM)"
   ]
  },
  {
   "cell_type": "code",
   "execution_count": 126,
   "metadata": {},
   "outputs": [
    {
     "name": "stdout",
     "output_type": "stream",
     "text": [
      "Accuracy with 10 length signal: 0.6666666666666666\n",
      "[[12  9]\n",
      " [ 3 12]]\n",
      "              precision    recall  f1-score   support\n",
      "\n",
      "        case       0.80      0.57      0.67        21\n",
      "     control       0.57      0.80      0.67        15\n",
      "\n",
      "    accuracy                           0.67        36\n",
      "   macro avg       0.69      0.69      0.67        36\n",
      "weighted avg       0.70      0.67      0.67        36\n",
      "\n"
     ]
    },
    {
     "data": {
      "image/png": "[encoded data removed]",
      "text/plain": [
       "<Figure size 432x288 with 1 Axes>"
      ]
     },
     "metadata": {
      "needs_background": "light"
     },
     "output_type": "display_data"
    }
   ],
   "source": [
    "results = []\n",
    "dfTest = dfSave.copy(deep=True)\n",
    "phenotype = dfTest.pop(\"PHENOTYPE\")\n",
    "dfTest = dfTest.drop(columns=[\"FID\",\"IID\",\"PAT\",\"MAT\",\"SEX\"])\n",
    "\n",
    "for n in range(1,10):\n",
    "    \n",
    "    dfTest.insert(dfTest.columns.get_loc(\"rs2222162\"), f\"rs222216_{n}\", dfTest[\"rs2222162\"])\n",
    "    idf = SetupTest(dfTest)\n",
    "    idfSeries = from_2d_array_to_nested(idf)\n",
    "    \n",
    "    xTrain, xTest, yTrain, yTest = train_test_split(idfSeries, phenotype, train_size=0.6, random_state=1)\n",
    "    \n",
    "    yTrain = yTrain.values\n",
    "    yTest = yTest.values\n",
    "\n",
    "    xTrain = xTrain.reset_index()\n",
    "    xTrain = xTrain.drop(columns=[\"index\"])\n",
    "\n",
    "    xTest = xTest.reset_index()\n",
    "    xTest = xTest.drop(columns=[\"index\"])\n",
    "    \n",
    "    rocket = Rocket()\n",
    "    rocket.fit(xTrain)\n",
    "    xTrainTransform = rocket.transform(xTrain)\n",
    "    \n",
    "    classifier = RidgeClassifierCV(alphas=np.logspace(-3, 3, 10), normalize=True)\n",
    "    classifier.fit(xTrainTransform, yTrain)\n",
    "    xTestTransform = rocket.transform(xTest)\n",
    "    yPredict = classifier.predict(xTestTransform)\n",
    "    results.append(metrics.accuracy_score(yTest, yPredict))\n",
    "    \n",
    "    if n == 9:\n",
    "        print(f\"Accuracy with 10 length signal: {metrics.accuracy_score(yTest, yPredict)}\")\n",
    "        print(confusion_matrix(yTest, yPredict))\n",
    "        print(classification_report(yTest, yPredict))\n",
    "    \n",
    "_ = plt.plot(results)"
   ]
  },
  {
   "cell_type": "code",
   "execution_count": 165,
   "metadata": {},
   "outputs": [
    {
     "name": "stdout",
     "output_type": "stream",
     "text": [
      "Accuracy with 10 length signal: 0.8055555555555556\n",
      "[[15  6]\n",
      " [ 1 14]]\n",
      "              precision    recall  f1-score   support\n",
      "\n",
      "        case       0.94      0.71      0.81        21\n",
      "     control       0.70      0.93      0.80        15\n",
      "\n",
      "    accuracy                           0.81        36\n",
      "   macro avg       0.82      0.82      0.81        36\n",
      "weighted avg       0.84      0.81      0.81        36\n",
      "\n"
     ]
    },
    {
     "data": {
      "image/png": "[encoded data removed]",
      "text/plain": [
       "<Figure size 432x288 with 1 Axes>"
      ]
     },
     "metadata": {
      "needs_background": "light"
     },
     "output_type": "display_data"
    }
   ],
   "source": [
    "results = []\n",
    "dfTest = dfSave.copy(deep=True)\n",
    "phenotype = dfTest.pop(\"PHENOTYPE\")\n",
    "dfTest = dfTest.drop(columns=[\"FID\",\"IID\",\"PAT\",\"MAT\",\"SEX\"])\n",
    "idf=None\n",
    "for n in range(1,10):\n",
    "    \n",
    "    dfTest.insert(dfTest.columns.get_loc(\"rs2222162\"), f\"rs2222162_{n}\", dfTest[\"rs2222162\"])\n",
    "    idf = SetupTest(dfTest)\n",
    "    idfSeries = from_2d_array_to_nested(idf)\n",
    "    \n",
    "    xTrain, xTest, yTrain, yTest = train_test_split(idfSeries, phenotype, train_size=0.6, random_state=1)\n",
    "    \n",
    "    yTrain = yTrain.values\n",
    "    yTest = yTest.values\n",
    "\n",
    "    xTrain = xTrain.reset_index()\n",
    "    xTrain = xTrain.drop(columns=[\"index\"])\n",
    "\n",
    "    xTest = xTest.reset_index()\n",
    "    xTest = xTest.drop(columns=[\"index\"])\n",
    "    \n",
    "    ms = MrSEQLClassifier(seql_mode=\"clf\")\n",
    "    ms.fit(xTrain, yTrain)\n",
    "    yPredict = ms.predict(xTest)\n",
    "    results.append(metrics.accuracy_score(yTest, yPredict))\n",
    "    \n",
    "    if n == 9:\n",
    "        print(f\"Accuracy with 10 length signal: {metrics.accuracy_score(yTest, yPredict)}\")\n",
    "        print(confusion_matrix(yTest, yPredict))\n",
    "        print(classification_report(yTest, yPredict))\n",
    "    \n",
    "_ = plt.plot(results)"
   ]
  },
  {
   "cell_type": "code",
   "execution_count": 166,
   "metadata": {},
   "outputs": [
    {
     "data": {
      "text/plain": [
       "[<matplotlib.lines.Line2D at 0x15305f7f760>]"
      ]
     },
     "execution_count": 166,
     "metadata": {},
     "output_type": "execute_result"
    },
    {
     "data": {
      "image/png": "[encoded data removed]",
      "text/plain": [
       "<Figure size 432x288 with 1 Axes>"
      ]
     },
     "metadata": {
      "needs_background": "light"
     },
     "output_type": "display_data"
    }
   ],
   "source": [
    "idfT = idf.T\n",
    "position = idfT[0].index.get_loc(\"rs2222162\")\n",
    "plt.xticks([])\n",
    "plt.plot(idfT[0][0:position-1], color=\"tab:blue\")\n",
    "plt.plot(idfT[0][position-2:position+1], color=\"red\")\n",
    "plt.plot(idfT[0][position:],color=\"tab:blue\")"
   ]
  },
  {
   "cell_type": "code",
   "execution_count": 164,
   "metadata": {},
   "outputs": [
    {
     "data": {
      "text/plain": [
       "'rs2222162_9    2\\nrs2222162_8    2\\nrs2222162_7    2\\nrs2222162_6    2\\nrs2222162_5    2\\nrs2222162_4    2\\nrs2222162_3    2\\nrs2222162_2    2\\nrs2222162_1    2\\nrs11684739     2\\nrs920438       2\\nrs6729313      2\\nrs7586936      2\\nrs1866657      1\\nrs2222162      2\\nrs13412133     2\\nrs2176427      2\\nrs4402698      2\\nrs7564109      2\\nrs4663058      2\\nrs13382758     2\\nrs6732056      2\\nrs7608937      2\\nrs4663087      2\\nrs7605172      2\\nrs3754609      1\\nrs873270       2\\nrs1547469      2\\nrs905656       1\\nrs7568070      2\\nrs1604817      2\\nrs4150506      2\\nrs4150437      2\\nrs4233583      2\\nrs6737103      2\\nrs10173719     2\\nrs11691088     2\\nrs6753288      2\\nrs12151780     2\\nrs777569       2\\nrs777556       2\\nrs2460106      2\\nrs10496664     2\\nrs6733422      2\\nrs777433       2\\nrs2288657      2\\nrs6753988      2\\nrs7575478      1\\nrs13393571     2\\nrs6756449      1\\nrs7608627      1\\nrs10188986     2\\nrs12104767     2\\nrs11692058     1\\nrs7570249      1\\nrs2438035      2\\nrs2461443      1\\nrs1550174      2\\nrs4491677      2\\nrs6728375      2\\nrs7419718      2\\nrs4633871      2\\nrs7423842      2\\nrs2290111      1\\nrs10201239     1\\nrs734193       1\\nrs999508       2\\nrs13388923     2\\nrs4662800      1\\nrs2405980      1\\nrs4662815      0\\nrs2406258      2\\nrs705056       2\\nrs2443752      2\\nrs935843       2\\nrs7556830      2\\nrs841463       2\\nrs13420882     2\\nrs13398636     2\\nrs4091532      2\\nrs3845654      1\\nrs10168506     1\\nrs1866474      1\\nrs2406272      1\\nrs10496673     2\\nrs1562320      1\\nrs10928846     1\\nrs2246289      1\\nrs10928856     1\\nrs714542       1\\nrs1519441      1\\nrs10928871     2\\nrs1356695      1\\nrs2090647      2\\nrs7581566      2\\nrs2222902      2\\nrs1251207      2\\nrs837894       2\\nrs837855       1\\nrs755570       2\\nrs837884       1\\nrs944907       1\\nrs6760375      2\\nrs4662934      1\\nrs10496679     1\\nrs11692339     1\\nrs2406781      2\\nrs2407071      2\\nrs2521953      2'"
      ]
     },
     "execution_count": 164,
     "metadata": {},
     "output_type": "execute_result"
    }
   ],
   "source": [
    "idfT[0].to_string()"
   ]
  }
 ],
 "metadata": {
  "kernelspec": {
   "display_name": "Python 3",
   "language": "python",
   "name": "python3"
  },
  "language_info": {
   "codemirror_mode": {
    "name": "ipython",
    "version": 3
   },
   "file_extension": ".py",
   "mimetype": "text/x-python",
   "name": "python",
   "nbconvert_exporter": "python",
   "pygments_lexer": "ipython3",
   "version": "3.8.3"
  }
 },
 "nbformat": 4,
 "nbformat_minor": 5
}
