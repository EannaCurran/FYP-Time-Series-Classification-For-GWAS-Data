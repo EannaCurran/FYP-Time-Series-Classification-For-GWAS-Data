{
 "cells": [
  {
   "cell_type": "code",
   "execution_count": 8,
   "id": "c7ded23c",
   "metadata": {},
   "outputs": [],
   "source": [
    "import pandas as pd\n",
    "import matplotlib\n",
    "import matplotlib.pyplot as plt"
   ]
  },
  {
   "cell_type": "code",
   "execution_count": 2,
   "id": "92e2df33",
   "metadata": {},
   "outputs": [],
   "source": [
    "# Opening up file containing GWAS data and reading in\n",
    "\n",
    "file = open(\"GWAS_Add.raw\", \"r\")\n",
    "lines = file.readlines()"
   ]
  },
  {
   "cell_type": "code",
   "execution_count": 5,
   "id": "ee22479c",
   "metadata": {},
   "outputs": [],
   "source": [
    "# Loading GWAS data into DF in the correct format\n",
    "\n",
    "columns = lines[0].strip(\"\\n\").split(\" \")\n",
    "columns = [n.split(\"_\", 1)[0] for n in columns]\n",
    "df = pd.DataFrame(columns=columns)\n",
    "\n",
    "data = []\n",
    "for line in lines[1:]:\n",
    "    newRow = line.strip(\"\\n\").split(\" \")\n",
    "    data.append(newRow)\n",
    "\n",
    "df = pd.DataFrame(data, columns=columns)"
   ]
  },
  {
   "cell_type": "code",
   "execution_count": 6,
   "id": "061c6b83",
   "metadata": {},
   "outputs": [
    {
     "data": {
      "text/plain": [
       "(89, 83540)"
      ]
     },
     "execution_count": 6,
     "metadata": {},
     "output_type": "execute_result"
    }
   ],
   "source": [
    "df.shape"
   ]
  },
  {
   "cell_type": "code",
   "execution_count": 7,
   "id": "70350cbd",
   "metadata": {},
   "outputs": [
    {
     "data": {
      "text/plain": [
       "Index(['FID', 'IID', 'PAT', 'MAT', 'SEX', 'PHENOTYPE', 'rs6681049',\n",
       "       'rs4074137', 'rs7540009', 'rs1891905',\n",
       "       ...\n",
       "       'rs131817', 'rs131794', 'rs12157953', 'rs5770913', 'rs131750',\n",
       "       'rs2269380', 'rs6151412', 'rs11912064', 'rs1001469', 'rs756638'],\n",
       "      dtype='object', length=83540)"
      ]
     },
     "execution_count": 7,
     "metadata": {},
     "output_type": "execute_result"
    }
   ],
   "source": [
    "df.columns"
   ]
  },
  {
   "cell_type": "code",
   "execution_count": 10,
   "id": "05a266aa",
   "metadata": {},
   "outputs": [
    {
     "data": {
      "image/png": "[encoded data removed]",
      "text/plain": [
       "<Figure size 864x360 with 1 Axes>"
      ]
     },
     "metadata": {
      "needs_background": "light"
     },
     "output_type": "display_data"
    }
   ],
   "source": [
    "df[\"PHENOTYPE\"].value_counts(dropna=False).plot(kind=\"bar\", title=\"Phenotype distribution\", figsize=(12,5), rot=0)\n",
    "plt.show()"
   ]
  },
  {
   "cell_type": "code",
   "execution_count": 46,
   "id": "dd6a7891",
   "metadata": {},
   "outputs": [
    {
     "ename": "SyntaxError",
     "evalue": "invalid syntax (<ipython-input-46-120bfa933554>, line 1)",
     "output_type": "error",
     "traceback": [
      "\u001b[1;36m  File \u001b[1;32m\"<ipython-input-46-120bfa933554>\"\u001b[1;36m, line \u001b[1;32m1\u001b[0m\n\u001b[1;33m    dfTemp = df[df[\"PHENOTYPE\"] == \"1\"].loc[:, 'rs6681049':'rs1891905']..apply(pd.Series.value_counts)\u001b[0m\n\u001b[1;37m                                                                        ^\u001b[0m\n\u001b[1;31mSyntaxError\u001b[0m\u001b[1;31m:\u001b[0m invalid syntax\n"
     ]
    }
   ],
   "source": [
    "dfTemp = df[df[\"PHENOTYPE\"] == \"1\"].loc[:, 'rs6681049':'rs1891905'].apply(pd.Series.value_counts)"
   ]
  },
  {
   "cell_type": "code",
   "execution_count": 45,
   "id": "a3be8f1e",
   "metadata": {},
   "outputs": [
    {
     "data": {
      "text/plain": [
       "0     0\n",
       "1     0\n",
       "3     0\n",
       "4     0\n",
       "5     0\n",
       "6     0\n",
       "7     0\n",
       "8     0\n",
       "9     0\n",
       "11    0\n",
       "12    1\n",
       "13    0\n",
       "14    0\n",
       "15    1\n",
       "16    1\n",
       "17    1\n",
       "18    1\n",
       "19    2\n",
       "21    2\n",
       "22    0\n",
       "23    1\n",
       "24    1\n",
       "25    0\n",
       "27    0\n",
       "28    1\n",
       "31    1\n",
       "32    1\n",
       "35    2\n",
       "36    0\n",
       "37    0\n",
       "39    0\n",
       "41    0\n",
       "42    1\n",
       "44    0\n",
       "45    1\n",
       "47    0\n",
       "50    1\n",
       "52    0\n",
       "62    2\n",
       "69    0\n",
       "72    0\n",
       "73    0\n",
       "75    1\n",
       "81    0\n",
       "84    2\n",
       "Name: rs6681049, dtype: object"
      ]
     },
     "execution_count": 45,
     "metadata": {},
     "output_type": "execute_result"
    }
   ],
   "source": [
    "df[df[\"PHENOTYPE\"] == \"1\"]['rs6681049']"
   ]
  }
 ],
 "metadata": {
  "kernelspec": {
   "display_name": "Python 3",
   "language": "python",
   "name": "python3"
  },
  "language_info": {
   "codemirror_mode": {
    "name": "ipython",
    "version": 3
   },
   "file_extension": ".py",
   "mimetype": "text/x-python",
   "name": "python",
   "nbconvert_exporter": "python",
   "pygments_lexer": "ipython3",
   "version": "3.8.8"
  }
 },
 "nbformat": 4,
 "nbformat_minor": 5
}
