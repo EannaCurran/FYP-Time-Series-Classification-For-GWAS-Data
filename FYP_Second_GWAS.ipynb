{
 "cells": [
  {
   "cell_type": "code",
   "execution_count": 37,
   "metadata": {},
   "outputs": [],
   "source": [
    "# Imports\n",
    "\n",
    "import pandas as pd\n",
    "import numpy as np\n",
    "import warnings\n",
    "import matplotlib.pyplot as plt\n",
    "from matplotlib.pyplot import figure\n",
    "\n",
    "from sklearn.metrics import accuracy_score\n",
    "from sklearn.linear_model import RidgeClassifierCV\n",
    "from sklearn.impute import SimpleImputer\n",
    "from sklearn.ensemble import RandomForestClassifier\n",
    "from sklearn.naive_bayes import GaussianNB\n",
    "from sklearn.model_selection import GridSearchCV, train_test_split\n",
    "\n",
    "from sktime.classification.shapelet_based import MrSEQLClassifier\n",
    "from sktime.transformations.panel.rocket import MiniRocket\n",
    "from sktime.datatypes._panel._convert import from_2d_array_to_nested\n",
    "\n",
    "warnings.filterwarnings('ignore')\n",
    "pd.set_option(\"display.max_rows\", 100)"
   ]
  },
  {
   "cell_type": "code",
   "execution_count": 3,
   "metadata": {},
   "outputs": [
    {
     "data": {
      "text/plain": [
       "110"
      ]
     },
     "execution_count": 3,
     "metadata": {},
     "output_type": "execute_result"
    }
   ],
   "source": [
    "# Opening up file containing GWAS data and reading in\n",
    "\n",
    "file = open(\"Second_GWAS/Second_GWAS_Add.raw\", \"r\")\n",
    "lines = file.readlines()\n",
    "len(lines)"
   ]
  },
  {
   "cell_type": "code",
   "execution_count": 4,
   "metadata": {},
   "outputs": [],
   "source": [
    "# Loading GWAS data into DF in the correct format\n",
    "\n",
    "columns = lines[0].strip(\"\\n\").split(\" \")\n",
    "columns = [n.split(\"_\", 1)[0] for n in columns]\n",
    "\n",
    "df = pd.DataFrame(columns=columns)\n",
    "data = []\n",
    "\n",
    "for line in lines[1:]:\n",
    "    newRow = line.strip(\"\\n\").split(\" \")\n",
    "    for position in range(0, len(newRow)):\n",
    "        if newRow[position] == \"0\":\n",
    "            newRow[position] = \"2\"\n",
    "        elif newRow[position] == \"2\":\n",
    "            newRow[position] = \"0\"\n",
    "        \n",
    "    data.append(newRow)\n",
    "\n",
    "df = pd.DataFrame(data, columns=columns)"
   ]
  },
  {
   "cell_type": "code",
   "execution_count": 5,
   "metadata": {},
   "outputs": [
    {
     "data": {
      "text/plain": [
       "1    55\n",
       "0    54\n",
       "Name: PHENOTYPE, dtype: int64"
      ]
     },
     "execution_count": 5,
     "metadata": {},
     "output_type": "execute_result"
    }
   ],
   "source": [
    "# Checking to see split between cases and controls\n",
    "\n",
    "df[\"PHENOTYPE\"].value_counts()"
   ]
  },
  {
   "cell_type": "code",
   "execution_count": 6,
   "metadata": {},
   "outputs": [
    {
     "data": {
      "text/plain": [
       "(109, 41313)"
      ]
     },
     "execution_count": 6,
     "metadata": {},
     "output_type": "execute_result"
    }
   ],
   "source": [
    "# Printing shape of df\n",
    "\n",
    "df.shape"
   ]
  },
  {
   "cell_type": "code",
   "execution_count": 7,
   "metadata": {},
   "outputs": [
    {
     "data": {
      "text/plain": [
       "Index(['FID', 'IID', 'PAT', 'MAT', 'SEX', 'PHENOTYPE', 'rs7433861',\n",
       "       'rs1166974', 'rs1166975', 'rs10446372',\n",
       "       ...\n",
       "       'rs4030335', 'rs7374010', 'rs9877345', 'rs7373662', 'rs12630742',\n",
       "       'rs11916265', 'rs7374354', 'rs9325418', 'rs9325420', 'rs10154902'],\n",
       "      dtype='object', length=41313)"
      ]
     },
     "execution_count": 7,
     "metadata": {},
     "output_type": "execute_result"
    }
   ],
   "source": [
    "# Printing shape of df\n",
    "\n",
    "df.columns"
   ]
  },
  {
   "cell_type": "code",
   "execution_count": 8,
   "metadata": {},
   "outputs": [],
   "source": [
    "# Re-encoding the phenotype as case and control\n",
    "\n",
    "df[\"PHENOTYPE\"] = df[\"PHENOTYPE\"].replace(\"0\",\"case\")\n",
    "df[\"PHENOTYPE\"] = df[\"PHENOTYPE\"].replace(\"1\",\"control\")"
   ]
  },
  {
   "cell_type": "code",
   "execution_count": 9,
   "metadata": {},
   "outputs": [],
   "source": [
    "# Dropping columns and seperating phenotype column\n",
    "\n",
    "phenotype = df.pop(\"PHENOTYPE\")\n",
    "dfTest = df.drop(columns=[\"FID\",\"IID\",\"PAT\",\"MAT\",\"SEX\"])"
   ]
  },
  {
   "cell_type": "code",
   "execution_count": 10,
   "metadata": {},
   "outputs": [],
   "source": [
    "# Replacing missing values in df with most common allele for that given SNP\n",
    "\n",
    "imp = SimpleImputer(missing_values=\"NA\", strategy=\"most_frequent\")\n",
    "idf = pd.DataFrame(imp.fit_transform(dfTest))\n",
    "idf.columns = dfTest.columns"
   ]
  },
  {
   "cell_type": "code",
   "execution_count": 11,
   "metadata": {},
   "outputs": [],
   "source": [
    "# Converting columns to be numberical\n",
    "\n",
    "dfTest = idf.apply(pd.to_numeric)"
   ]
  },
  {
   "cell_type": "code",
   "execution_count": 12,
   "metadata": {},
   "outputs": [
    {
     "data": {
      "text/plain": [
       "'case'"
      ]
     },
     "execution_count": 12,
     "metadata": {},
     "output_type": "execute_result"
    },
    {
     "data": {
      "image/png": "[encoded data removed]",
      "text/plain": [
       "<Figure size 432x288 with 1 Axes>"
      ]
     },
     "metadata": {
      "needs_background": "light"
     },
     "output_type": "display_data"
    }
   ],
   "source": [
    "# Visualising first 100 SNPs of first case\n",
    "\n",
    "dfTranspose = dfTest.T\n",
    "plt.xticks([])\n",
    "plt.plot(dfTranspose[0][0:100], color=\"tab:blue\")\n",
    "phenotype[0]"
   ]
  },
  {
   "cell_type": "code",
   "execution_count": 13,
   "metadata": {},
   "outputs": [
    {
     "name": "stdout",
     "output_type": "stream",
     "text": [
      "Average accuracy for RandomForest on entire dataset: 0.5757575757575758\n"
     ]
    }
   ],
   "source": [
    "# Classifying entrire set of GWAS data using RandomForest\n",
    "\n",
    "results = []\n",
    "for n in range(0,10):\n",
    "    xTrain, xTtest, yTrain, yTest = train_test_split(dfTest, phenotype, train_size=0.7)\n",
    "    \n",
    "    rfc = RandomForestClassifier()\n",
    "    rfc.fit(xTrain, yTrain)\n",
    "    \n",
    "    yPredicted = rfc.predict(xTtest)\n",
    "    results.append(accuracy_score(yTest, yPredicted))\n",
    "    \n",
    "print(f\"Average accuracy for RandomForest on entire dataset: {sum(results) / len(results)}\")"
   ]
  },
  {
   "cell_type": "code",
   "execution_count": 14,
   "metadata": {},
   "outputs": [],
   "source": [
    "# Converting df to array structure\n",
    "\n",
    "dfTestSeries = from_2d_array_to_nested(dfTest)"
   ]
  },
  {
   "cell_type": "code",
   "execution_count": 16,
   "metadata": {},
   "outputs": [
    {
     "name": "stdout",
     "output_type": "stream",
     "text": [
      "Average accuracy for MiniRocket on entire dataset: 0.49393939393939396\n"
     ]
    }
   ],
   "source": [
    "# Classifying GWAS data using MiniRocket\n",
    "\n",
    "results = []\n",
    "for n in range(0,10):\n",
    "    xTrain, xTest, yTrain, yTest = train_test_split(dfTestSeries, phenotype, train_size=0.7)\n",
    "    minirocket = MiniRocket()\n",
    "    minirocket.fit(xTrain)\n",
    "    xTrainTransform = minirocket.transform(xTrain)\n",
    "\n",
    "    classifier = RidgeClassifierCV(alphas=np.logspace(-3, 3, 10), normalize=True)\n",
    "    classifier.fit(xTrainTransform, yTrain)\n",
    "\n",
    "    xTestTransform = minirocket.transform(xTest)\n",
    "    yPredict = classifier.predict(xTestTransform)\n",
    "\n",
    "    results.append(accuracy_score(yTest, yPredict))\n",
    "    \n",
    "print(f\"Average accuracy for MiniRocket on entire dataset: {sum(results) / len(results)}\")"
   ]
  },
  {
   "cell_type": "code",
   "execution_count": 17,
   "metadata": {},
   "outputs": [],
   "source": [
    "# List of SNPs with low p-values\n",
    "\n",
    "SNPS = ['rs9867035', 'rs7638693', 'rs9837776', 'rs2873392', 'rs6792542',\n",
    "       'rs1600058', 'rs1580295', 'rs1316579', 'rs834856', 'rs7430111',\n",
    "       'rs9817983', 'rs2085079', 'rs834858', 'rs834843', 'rs834864',\n",
    "       'rs9855684', 'rs1598120', 'rs6445172', 'rs9853565', 'rs1097157']"
   ]
  },
  {
   "cell_type": "code",
   "execution_count": 18,
   "metadata": {},
   "outputs": [
    {
     "name": "stdout",
     "output_type": "stream",
     "text": [
      "Average accuracy for RandomForest on selected SNPs: 0.781818181818182\n"
     ]
    }
   ],
   "source": [
    "# Classifying GWAS data of low p-value SNPs using RandomForest\n",
    "\n",
    "results = []\n",
    "for n in range(0,10):\n",
    "    xTrain, xTtest, yTrain, yTest = train_test_split(dfTest[SNPS], phenotype, train_size=0.7)\n",
    "    \n",
    "    rfc = RandomForestClassifier()\n",
    "    rfc.fit(xTrain, yTrain)\n",
    "    \n",
    "    yPredicted = rfc.predict(xTtest)\n",
    "    results.append(accuracy_score(yTest, yPredicted))\n",
    "    \n",
    "print(f\"Average accuracy for RandomForest on selected SNPs: {sum(results) / len(results)}\")"
   ]
  },
  {
   "cell_type": "code",
   "execution_count": 19,
   "metadata": {},
   "outputs": [
    {
     "data": {
      "text/plain": [
       "(array([0.04717346, 0.0416574 , 0.03338005, 0.04270721, 0.19217232,\n",
       "        0.02660702, 0.01938744, 0.05753056, 0.02726058, 0.05003407,\n",
       "        0.06173044, 0.03949167, 0.02910602, 0.05236489, 0.03083415,\n",
       "        0.06364591, 0.04772542, 0.07948397, 0.01955003, 0.03815741]),\n",
       " Index(['rs9867035', 'rs7638693', 'rs9837776', 'rs2873392', 'rs6792542',\n",
       "        'rs1600058', 'rs1580295', 'rs1316579', 'rs834856', 'rs7430111',\n",
       "        'rs9817983', 'rs2085079', 'rs834858', 'rs834843', 'rs834864',\n",
       "        'rs9855684', 'rs1598120', 'rs6445172', 'rs9853565', 'rs1097157'],\n",
       "       dtype='object'))"
      ]
     },
     "execution_count": 19,
     "metadata": {},
     "output_type": "execute_result"
    }
   ],
   "source": [
    "rfc.feature_importances_,dfTest[SNPS].columns"
   ]
  },
  {
   "cell_type": "code",
   "execution_count": 20,
   "metadata": {},
   "outputs": [
    {
     "data": {
      "text/plain": [
       "<BarContainer object of 20 artists>"
      ]
     },
     "execution_count": 20,
     "metadata": {},
     "output_type": "execute_result"
    },
    {
     "data": {
      "image/png": "[encoded data removed]",
      "text/plain": [
       "<Figure size 432x288 with 1 Axes>"
      ]
     },
     "metadata": {
      "needs_background": "light"
     },
     "output_type": "display_data"
    }
   ],
   "source": [
    "# Plotting feature importance of selected SNPs from RandomForest\n",
    "\n",
    "sorted_idx = rfc.feature_importances_.argsort()\n",
    "plt.barh(dfTest[SNPS].columns[sorted_idx[:20]], rfc.feature_importances_[sorted_idx[:20]])"
   ]
  },
  {
   "cell_type": "code",
   "execution_count": 21,
   "metadata": {},
   "outputs": [
    {
     "name": "stdout",
     "output_type": "stream",
     "text": [
      "Average accuracy for MiniRocket on selected SNPs: 0.7575757575757577\n"
     ]
    }
   ],
   "source": [
    "# Classifying GWAS data of low p-value SNPs using MiniRocket\n",
    "\n",
    "dfTestSeries = from_2d_array_to_nested(dfTest[SNPS])\n",
    "results = []\n",
    "\n",
    "for n in range(0,10):\n",
    "    xTrain, xTest, yTrain, yTest = train_test_split(dfTestSeries, phenotype, train_size=0.7, random_state=1)\n",
    "    minirocket = MiniRocket()\n",
    "    minirocket.fit(xTrain)\n",
    "    xTrainTransform = minirocket.transform(xTrain)\n",
    "\n",
    "    classifier = RidgeClassifierCV(alphas=np.logspace(-3, 3, 10), normalize=True)\n",
    "    classifier.fit(xTrainTransform, yTrain)\n",
    "\n",
    "    xTestTransform = minirocket.transform(xTest)\n",
    "    yPredict = classifier.predict(xTestTransform)\n",
    "\n",
    "    results.append(accuracy_score(yTest, yPredict))\n",
    "    \n",
    "print(f\"Average accuracy for MiniRocket on selected SNPs: {sum(results) / len(results)}\")"
   ]
  },
  {
   "cell_type": "code",
   "execution_count": 39,
   "metadata": {
    "scrolled": false
   },
   "outputs": [],
   "source": [
    "# Method to generate sliding window accuracy along genome using MiniRocket\n",
    "\n",
    "def GenerateWindowsTest(runs, windowSize, useThreshold, classifier, threshold=0):\n",
    "\n",
    "    results = {}\n",
    "    numberOfWindows = len(dfTest.columns) // windowSize\n",
    "    \n",
    "    for k in range(1,runs+1):\n",
    "\n",
    "        print(f\"Run {k}\")\n",
    "\n",
    "        validationScores = []\n",
    "        testScores = []\n",
    "        \n",
    "        xTrain, xTest, yTrain, yTest = train_test_split(dfTest, phenotype, train_size=0.7, random_state=1)\n",
    "        xTrainSplit, xValidate, yTrainSplit, yValidate = train_test_split(xTrain, yTrain, train_size=0.7)\n",
    "\n",
    "        for n in range(0,numberOfWindows):\n",
    "\n",
    "            if(n%(numberOfWindows//10) == 0 and n != 0):\n",
    "                print(f\"Progress: {round((n/numberOfWindows) * 100)}%\")\n",
    "                \n",
    "            windowStart = n * windowSize\n",
    "            windowEnd = windowStart + windowSize\n",
    "            xTrainWindow = xTrainSplit.iloc[:,windowStart:windowEnd]\n",
    "            xValidateWindow = xValidate.iloc[:,windowStart:windowEnd]\n",
    "            \n",
    "            if (classifier == \"miniRocket\"):\n",
    "                xTrainWindowSeries = from_2d_array_to_nested(xTrainWindow)\n",
    "                xValidateWindowSeries = from_2d_array_to_nested(xValidateWindow)\n",
    "\n",
    "                minirocket = MiniRocket()\n",
    "                minirocket.fit(xTrainWindowSeries)\n",
    "\n",
    "                xTrainTransform = minirocket.transform(xTrainWindowSeries)\n",
    "                classifier = RidgeClassifierCV(alphas=np.logspace(-3, 3, 10), normalize=True)\n",
    "                classifier.fit(xTrainTransform, yTrainSplit)\n",
    "                xValidateTransform = minirocket.transform(xValidateWindowSeries)\n",
    "                score = accuracy_score(xValidateTransform, yValidate)\n",
    "            \n",
    "            \n",
    "            elif (classifier == \"RandomForest\"):\n",
    "                rfc = RandomForestClassifier()\n",
    "                rfc.fit(xTrainWindow, yTrainSplit)\n",
    "                yPredicted = rfc.predict(xValidateWindow)\n",
    "                score = accuracy_score(yPredicted, yValidate)\n",
    "                \n",
    "            elif (classifier == \"GaussianNB\"):\n",
    "                clf = GaussianNB()\n",
    "                clf.fit(xTrainWindow, yTrainSplit)\n",
    "                yPredicted = clf.predict(xValidateWindow)\n",
    "                score = accuracy_score(yPredicted, yValidate)\n",
    "            \n",
    "            validationScores.append(score)\n",
    "            \n",
    "        if useThreshold:\n",
    "            windowsAboveThreshold = [n for n in validationScores if validationScores[n] > threshold]\n",
    "\n",
    "            print(windowsAboveThresholdAfterTest)\n",
    "\n",
    "            for window in validationScores:\n",
    "                if window in results:\n",
    "                    results[window] += 1#\n",
    "                else:\n",
    "                    results[window] = 1\n",
    "        else:\n",
    "            for n in range(0,numberOfWindows):\n",
    "                if n in results:\n",
    "                    results[n] += validationScores[n]\n",
    "                else:\n",
    "                    results[n] = validationScores[n]\n",
    "                    \n",
    "    for n in range(0,numberOfWindows):\n",
    "        results[n] = results[n] / runs\n",
    "        \n",
    "    sortedResults = sorted(results.items(), key=lambda x: x[1], reverse=True)\n",
    "    \n",
    "    updatedKeyResults = {}\n",
    "    for key, value in results.items():\n",
    "        newKeyStart = key*windowSize\n",
    "        newKeyEnd = newKeyStart + windowSize\n",
    "        updatedKeyResults[f\"{newKeyStart}:{newKeyEnd}\"] = value\n",
    "        \n",
    "    sortedResults = sorted(updatedKeyResults.items(), key=lambda x: x[1], reverse=True)\n",
    "    return sortedResults"
   ]
  },
  {
   "cell_type": "code",
   "execution_count": 25,
   "metadata": {},
   "outputs": [
    {
     "name": "stdout",
     "output_type": "stream",
     "text": [
      "Run 1\n",
      "Progress: 10%\n",
      "Progress: 20%\n",
      "Progress: 30%\n",
      "Progress: 40%\n",
      "Progress: 50%\n",
      "Progress: 60%\n",
      "Progress: 70%\n",
      "Progress: 80%\n",
      "Progress: 90%\n",
      "Progress: 100%\n",
      "Run 2\n",
      "Progress: 10%\n",
      "Progress: 20%\n",
      "Progress: 30%\n",
      "Progress: 40%\n",
      "Progress: 50%\n",
      "Progress: 60%\n",
      "Progress: 70%\n",
      "Progress: 80%\n",
      "Progress: 90%\n",
      "Progress: 100%\n",
      "Run 3\n",
      "Progress: 10%\n",
      "Progress: 20%\n",
      "Progress: 30%\n",
      "Progress: 40%\n",
      "Progress: 50%\n",
      "Progress: 60%\n",
      "Progress: 70%\n",
      "Progress: 80%\n",
      "Progress: 90%\n",
      "Progress: 100%\n",
      "Run 4\n",
      "Progress: 10%\n",
      "Progress: 20%\n",
      "Progress: 30%\n",
      "Progress: 40%\n",
      "Progress: 50%\n",
      "Progress: 60%\n",
      "Progress: 70%\n",
      "Progress: 80%\n",
      "Progress: 90%\n",
      "Progress: 100%\n",
      "Run 5\n",
      "Progress: 10%\n",
      "Progress: 20%\n",
      "Progress: 30%\n",
      "Progress: 40%\n",
      "Progress: 50%\n",
      "Progress: 60%\n",
      "Progress: 70%\n",
      "Progress: 80%\n",
      "Progress: 90%\n",
      "Progress: 100%\n",
      "Run 6\n",
      "Progress: 10%\n",
      "Progress: 20%\n",
      "Progress: 30%\n",
      "Progress: 40%\n",
      "Progress: 50%\n",
      "Progress: 60%\n",
      "Progress: 70%\n",
      "Progress: 80%\n",
      "Progress: 90%\n",
      "Progress: 100%\n",
      "Run 7\n",
      "Progress: 10%\n",
      "Progress: 20%\n",
      "Progress: 30%\n",
      "Progress: 40%\n",
      "Progress: 50%\n",
      "Progress: 60%\n",
      "Progress: 70%\n",
      "Progress: 80%\n",
      "Progress: 90%\n",
      "Progress: 100%\n",
      "Run 8\n",
      "Progress: 10%\n",
      "Progress: 20%\n",
      "Progress: 30%\n",
      "Progress: 40%\n",
      "Progress: 50%\n",
      "Progress: 60%\n",
      "Progress: 70%\n",
      "Progress: 80%\n",
      "Progress: 90%\n",
      "Progress: 100%\n",
      "Run 9\n",
      "Progress: 10%\n",
      "Progress: 20%\n",
      "Progress: 30%\n",
      "Progress: 40%\n",
      "Progress: 50%\n",
      "Progress: 60%\n",
      "Progress: 70%\n",
      "Progress: 80%\n",
      "Progress: 90%\n",
      "Progress: 100%\n",
      "Run 10\n",
      "Progress: 10%\n",
      "Progress: 20%\n",
      "Progress: 30%\n",
      "Progress: 40%\n",
      "Progress: 50%\n",
      "Progress: 60%\n",
      "Progress: 70%\n",
      "Progress: 80%\n",
      "Progress: 90%\n",
      "Progress: 100%\n",
      "Run 1\n",
      "Progress: 10%\n",
      "Progress: 20%\n",
      "Progress: 30%\n",
      "Progress: 40%\n",
      "Progress: 50%\n",
      "Progress: 60%\n",
      "Progress: 69%\n",
      "Progress: 79%\n",
      "Progress: 89%\n",
      "Progress: 99%\n",
      "Run 2\n",
      "Progress: 10%\n",
      "Progress: 20%\n",
      "Progress: 30%\n",
      "Progress: 40%\n",
      "Progress: 50%\n",
      "Progress: 60%\n",
      "Progress: 69%\n",
      "Progress: 79%\n",
      "Progress: 89%\n",
      "Progress: 99%\n",
      "Run 3\n",
      "Progress: 10%\n",
      "Progress: 20%\n",
      "Progress: 30%\n",
      "Progress: 40%\n",
      "Progress: 50%\n",
      "Progress: 60%\n",
      "Progress: 69%\n",
      "Progress: 79%\n",
      "Progress: 89%\n",
      "Progress: 99%\n",
      "Run 4\n",
      "Progress: 10%\n",
      "Progress: 20%\n",
      "Progress: 30%\n",
      "Progress: 40%\n",
      "Progress: 50%\n",
      "Progress: 60%\n",
      "Progress: 69%\n",
      "Progress: 79%\n",
      "Progress: 89%\n",
      "Progress: 99%\n",
      "Run 5\n",
      "Progress: 10%\n",
      "Progress: 20%\n",
      "Progress: 30%\n",
      "Progress: 40%\n",
      "Progress: 50%\n",
      "Progress: 60%\n",
      "Progress: 69%\n",
      "Progress: 79%\n",
      "Progress: 89%\n",
      "Progress: 99%\n",
      "Run 6\n",
      "Progress: 10%\n",
      "Progress: 20%\n",
      "Progress: 30%\n",
      "Progress: 40%\n",
      "Progress: 50%\n",
      "Progress: 60%\n",
      "Progress: 69%\n",
      "Progress: 79%\n",
      "Progress: 89%\n",
      "Progress: 99%\n",
      "Run 7\n",
      "Progress: 10%\n",
      "Progress: 20%\n",
      "Progress: 30%\n",
      "Progress: 40%\n",
      "Progress: 50%\n",
      "Progress: 60%\n",
      "Progress: 69%\n",
      "Progress: 79%\n",
      "Progress: 89%\n",
      "Progress: 99%\n",
      "Run 8\n",
      "Progress: 10%\n",
      "Progress: 20%\n",
      "Progress: 30%\n",
      "Progress: 40%\n",
      "Progress: 50%\n",
      "Progress: 60%\n",
      "Progress: 69%\n",
      "Progress: 79%\n",
      "Progress: 89%\n",
      "Progress: 99%\n",
      "Run 9\n",
      "Progress: 10%\n",
      "Progress: 20%\n",
      "Progress: 30%\n",
      "Progress: 40%\n",
      "Progress: 50%\n",
      "Progress: 60%\n",
      "Progress: 69%\n",
      "Progress: 79%\n",
      "Progress: 89%\n",
      "Progress: 99%\n",
      "Run 10\n",
      "Progress: 10%\n",
      "Progress: 20%\n",
      "Progress: 30%\n",
      "Progress: 40%\n",
      "Progress: 50%\n",
      "Progress: 60%\n",
      "Progress: 69%\n",
      "Progress: 79%\n",
      "Progress: 89%\n",
      "Progress: 99%\n"
     ]
    }
   ],
   "source": [
    "# Generating accuracy for different window sizes\n",
    "\n",
    "MiniRocketWindows25 = GenerateWindowsTest(10, 25 ,False, \"miniRocket\")\n",
    "MiniRocketWindows50 = GenerateWindowsTest(10, 50 ,False, \"miniRocket\")"
   ]
  },
  {
   "cell_type": "code",
   "execution_count": 40,
   "metadata": {},
   "outputs": [
    {
     "name": "stdout",
     "output_type": "stream",
     "text": [
      "Run 1\n",
      "Progress: 10%\n",
      "Progress: 20%\n",
      "Progress: 30%\n",
      "Progress: 40%\n",
      "Progress: 50%\n",
      "Progress: 60%\n",
      "Progress: 70%\n",
      "Progress: 80%\n",
      "Progress: 90%\n",
      "Progress: 100%\n",
      "Run 2\n",
      "Progress: 10%\n",
      "Progress: 20%\n",
      "Progress: 30%\n",
      "Progress: 40%\n",
      "Progress: 50%\n",
      "Progress: 60%\n",
      "Progress: 70%\n",
      "Progress: 80%\n",
      "Progress: 90%\n",
      "Progress: 100%\n",
      "Run 3\n",
      "Progress: 10%\n",
      "Progress: 20%\n",
      "Progress: 30%\n",
      "Progress: 40%\n",
      "Progress: 50%\n",
      "Progress: 60%\n",
      "Progress: 70%\n",
      "Progress: 80%\n",
      "Progress: 90%\n",
      "Progress: 100%\n",
      "Run 4\n",
      "Progress: 10%\n",
      "Progress: 20%\n",
      "Progress: 30%\n",
      "Progress: 40%\n",
      "Progress: 50%\n",
      "Progress: 60%\n",
      "Progress: 70%\n",
      "Progress: 80%\n",
      "Progress: 90%\n",
      "Progress: 100%\n",
      "Run 5\n",
      "Progress: 10%\n",
      "Progress: 20%\n",
      "Progress: 30%\n",
      "Progress: 40%\n",
      "Progress: 50%\n",
      "Progress: 60%\n",
      "Progress: 70%\n",
      "Progress: 80%\n",
      "Progress: 90%\n",
      "Progress: 100%\n",
      "Run 6\n",
      "Progress: 10%\n",
      "Progress: 20%\n",
      "Progress: 30%\n",
      "Progress: 40%\n",
      "Progress: 50%\n",
      "Progress: 60%\n",
      "Progress: 70%\n",
      "Progress: 80%\n",
      "Progress: 90%\n",
      "Progress: 100%\n",
      "Run 7\n",
      "Progress: 10%\n",
      "Progress: 20%\n",
      "Progress: 30%\n",
      "Progress: 40%\n",
      "Progress: 50%\n",
      "Progress: 60%\n",
      "Progress: 70%\n",
      "Progress: 80%\n",
      "Progress: 90%\n",
      "Progress: 100%\n",
      "Run 8\n",
      "Progress: 10%\n",
      "Progress: 20%\n",
      "Progress: 30%\n",
      "Progress: 40%\n",
      "Progress: 50%\n",
      "Progress: 60%\n",
      "Progress: 70%\n",
      "Progress: 80%\n",
      "Progress: 90%\n",
      "Progress: 100%\n",
      "Run 9\n",
      "Progress: 10%\n",
      "Progress: 20%\n",
      "Progress: 30%\n",
      "Progress: 40%\n",
      "Progress: 50%\n",
      "Progress: 60%\n",
      "Progress: 70%\n",
      "Progress: 80%\n",
      "Progress: 90%\n",
      "Progress: 100%\n",
      "Run 10\n",
      "Progress: 10%\n",
      "Progress: 20%\n",
      "Progress: 30%\n",
      "Progress: 40%\n",
      "Progress: 50%\n",
      "Progress: 60%\n",
      "Progress: 70%\n",
      "Progress: 80%\n",
      "Progress: 90%\n",
      "Progress: 100%\n",
      "Run 1\n",
      "Progress: 10%\n",
      "Progress: 20%\n",
      "Progress: 30%\n",
      "Progress: 40%\n",
      "Progress: 50%\n",
      "Progress: 60%\n",
      "Progress: 69%\n",
      "Progress: 79%\n",
      "Progress: 89%\n",
      "Progress: 99%\n",
      "Run 2\n",
      "Progress: 10%\n",
      "Progress: 20%\n",
      "Progress: 30%\n",
      "Progress: 40%\n",
      "Progress: 50%\n",
      "Progress: 60%\n",
      "Progress: 69%\n",
      "Progress: 79%\n",
      "Progress: 89%\n",
      "Progress: 99%\n",
      "Run 3\n",
      "Progress: 10%\n",
      "Progress: 20%\n",
      "Progress: 30%\n",
      "Progress: 40%\n",
      "Progress: 50%\n",
      "Progress: 60%\n",
      "Progress: 69%\n",
      "Progress: 79%\n",
      "Progress: 89%\n",
      "Progress: 99%\n",
      "Run 4\n",
      "Progress: 10%\n",
      "Progress: 20%\n",
      "Progress: 30%\n",
      "Progress: 40%\n",
      "Progress: 50%\n",
      "Progress: 60%\n",
      "Progress: 69%\n",
      "Progress: 79%\n",
      "Progress: 89%\n",
      "Progress: 99%\n",
      "Run 5\n",
      "Progress: 10%\n",
      "Progress: 20%\n",
      "Progress: 30%\n",
      "Progress: 40%\n",
      "Progress: 50%\n",
      "Progress: 60%\n",
      "Progress: 69%\n",
      "Progress: 79%\n",
      "Progress: 89%\n",
      "Progress: 99%\n",
      "Run 6\n",
      "Progress: 10%\n",
      "Progress: 20%\n",
      "Progress: 30%\n",
      "Progress: 40%\n",
      "Progress: 50%\n",
      "Progress: 60%\n",
      "Progress: 69%\n",
      "Progress: 79%\n",
      "Progress: 89%\n",
      "Progress: 99%\n",
      "Run 7\n",
      "Progress: 10%\n",
      "Progress: 20%\n",
      "Progress: 30%\n",
      "Progress: 40%\n",
      "Progress: 50%\n",
      "Progress: 60%\n",
      "Progress: 69%\n",
      "Progress: 79%\n",
      "Progress: 89%\n",
      "Progress: 99%\n",
      "Run 8\n",
      "Progress: 10%\n",
      "Progress: 20%\n",
      "Progress: 30%\n",
      "Progress: 40%\n",
      "Progress: 50%\n",
      "Progress: 60%\n",
      "Progress: 69%\n",
      "Progress: 79%\n",
      "Progress: 89%\n",
      "Progress: 99%\n",
      "Run 9\n",
      "Progress: 10%\n",
      "Progress: 20%\n",
      "Progress: 30%\n",
      "Progress: 40%\n",
      "Progress: 50%\n",
      "Progress: 60%\n",
      "Progress: 69%\n",
      "Progress: 79%\n",
      "Progress: 89%\n",
      "Progress: 99%\n",
      "Run 10\n",
      "Progress: 10%\n",
      "Progress: 20%\n",
      "Progress: 30%\n",
      "Progress: 40%\n",
      "Progress: 50%\n",
      "Progress: 60%\n",
      "Progress: 69%\n",
      "Progress: 79%\n",
      "Progress: 89%\n",
      "Progress: 99%\n",
      "Run 1\n",
      "Progress: 10%\n",
      "Progress: 20%\n",
      "Progress: 30%\n",
      "Progress: 40%\n",
      "Progress: 50%\n",
      "Progress: 60%\n",
      "Progress: 69%\n",
      "Progress: 79%\n",
      "Progress: 89%\n",
      "Progress: 99%\n",
      "Run 2\n",
      "Progress: 10%\n",
      "Progress: 20%\n",
      "Progress: 30%\n",
      "Progress: 40%\n",
      "Progress: 50%\n",
      "Progress: 60%\n",
      "Progress: 69%\n",
      "Progress: 79%\n",
      "Progress: 89%\n",
      "Progress: 99%\n",
      "Run 3\n",
      "Progress: 10%\n",
      "Progress: 20%\n",
      "Progress: 30%\n",
      "Progress: 40%\n",
      "Progress: 50%\n",
      "Progress: 60%\n",
      "Progress: 69%\n",
      "Progress: 79%\n",
      "Progress: 89%\n",
      "Progress: 99%\n",
      "Run 4\n",
      "Progress: 10%\n",
      "Progress: 20%\n",
      "Progress: 30%\n",
      "Progress: 40%\n",
      "Progress: 50%\n",
      "Progress: 60%\n",
      "Progress: 69%\n",
      "Progress: 79%\n",
      "Progress: 89%\n",
      "Progress: 99%\n",
      "Run 5\n",
      "Progress: 10%\n",
      "Progress: 20%\n",
      "Progress: 30%\n",
      "Progress: 40%\n",
      "Progress: 50%\n",
      "Progress: 60%\n",
      "Progress: 69%\n",
      "Progress: 79%\n",
      "Progress: 89%\n",
      "Progress: 99%\n",
      "Run 6\n",
      "Progress: 10%\n",
      "Progress: 20%\n",
      "Progress: 30%\n",
      "Progress: 40%\n",
      "Progress: 50%\n",
      "Progress: 60%\n",
      "Progress: 69%\n",
      "Progress: 79%\n",
      "Progress: 89%\n",
      "Progress: 99%\n",
      "Run 7\n",
      "Progress: 10%\n",
      "Progress: 20%\n",
      "Progress: 30%\n",
      "Progress: 40%\n",
      "Progress: 50%\n",
      "Progress: 60%\n",
      "Progress: 69%\n",
      "Progress: 79%\n",
      "Progress: 89%\n",
      "Progress: 99%\n",
      "Run 8\n",
      "Progress: 10%\n",
      "Progress: 20%\n",
      "Progress: 30%\n",
      "Progress: 40%\n",
      "Progress: 50%\n",
      "Progress: 60%\n",
      "Progress: 69%\n",
      "Progress: 79%\n",
      "Progress: 89%\n",
      "Progress: 99%\n",
      "Run 9\n",
      "Progress: 10%\n",
      "Progress: 20%\n",
      "Progress: 30%\n",
      "Progress: 40%\n",
      "Progress: 50%\n",
      "Progress: 60%\n",
      "Progress: 69%\n",
      "Progress: 79%\n",
      "Progress: 89%\n",
      "Progress: 99%\n",
      "Run 10\n",
      "Progress: 10%\n",
      "Progress: 20%\n",
      "Progress: 30%\n",
      "Progress: 40%\n",
      "Progress: 50%\n",
      "Progress: 60%\n",
      "Progress: 69%\n",
      "Progress: 79%\n",
      "Progress: 89%\n",
      "Progress: 99%\n"
     ]
    }
   ],
   "source": [
    "RandomForstWindows10 = GenerateWindowsTest(10, 1 ,False, \"RandomForest\")"
   ]
  },
  {
   "cell_type": "code",
   "execution_count": 51,
   "metadata": {},
   "outputs": [
    {
     "name": "stdout",
     "output_type": "stream",
     "text": [
      "Run 1\n",
      "Progress: 10%\n",
      "Progress: 20%\n",
      "Progress: 30%\n",
      "Progress: 40%\n",
      "Progress: 50%\n",
      "Progress: 60%\n",
      "Progress: 70%\n",
      "Progress: 80%\n",
      "Progress: 90%\n",
      "Progress: 100%\n",
      "Run 2\n",
      "Progress: 10%\n",
      "Progress: 20%\n",
      "Progress: 30%\n",
      "Progress: 40%\n",
      "Progress: 50%\n",
      "Progress: 60%\n",
      "Progress: 70%\n",
      "Progress: 80%\n",
      "Progress: 90%\n",
      "Progress: 100%\n",
      "Run 3\n",
      "Progress: 10%\n",
      "Progress: 20%\n",
      "Progress: 30%\n",
      "Progress: 40%\n",
      "Progress: 50%\n",
      "Progress: 60%\n",
      "Progress: 70%\n",
      "Progress: 80%\n",
      "Progress: 90%\n",
      "Progress: 100%\n",
      "Run 4\n",
      "Progress: 10%\n",
      "Progress: 20%\n",
      "Progress: 30%\n",
      "Progress: 40%\n",
      "Progress: 50%\n",
      "Progress: 60%\n",
      "Progress: 70%\n",
      "Progress: 80%\n",
      "Progress: 90%\n",
      "Progress: 100%\n",
      "Run 5\n",
      "Progress: 10%\n",
      "Progress: 20%\n",
      "Progress: 30%\n",
      "Progress: 40%\n",
      "Progress: 50%\n",
      "Progress: 60%\n",
      "Progress: 70%\n",
      "Progress: 80%\n",
      "Progress: 90%\n",
      "Progress: 100%\n",
      "Run 6\n",
      "Progress: 10%\n",
      "Progress: 20%\n",
      "Progress: 30%\n",
      "Progress: 40%\n",
      "Progress: 50%\n",
      "Progress: 60%\n",
      "Progress: 70%\n",
      "Progress: 80%\n",
      "Progress: 90%\n",
      "Progress: 100%\n",
      "Run 7\n",
      "Progress: 10%\n",
      "Progress: 20%\n",
      "Progress: 30%\n",
      "Progress: 40%\n",
      "Progress: 50%\n",
      "Progress: 60%\n",
      "Progress: 70%\n",
      "Progress: 80%\n",
      "Progress: 90%\n",
      "Progress: 100%\n",
      "Run 8\n",
      "Progress: 10%\n",
      "Progress: 20%\n",
      "Progress: 30%\n",
      "Progress: 40%\n",
      "Progress: 50%\n",
      "Progress: 60%\n",
      "Progress: 70%\n",
      "Progress: 80%\n",
      "Progress: 90%\n",
      "Progress: 100%\n",
      "Run 9\n",
      "Progress: 10%\n",
      "Progress: 20%\n",
      "Progress: 30%\n",
      "Progress: 40%\n",
      "Progress: 50%\n",
      "Progress: 60%\n",
      "Progress: 70%\n",
      "Progress: 80%\n",
      "Progress: 90%\n",
      "Progress: 100%\n",
      "Run 10\n",
      "Progress: 10%\n",
      "Progress: 20%\n",
      "Progress: 30%\n",
      "Progress: 40%\n",
      "Progress: 50%\n",
      "Progress: 60%\n",
      "Progress: 70%\n",
      "Progress: 80%\n",
      "Progress: 90%\n",
      "Progress: 100%\n"
     ]
    }
   ],
   "source": [
    "GaussianNBWindows1 = GenerateWindowsTest(10, 1 ,False, \"GaussianNB\")"
   ]
  },
  {
   "cell_type": "code",
   "execution_count": 56,
   "metadata": {},
   "outputs": [
    {
     "data": {
      "text/plain": [
       "[('1680:1690', 0.8),\n",
       " ('1660:1670', 0.7695652173913043),\n",
       " ('1650:1660', 0.7652173913043477),\n",
       " ('36730:36740', 0.7565217391304347),\n",
       " ('23300:23310', 0.7217391304347827),\n",
       " ('36720:36730', 0.717391304347826),\n",
       " ('32100:32110', 0.7130434782608696),\n",
       " ('1670:1680', 0.7043478260869565),\n",
       " ('32090:32100', 0.7043478260869563),\n",
       " ('12820:12830', 0.7),\n",
       " ('24660:24670', 0.7),\n",
       " ('25940:25950', 0.7),\n",
       " ('24650:24660', 0.6956521739130433),\n",
       " ('12170:12180', 0.691304347826087),\n",
       " ('31040:31050', 0.691304347826087),\n",
       " ('1730:1740', 0.6869565217391305),\n",
       " ('6410:6420', 0.6869565217391305),\n",
       " ('24680:24690', 0.6869565217391305),\n",
       " ('21540:21550', 0.6869565217391304),\n",
       " ('1690:1700', 0.682608695652174)]"
      ]
     },
     "execution_count": 56,
     "metadata": {},
     "output_type": "execute_result"
    }
   ],
   "source": [
    "RandomForstWindows10[:20]"
   ]
  },
  {
   "cell_type": "code",
   "execution_count": 26,
   "metadata": {},
   "outputs": [
    {
     "data": {
      "text/plain": [
       "[('1650:1700', 0.7304347826086957),\n",
       " ('32500:32550', 0.7130434782608696),\n",
       " ('21500:21550', 0.6739130434782609),\n",
       " ('12800:12850', 0.6652173913043478),\n",
       " ('33650:33700', 0.6608695652173914)]"
      ]
     },
     "execution_count": 26,
     "metadata": {},
     "output_type": "execute_result"
    }
   ],
   "source": [
    "# Printing 5 highest areas of prediction accuracy areas for window size of 50\n",
    "\n",
    "MiniRocketWindows50[:5]"
   ]
  },
  {
   "cell_type": "code",
   "execution_count": 27,
   "metadata": {},
   "outputs": [
    {
     "data": {
      "text/plain": [
       "[('1650:1675', 0.7130434782608694),\n",
       " ('1675:1700', 0.6695652173913043),\n",
       " ('1700:1725', 0.6652173913043479),\n",
       " ('32900:32925', 0.6478260869565217),\n",
       " ('36700:36725', 0.6391304347826088)]"
      ]
     },
     "execution_count": 27,
     "metadata": {},
     "output_type": "execute_result"
    }
   ],
   "source": [
    "# Printing 5 highest areas of prediction accuracy for window size of 25\n",
    "\n",
    "MiniRocketWindows25[:5]"
   ]
  },
  {
   "cell_type": "code",
   "execution_count": 31,
   "metadata": {},
   "outputs": [],
   "source": [
    "# Method to plot accuracies of sliding windows\n",
    "\n",
    "def plotWindowAccuracy(windowToPlot):\n",
    "    \n",
    "    sortedWindows = []\n",
    "    for n in range(len(windowToPlot)):\n",
    "        window = windowToPlot[n]\n",
    "        key, value = window[0], window[1]\n",
    "        key = int(key.split(\":\")[1])\n",
    "        sortedWindows.append((key,value))\n",
    "        \n",
    "    sortedFirst = sorted(sortedWindows, key=lambda tup: tup[0])\n",
    "    keys, values = [],[]\n",
    "    for n in range(len(sortedFirst)):\n",
    "        keys.append(sortedFirst[n][0])\n",
    "        values.append(sortedFirst[n][1])\n",
    "        \n",
    "    figure(figsize=(20, 6), dpi=80)\n",
    "    plt.plot(keys, values, \"-\")"
   ]
  },
  {
   "cell_type": "code",
   "execution_count": 31,
   "metadata": {},
   "outputs": [
    {
     "data": {
      "image/png": "[encoded data removed]",
      "text/plain": [
       "<Figure size 1600x480 with 1 Axes>"
      ]
     },
     "metadata": {
      "needs_background": "light"
     },
     "output_type": "display_data"
    }
   ],
   "source": [
    "plotWindowAccuracy(MiniRocketWindows50)"
   ]
  },
  {
   "cell_type": "code",
   "execution_count": 57,
   "metadata": {},
   "outputs": [
    {
     "data": {
      "image/png": "[encoded data removed]",
      "text/plain": [
       "<Figure size 1600x480 with 1 Axes>"
      ]
     },
     "metadata": {
      "needs_background": "light"
     },
     "output_type": "display_data"
    }
   ],
   "source": [
    "plotWindowAccuracy(GaussianNBWindows1)"
   ]
  },
  {
   "cell_type": "code",
   "execution_count": 49,
   "metadata": {},
   "outputs": [
    {
     "ename": "NameError",
     "evalue": "name 'RandomForstWindows10' is not defined",
     "output_type": "error",
     "traceback": [
      "\u001b[1;31m---------------------------------------------------------------------------\u001b[0m",
      "\u001b[1;31mNameError\u001b[0m                                 Traceback (most recent call last)",
      "\u001b[1;32m~\\AppData\\Local\\Temp/ipykernel_10432/2286422415.py\u001b[0m in \u001b[0;36m<module>\u001b[1;34m\u001b[0m\n\u001b[1;32m----> 1\u001b[1;33m \u001b[0mplotWindowAccuracy\u001b[0m\u001b[1;33m(\u001b[0m\u001b[0mRandomForstWindows10\u001b[0m\u001b[1;33m)\u001b[0m\u001b[1;33m\u001b[0m\u001b[1;33m\u001b[0m\u001b[0m\n\u001b[0m",
      "\u001b[1;31mNameError\u001b[0m: name 'RandomForstWindows10' is not defined"
     ]
    }
   ],
   "source": [
    "plotWindowAccuracy(RandomForstWindows10)"
   ]
  },
  {
   "cell_type": "code",
   "execution_count": 40,
   "metadata": {},
   "outputs": [
    {
     "name": "stdout",
     "output_type": "stream",
     "text": [
      "Average accuracy for RandomForest on selected SNP window: 0.7393939393939395\n"
     ]
    }
   ],
   "source": [
    "# Classifying selected window of GWAS data using RandomForest\n",
    "\n",
    "results = []\n",
    "for n in range(0,10):\n",
    "    xTrain, xTtest, yTrain, yTest = train_test_split(dfTest.iloc[:, np.r_[1650:1725]], phenotype, train_size=0.7, random_state=1)\n",
    "    \n",
    "    rfc = RandomForestClassifier()\n",
    "    rfc.fit(xTrain, yTrain)\n",
    "    \n",
    "    yPredicted = rfc.predict(xTtest)\n",
    "    results.append(accuracy_score(yTest, yPredicted))\n",
    "    \n",
    "print(f\"Average accuracy for RandomForest on selected SNP window: {sum(results) / len(results)}\")"
   ]
  },
  {
   "cell_type": "code",
   "execution_count": 41,
   "metadata": {},
   "outputs": [
    {
     "name": "stdout",
     "output_type": "stream",
     "text": [
      "[[ 7  6]\n",
      " [ 4 16]]\n"
     ]
    }
   ],
   "source": [
    "from sklearn.metrics import confusion_matrix\n",
    "\n",
    "print(confusion_matrix(yTest, yPredicted))"
   ]
  },
  {
   "cell_type": "code",
   "execution_count": 36,
   "metadata": {},
   "outputs": [
    {
     "data": {
      "text/plain": [
       "(array([0.0139227 , 0.0114729 , 0.02975404, 0.04808537, 0.00151616,\n",
       "        0.00644573, 0.00536734, 0.00247454, 0.00335511, 0.01107487,\n",
       "        0.00363608, 0.00391857, 0.00195922, 0.00283502, 0.00590422,\n",
       "        0.01855481, 0.03913847, 0.02745767, 0.00273209, 0.00457633,\n",
       "        0.0256146 , 0.00189424, 0.02557798, 0.00241108, 0.03360537,\n",
       "        0.00803288, 0.00337867, 0.00577005, 0.01088755, 0.01167291,\n",
       "        0.02610301, 0.03868386, 0.02413516, 0.02421571, 0.02012962,\n",
       "        0.00624159, 0.0140163 , 0.01128583, 0.00980217, 0.02257766,\n",
       "        0.00829728, 0.00366092, 0.00359776, 0.00629088, 0.01721403,\n",
       "        0.00832973, 0.01991602, 0.01537697, 0.00414097, 0.011135  ,\n",
       "        0.00907277, 0.00884291, 0.00474303, 0.00582932, 0.00185055,\n",
       "        0.00579762, 0.00674713, 0.02415251, 0.02452854, 0.01892761,\n",
       "        0.00381898, 0.02463315, 0.02002998, 0.03741594, 0.00480677,\n",
       "        0.01967251, 0.04099528, 0.00128317, 0.00445172, 0.00544642,\n",
       "        0.0075091 , 0.00253956, 0.04161654, 0.00280865, 0.00430318]),\n",
       " Index(['rs11127780', 'rs10865598', 'rs2317203', 'rs2085079', 'rs6806513',\n",
       "        'rs716764', 'rs716763', 'rs6785245', 'rs834854', 'rs1869517',\n",
       "        'rs1584882', 'rs12637514', 'rs834895', 'rs1072655', 'rs1598118',\n",
       "        'rs834856', 'rs834858', 'rs834864', 'rs4449331', 'rs1477826',\n",
       "        'rs17019957', 'rs834872', 'rs17019960', 'rs834879', 'rs834880',\n",
       "        'rs834884', 'rs10433516', 'rs17019975', 'rs6784876', 'rs17019986',\n",
       "        'rs1598120', 'rs1097157', 'rs2873392', 'rs1840290', 'rs834843',\n",
       "        'rs834840', 'rs7642215', 'rs1580295', 'rs1007414', 'rs7619063',\n",
       "        'rs1600058', 'rs1600057', 'rs11924506', 'rs7639667', 'rs7617556',\n",
       "        'rs7639998', 'rs7640085', 'rs2169641', 'rs9883719', 'rs1382066',\n",
       "        'rs2054402', 'rs6783510', 'rs2219740', 'rs28549095', 'rs6548843',\n",
       "        'rs1973163', 'rs7434172', 'rs12714541', 'rs1382069', 'rs6548846',\n",
       "        'rs10511099', 'rs1351039', 'rs9883093', 'rs11712238', 'rs13099485',\n",
       "        'rs1351036', 'rs9875791', 'rs7621875', 'rs13084603', 'rs6805632',\n",
       "        'rs7611107', 'rs4553986', 'rs4398446', 'rs9870034', 'rs9815966'],\n",
       "       dtype='object'))"
      ]
     },
     "execution_count": 36,
     "metadata": {},
     "output_type": "execute_result"
    }
   ],
   "source": [
    "rfc.feature_importances_,dfTest.iloc[:, np.r_[1650:1725]].columns"
   ]
  },
  {
   "cell_type": "code",
   "execution_count": 38,
   "metadata": {},
   "outputs": [
    {
     "data": {
      "text/plain": [
       "<BarContainer object of 20 artists>"
      ]
     },
     "execution_count": 38,
     "metadata": {},
     "output_type": "execute_result"
    },
    {
     "data": {
      "image/png": "[encoded data removed]",
      "text/plain": [
       "<Figure size 432x288 with 1 Axes>"
      ]
     },
     "metadata": {
      "needs_background": "light"
     },
     "output_type": "display_data"
    }
   ],
   "source": [
    "# Plotting feature importance of selected window from RandomForest\n",
    "\n",
    "sorted_idx = rfc.feature_importances_.argsort()\n",
    "plt.barh(dfTest.iloc[:, np.r_[1650:1725]].columns[sorted_idx[-20:]], rfc.feature_importances_[sorted_idx[-20:]])"
   ]
  },
  {
   "cell_type": "code",
   "execution_count": 39,
   "metadata": {},
   "outputs": [
    {
     "name": "stdout",
     "output_type": "stream",
     "text": [
      "Average accuracy for MiniRocket on selected SNP window: 0.7272727272727274\n"
     ]
    }
   ],
   "source": [
    "# Classifying selected window of GWAS data using MiniRocket\n",
    "\n",
    "results = []\n",
    "for n in range(0,10):\n",
    "    xTrain, xTest, yTrain, yTest = train_test_split(dfTest.iloc[:, np.r_[1650:1725]], phenotype, train_size=0.7, random_state=1)\n",
    "    \n",
    "    xTrain = from_2d_array_to_nested(xTrain)\n",
    "    xTest = from_2d_array_to_nested(xTest)\n",
    "    \n",
    "    minirocket = MiniRocket()\n",
    "    minirocket.fit(xTrain)\n",
    "    xTrainTransform = minirocket.transform(xTrain)\n",
    "\n",
    "    classifier = RidgeClassifierCV(alphas=np.logspace(-3, 3, 10), normalize=True)\n",
    "    classifier.fit(xTrainTransform, yTrain)\n",
    "\n",
    "    xTestTransform = minirocket.transform(xTest)\n",
    "    yPredict = classifier.predict(xTestTransform)\n",
    "\n",
    "    results.append(accuracy_score(yTest, yPredict))\n",
    "    \n",
    "print(f\"Average accuracy for MiniRocket on selected SNP window: {sum(results) / len(results)}\")"
   ]
  }
 ],
 "metadata": {
  "kernelspec": {
   "display_name": "Python 3 (ipykernel)",
   "language": "python",
   "name": "python3"
  },
  "language_info": {
   "codemirror_mode": {
    "name": "ipython",
    "version": 3
   },
   "file_extension": ".py",
   "mimetype": "text/x-python",
   "name": "python",
   "nbconvert_exporter": "python",
   "pygments_lexer": "ipython3",
   "version": "3.9.7"
  }
 },
 "nbformat": 4,
 "nbformat_minor": 4
}
