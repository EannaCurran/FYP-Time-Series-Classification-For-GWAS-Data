{
 "cells": [
  {
   "cell_type": "code",
   "execution_count": 477,
   "id": "f9752a02",
   "metadata": {},
   "outputs": [],
   "source": [
    "# Imports\n",
    "\n",
    "import pandas as pd\n",
    "import matplotlib.pyplot as plt\n",
    "import numpy as np\n",
    "from sklearn.naive_bayes import GaussianNB\n",
    "from matplotlib.pyplot import figure\n",
    "from sklearn.model_selection import train_test_split\n",
    "from sklearn.tree import DecisionTreeClassifier\n",
    "from sklearn.neighbors import KNeighborsClassifier\n",
    "from sklearn.impute import SimpleImputer\n",
    "from sklearn.metrics import accuracy_score\n",
    "from sklearn import tree\n",
    "\n",
    "from sklearn import metrics\n",
    "from sklearn.model_selection import train_test_split\n",
    "\n",
    "from sktime.classification.shapelet_based import MrSEQLClassifier\n",
    "from sktime.datasets import load_arrow_head, load_basic_motions\n",
    "\n",
    "from sktime.datatypes._panel._convert import from_2d_array_to_nested\n",
    "from sktime.transformations.panel.rocket import Rocket\n",
    "from sklearn.linear_model import RidgeClassifierCV\n",
    "\n",
    "from sktime.datasets import load_arrow_head \n",
    "from sklearn.metrics import confusion_matrix\n",
    "from sklearn.metrics import classification_report\n",
    "from sklearn.ensemble import RandomForestClassifier\n",
    "\n",
    "pd.set_option(\"display.max_rows\", 100)"
   ]
  },
  {
   "cell_type": "code",
   "execution_count": 478,
   "id": "fd109efb",
   "metadata": {},
   "outputs": [
    {
     "data": {
      "text/plain": [
       "90"
      ]
     },
     "execution_count": 478,
     "metadata": {},
     "output_type": "execute_result"
    }
   ],
   "source": [
    "# Opening up file containing GWAS data and reading in\n",
    "\n",
    "file = open(\"GWAS_Add.raw\", \"r\")\n",
    "lines = file.readlines()\n",
    "len(lines)"
   ]
  },
  {
   "cell_type": "code",
   "execution_count": 479,
   "id": "a570f00b",
   "metadata": {},
   "outputs": [],
   "source": [
    "# Loading GWAS data into DF in the correct format\n",
    "\n",
    "columns = lines[0].strip(\"\\n\").split(\" \")\n",
    "columns = [n.split(\"_\", 1)[0] for n in columns]\n",
    "df = pd.DataFrame(columns=columns)\n",
    "i = 1\n",
    "data = []\n",
    "for line in lines[1:]:\n",
    "    newRow = line.strip(\"\\n\").split(\" \")\n",
    "    for position in range(0, len(newRow)):\n",
    "        if newRow[position] == \"0\":\n",
    "            newRow[position] = \"2\"\n",
    "        elif newRow[position] == \"2\":\n",
    "            newRow[position] = \"0\"\n",
    "        \n",
    "    data.append(newRow)\n",
    "\n",
    "df = pd.DataFrame(data, columns=columns)"
   ]
  },
  {
   "cell_type": "code",
   "execution_count": 480,
   "id": "fc3710d6",
   "metadata": {},
   "outputs": [
    {
     "data": {
      "text/plain": [
       "rs2222162  PHENOTYPE\n",
       "1          1            22\n",
       "0          1            17\n",
       "2          1             6\n",
       "dtype: int64"
      ]
     },
     "execution_count": 480,
     "metadata": {},
     "output_type": "execute_result"
    }
   ],
   "source": [
    "# Sanity check to see if SNPs have been encoded correctly\n",
    "\n",
    "df1 = df[[\"rs2222162\",\"PHENOTYPE\"]]\n",
    "df1[df1[\"PHENOTYPE\"] == \"1\"].value_counts()"
   ]
  },
  {
   "cell_type": "code",
   "execution_count": 481,
   "id": "7fc0b189",
   "metadata": {},
   "outputs": [
    {
     "data": {
      "text/plain": [
       "rs2222162  PHENOTYPE\n",
       "2          0            22\n",
       "1          0            19\n",
       "0          0             3\n",
       "dtype: int64"
      ]
     },
     "execution_count": 481,
     "metadata": {},
     "output_type": "execute_result"
    }
   ],
   "source": [
    "# Sanity check to see if SNPs have been encoded correctly\n",
    "\n",
    "df1 = df[[\"rs2222162\",\"PHENOTYPE\"]]\n",
    "df1[df1[\"PHENOTYPE\"] == \"0\"].value_counts()"
   ]
  },
  {
   "cell_type": "code",
   "execution_count": 482,
   "id": "696419f7",
   "metadata": {},
   "outputs": [
    {
     "data": {
      "text/plain": [
       "106"
      ]
     },
     "execution_count": 482,
     "metadata": {},
     "output_type": "execute_result"
    }
   ],
   "source": [
    "# Only selecting 100 SNPs located on chromosome 2 \n",
    "\n",
    "dfAlleles = df.loc[:, \"rs11684739\":\"rs2521953\"]\n",
    "# dfAlleles = df.loc[:, \"rs11684739\":\"rs6757306\"] 500\n",
    "dfInfo = df.loc[:, :\"PHENOTYPE\"]\n",
    "df = dfInfo.join(dfAlleles)\n",
    "len(df.columns)"
   ]
  },
  {
   "cell_type": "code",
   "execution_count": 483,
   "id": "e0a88b73",
   "metadata": {},
   "outputs": [],
   "source": [
    "# Fixing Phenotype values\n",
    "\n",
    "df[\"PHENOTYPE\"] = df[\"PHENOTYPE\"].replace(\"0\",\"case\")\n",
    "df[\"PHENOTYPE\"] = df[\"PHENOTYPE\"].replace(\"1\",\"control\")"
   ]
  },
  {
   "cell_type": "code",
   "execution_count": 484,
   "id": "3274bc81",
   "metadata": {},
   "outputs": [],
   "source": [
    "# Re-encoding SNP of interest to generate stronger signal\n",
    "\n",
    "#df.loc[df.PHENOTYPE == \"case\", [\"rs2222162\"]] = \"2\"\n",
    "#df.loc[df.PHENOTYPE == \"control\", [\"rs2222162\"]] = \"0\""
   ]
  },
  {
   "cell_type": "code",
   "execution_count": 485,
   "id": "d330ff0a",
   "metadata": {},
   "outputs": [],
   "source": [
    "# Testing to see if amplifying singal increases accuracy\n",
    "\n",
    "#df.insert(df.columns.get_loc(\"rs2222162\"), \"rs222216_1\", df[\"rs2222162\"])\n",
    "#df.insert(df.columns.get_loc(\"rs2222162\"), \"rs222216_2\", df[\"rs2222162\"])\n",
    "#df.insert(df.columns.get_loc(\"rs2222162\"), \"rs222216_3\", df[\"rs2222162\"])\n",
    "#df.insert(df.columns.get_loc(\"rs2222162\"), \"rs222216_4\", df[\"rs2222162\"])"
   ]
  },
  {
   "cell_type": "code",
   "execution_count": 486,
   "id": "5193275b",
   "metadata": {},
   "outputs": [],
   "source": [
    "# Removing ID columns and \n",
    "\n",
    "phenotype = df.pop(\"PHENOTYPE\")\n",
    "dfTest = df.drop(columns=[\"FID\",\"IID\",\"PAT\",\"MAT\",\"SEX\"])"
   ]
  },
  {
   "cell_type": "code",
   "execution_count": 487,
   "id": "fd644a40",
   "metadata": {},
   "outputs": [],
   "source": [
    "# Replacing missing SNP entries and replacing with most frequent value for that SNP of other entries\n",
    "\n",
    "imp = SimpleImputer(missing_values=\"NA\", strategy=\"most_frequent\")\n",
    "idf = pd.DataFrame(imp.fit_transform(dfTest))\n",
    "idf.columns = dfTest.columns"
   ]
  },
  {
   "cell_type": "code",
   "execution_count": 488,
   "id": "431e2b9b",
   "metadata": {},
   "outputs": [],
   "source": [
    "# Converting columns to be numberical\n",
    "idf = idf.apply(pd.to_numeric)"
   ]
  },
  {
   "cell_type": "code",
   "execution_count": 489,
   "id": "78c5dfe0",
   "metadata": {},
   "outputs": [],
   "source": [
    "# Getting index of SNP of interest\n",
    "idfT = idf.T\n",
    "position = idfT[0].index.get_loc(\"rs2222162\")"
   ]
  },
  {
   "cell_type": "code",
   "execution_count": 490,
   "id": "03fd22cf",
   "metadata": {},
   "outputs": [
    {
     "data": {
      "text/plain": [
       "[<matplotlib.lines.Line2D at 0x1cf35fc1a30>]"
      ]
     },
     "execution_count": 490,
     "metadata": {},
     "output_type": "execute_result"
    },
    {
     "data": {
      "image/png": "[encoded data removed]",
      "text/plain": [
       "<Figure size 432x288 with 1 Axes>"
      ]
     },
     "metadata": {
      "needs_background": "light"
     },
     "output_type": "display_data"
    }
   ],
   "source": [
    "# Visualising entry 0 - control\n",
    "\n",
    "position = idfT[0].index.get_loc(\"rs2222162\")\n",
    "plt.xticks([])\n",
    "plt.plot(idfT[0][0:position-1], color=\"tab:blue\")\n",
    "plt.plot(idfT[0][position-2:position+1], color=\"red\")\n",
    "plt.plot(idfT[0][position:],color=\"tab:blue\")"
   ]
  },
  {
   "cell_type": "code",
   "execution_count": 491,
   "id": "fa49c9ea",
   "metadata": {},
   "outputs": [
    {
     "data": {
      "text/plain": [
       "[<matplotlib.lines.Line2D at 0x1cf3ac9fcd0>]"
      ]
     },
     "execution_count": 491,
     "metadata": {},
     "output_type": "execute_result"
    },
    {
     "data": {
      "image/png": "[encoded data removed]",
      "text/plain": [
       "<Figure size 432x288 with 1 Axes>"
      ]
     },
     "metadata": {
      "needs_background": "light"
     },
     "output_type": "display_data"
    }
   ],
   "source": [
    "# Visualising entry 1 - control\n",
    "\n",
    "position = idfT[1].index.get_loc(\"rs2222162\")\n",
    "plt.xticks([])\n",
    "plt.plot(idfT[1][0:position-1], color=\"tab:blue\")\n",
    "plt.plot(idfT[1][position-2:position+1], color=\"red\")\n",
    "plt.plot(idfT[1][position:],color=\"tab:blue\")"
   ]
  },
  {
   "cell_type": "code",
   "execution_count": 492,
   "id": "28f48b1e",
   "metadata": {},
   "outputs": [
    {
     "data": {
      "text/plain": [
       "[<matplotlib.lines.Line2D at 0x1cf3b02dfd0>]"
      ]
     },
     "execution_count": 492,
     "metadata": {},
     "output_type": "execute_result"
    },
    {
     "data": {
      "image/png": "[encoded data removed]",
      "text/plain": [
       "<Figure size 432x288 with 1 Axes>"
      ]
     },
     "metadata": {
      "needs_background": "light"
     },
     "output_type": "display_data"
    }
   ],
   "source": [
    "# Visualising entry 2 - case\n",
    "\n",
    "position = idfT[2].index.get_loc(\"rs2222162\")\n",
    "plt.xticks([])\n",
    "plt.plot(idfT[2][0:position-1], color=\"tab:blue\")\n",
    "plt.plot(idfT[2][position-2:position+1], color=\"red\")\n",
    "plt.plot(idfT[2][position:],color=\"tab:blue\")"
   ]
  },
  {
   "cell_type": "code",
   "execution_count": 493,
   "id": "56a145e3",
   "metadata": {},
   "outputs": [
    {
     "data": {
      "text/plain": [
       "[<matplotlib.lines.Line2D at 0x1cf3ad77370>]"
      ]
     },
     "execution_count": 493,
     "metadata": {},
     "output_type": "execute_result"
    },
    {
     "data": {
      "image/png": "[encoded data removed]",
      "text/plain": [
       "<Figure size 432x288 with 1 Axes>"
      ]
     },
     "metadata": {
      "needs_background": "light"
     },
     "output_type": "display_data"
    }
   ],
   "source": [
    "# Visualising entry 10 - case\n",
    "\n",
    "position = idfT[10].index.get_loc(\"rs2222162\")\n",
    "plt.xticks([])\n",
    "plt.plot(idfT[10][0:position-1], color=\"tab:blue\")\n",
    "plt.plot(idfT[10][position-2:position+1], color=\"red\")\n",
    "plt.plot(idfT[10][position:],color=\"tab:blue\")"
   ]
  },
  {
   "cell_type": "code",
   "execution_count": 494,
   "id": "4e3bdcaa",
   "metadata": {},
   "outputs": [],
   "source": [
    "# Splitting data into training data and testing data\n",
    "\n",
    "xTrain, xTtest, yTrain, yTest = train_test_split(idf, phenotype, train_size=0.6, random_state=1)"
   ]
  },
  {
   "cell_type": "code",
   "execution_count": 495,
   "id": "af6bc402",
   "metadata": {},
   "outputs": [
    {
     "name": "stdout",
     "output_type": "stream",
     "text": [
      "Training accuracy score: 1.0\n",
      "Testing accuracy score: 0.5\n",
      "[[ 7 14]\n",
      " [ 4 11]]\n",
      "              precision    recall  f1-score   support\n",
      "\n",
      "        case       0.64      0.33      0.44        21\n",
      "     control       0.44      0.73      0.55        15\n",
      "\n",
      "    accuracy                           0.50        36\n",
      "   macro avg       0.54      0.53      0.49        36\n",
      "weighted avg       0.55      0.50      0.48        36\n",
      "\n"
     ]
    }
   ],
   "source": [
    "# Classifying GWAS data using decision tree and printing results\n",
    "\n",
    "rfc = RandomForestClassifier(n_estimators=100, max_features=\"auto\", oob_score=True, random_state=1)\n",
    "rfc.fit(xTrain, yTrain)\n",
    "yPredicted = rfc.predict(xTrain)\n",
    "print(\"Training accuracy score: {}\".format(accuracy_score(yTrain, yPredicted)))\n",
    "yPredicted = rfc.predict(xTtest)\n",
    "print(\"Testing accuracy score: {}\".format(accuracy_score(yTest, yPredicted)))\n",
    "print(confusion_matrix(yTest, yPredicted))\n",
    "print(classification_report(yTest, yPredicted))"
   ]
  },
  {
   "cell_type": "code",
   "execution_count": 496,
   "id": "5363727d",
   "metadata": {},
   "outputs": [
    {
     "data": {
      "text/plain": [
       "<BarContainer object of 10 artists>"
      ]
     },
     "execution_count": 496,
     "metadata": {},
     "output_type": "execute_result"
    },
    {
     "data": {
      "image/png": "[encoded data removed]",
      "text/plain": [
       "<Figure size 432x288 with 1 Axes>"
      ]
     },
     "metadata": {
      "needs_background": "light"
     },
     "output_type": "display_data"
    }
   ],
   "source": [
    "# Plotting features that random forest classifier found important\n",
    "\n",
    "rf =  pd.DataFrame({\"featrue\": idf.columns, \"importance\":rfc.feature_importances_})\n",
    "sorted_idx = rfc.feature_importances_.argsort()\n",
    "plt.barh(idf.columns[sorted_idx[-10:]], rfc.feature_importances_[sorted_idx[-10:]])"
   ]
  },
  {
   "cell_type": "code",
   "execution_count": 497,
   "id": "5eee9fec",
   "metadata": {},
   "outputs": [
    {
     "name": "stdout",
     "output_type": "stream",
     "text": [
      "Training accuracy score: 0.7169811320754716\n",
      "Testing accuracy score: 0.6388888888888888\n",
      "[[12  9]\n",
      " [ 4 11]]\n"
     ]
    }
   ],
   "source": [
    "# Classifying GWAS data using KNN and printing results\n",
    "\n",
    "knnClf = KNeighborsClassifier() \n",
    "knnClf.fit(xTrain, yTrain)\n",
    "yPredicted = knnClf.predict(xTrain)\n",
    "print(\"Training accuracy score: {}\".format(accuracy_score(yTrain, yPredicted)))\n",
    "yPredicted = knnClf.predict(xTtest)\n",
    "print(\"Testing accuracy score: {}\".format(accuracy_score(yTest, yPredicted)))\n",
    "print(confusion_matrix(yTest, yPredicted))"
   ]
  },
  {
   "cell_type": "code",
   "execution_count": 498,
   "id": "8f8937d5",
   "metadata": {},
   "outputs": [
    {
     "name": "stdout",
     "output_type": "stream",
     "text": [
      "Training accuracy score: 0.5660377358490566\n",
      "Testing accuracy score: 0.4722222222222222\n",
      "[[15  6]\n",
      " [13  2]]\n"
     ]
    }
   ],
   "source": [
    "# Classifying GWAS data using Gaussian Naive Bayes and printing results\n",
    "\n",
    "gnbClf = GaussianNB() \n",
    "gnbClf.fit(xTrain, yTrain)\n",
    "yPredicted = gnbClf.predict(xTrain)\n",
    "print(\"Training accuracy score: {}\".format(accuracy_score(yTrain, yPredicted)))\n",
    "yPredicted = gnbClf.predict(xTtest)\n",
    "print(\"Testing accuracy score: {}\".format(accuracy_score(yTest, yPredicted)))\n",
    "print(confusion_matrix(yTest, yPredicted))"
   ]
  },
  {
   "cell_type": "code",
   "execution_count": 499,
   "id": "d872819c",
   "metadata": {},
   "outputs": [],
   "source": [
    "# Converting df columns into 2d numpy array time series\n",
    "\n",
    "idf = idf.apply(pd.to_numeric)\n",
    "idfSeries = from_2d_array_to_nested(idf)"
   ]
  },
  {
   "cell_type": "code",
   "execution_count": 500,
   "id": "9137cbdd",
   "metadata": {},
   "outputs": [],
   "source": [
    "# Splitting time seriesdata into training data and testing data\n",
    "\n",
    "xTrain, xTest, yTrain, y_test = train_test_split(idfSeries, phenotype, train_size=0.6, random_state=1)"
   ]
  },
  {
   "cell_type": "code",
   "execution_count": 501,
   "id": "edfaa421",
   "metadata": {},
   "outputs": [],
   "source": [
    "# Extracting values from training split\n",
    "\n",
    "yTrain = yTrain.values\n",
    "yTest = yTest.values\n",
    "\n",
    "xTrain = xTrain.reset_index()\n",
    "xTrain = xTrain.drop(columns=[\"index\"])\n",
    "\n",
    "xTest = xTest.reset_index()\n",
    "xTest = xTest.drop(columns=[\"index\"])"
   ]
  },
  {
   "cell_type": "code",
   "execution_count": 502,
   "id": "94a8dda1",
   "metadata": {},
   "outputs": [],
   "source": [
    "# Running rocket kernal transformation on training data\n",
    "\n",
    "rocket = Rocket()\n",
    "rocket.fit(xTrain)\n",
    "xTrainTransform = rocket.transform(xTrain)"
   ]
  },
  {
   "cell_type": "code",
   "execution_count": 503,
   "id": "55a04b11",
   "metadata": {},
   "outputs": [
    {
     "name": "stdout",
     "output_type": "stream",
     "text": [
      "Accuracy with Rocket: 0.472\n",
      "[[ 5 16]\n",
      " [ 3 12]]\n",
      "              precision    recall  f1-score   support\n",
      "\n",
      "        case       0.62      0.24      0.34        21\n",
      "     control       0.43      0.80      0.56        15\n",
      "\n",
      "    accuracy                           0.47        36\n",
      "   macro avg       0.53      0.52      0.45        36\n",
      "weighted avg       0.54      0.47      0.43        36\n",
      "\n"
     ]
    }
   ],
   "source": [
    "# Classifying GWAS Data from rocket transformation using Ridge Classifier\n",
    "\n",
    "classifier = RidgeClassifierCV(alphas=np.logspace(-3, 3, 10), normalize=True)\n",
    "classifier.fit(xTrainTransform, yTrain)\n",
    "xTestTransform = rocket.transform(xTest)\n",
    "yPredict = classifier.predict(xTestTransform)\n",
    "print(\"Accuracy with Rocket: %2.3f\" % metrics.accuracy_score(yTest, yPredict))\n",
    "print(confusion_matrix(yTest, yPredict))\n",
    "print(classification_report(yTest, yPredict))"
   ]
  },
  {
   "cell_type": "code",
   "execution_count": 504,
   "id": "6ee6d4c0",
   "metadata": {
    "scrolled": true
   },
   "outputs": [
    {
     "name": "stderr",
     "output_type": "stream",
     "text": [
      "<ipython-input-504-bacd85ef2810>:3: FutureWarning: Call to deprecated class MrSEQLClassifier. (MrSEQLClassifier will be removed in v0.10.0. It will be replaced with an implementation based on Numba.) -- Deprecated since version 0.8.1.\n",
      "  ms = MrSEQLClassifier(seql_mode=\"fs\")\n",
      "<ipython-input-504-bacd85ef2810>:3: FutureWarning: Call to deprecated class SEQLCLF. (SEQLCLF will be removed in v0.10.0) -- Deprecated since version 0.8.1.\n",
      "  ms = MrSEQLClassifier(seql_mode=\"fs\")\n"
     ]
    },
    {
     "name": "stdout",
     "output_type": "stream",
     "text": [
      "Accuracy with MrSEQL: 0.583\n",
      "[[11 10]\n",
      " [ 5 10]]\n",
      "              precision    recall  f1-score   support\n",
      "\n",
      "        case       0.69      0.52      0.59        21\n",
      "     control       0.50      0.67      0.57        15\n",
      "\n",
      "    accuracy                           0.58        36\n",
      "   macro avg       0.59      0.60      0.58        36\n",
      "weighted avg       0.61      0.58      0.58        36\n",
      "\n"
     ]
    }
   ],
   "source": [
    "# Classifying GWAS data using MrSEQL\n",
    "\n",
    "ms = MrSEQLClassifier(seql_mode=\"fs\")\n",
    "ms.fit(xTrain, yTrain)\n",
    "yPredict = ms.predict(xTest)\n",
    "print(\"Accuracy with MrSEQL: %2.3f\" % metrics.accuracy_score(yTest, yPredict))\n",
    "print(confusion_matrix(yTest, yPredict))\n",
    "print(classification_report(yTest, yPredict))"
   ]
  }
 ],
 "metadata": {
  "kernelspec": {
   "display_name": "Python 3",
   "language": "python",
   "name": "python3"
  },
  "language_info": {
   "codemirror_mode": {
    "name": "ipython",
    "version": 3
   },
   "file_extension": ".py",
   "mimetype": "text/x-python",
   "name": "python",
   "nbconvert_exporter": "python",
   "pygments_lexer": "ipython3",
   "version": "3.8.8"
  }
 },
 "nbformat": 4,
 "nbformat_minor": 5
}
