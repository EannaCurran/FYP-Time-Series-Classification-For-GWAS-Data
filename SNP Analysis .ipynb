{
 "cells": [
  {
   "cell_type": "code",
   "execution_count": 54,
   "id": "669de9c5",
   "metadata": {},
   "outputs": [],
   "source": [
    "import pandas as pd\n",
    "import matplotlib\n",
    "import matplotlib.pyplot as plt\n",
    "import numpy as np"
   ]
  },
  {
   "cell_type": "code",
   "execution_count": 2,
   "id": "c5150949",
   "metadata": {},
   "outputs": [],
   "source": [
    "# Opening up file containing GWAS data and reading in\n",
    "\n",
    "file = open(\"GWAS_Add.raw\", \"r\")\n",
    "lines = file.readlines()"
   ]
  },
  {
   "cell_type": "code",
   "execution_count": 5,
   "id": "4b380054",
   "metadata": {},
   "outputs": [],
   "source": [
    "# Loading GWAS data into DF in the correct format\n",
    "\n",
    "columns = lines[0].strip(\"\\n\").split(\" \")\n",
    "columns = [n.split(\"_\", 1)[0] for n in columns]\n",
    "df = pd.DataFrame(columns=columns)\n",
    "\n",
    "data = []\n",
    "for line in lines[1:]:\n",
    "    newRow = line.strip(\"\\n\").split(\" \")\n",
    "    data.append(newRow)\n",
    "\n",
    "df = pd.DataFrame(data, columns=columns)"
   ]
  },
  {
   "cell_type": "code",
   "execution_count": 6,
   "id": "aec6063c",
   "metadata": {},
   "outputs": [
    {
     "data": {
      "text/plain": [
       "(89, 83540)"
      ]
     },
     "execution_count": 6,
     "metadata": {},
     "output_type": "execute_result"
    }
   ],
   "source": [
    "df.shape"
   ]
  },
  {
   "cell_type": "code",
   "execution_count": 7,
   "id": "bb2a3f7f",
   "metadata": {},
   "outputs": [
    {
     "data": {
      "text/plain": [
       "Index(['FID', 'IID', 'PAT', 'MAT', 'SEX', 'PHENOTYPE', 'rs6681049',\n",
       "       'rs4074137', 'rs7540009', 'rs1891905',\n",
       "       ...\n",
       "       'rs131817', 'rs131794', 'rs12157953', 'rs5770913', 'rs131750',\n",
       "       'rs2269380', 'rs6151412', 'rs11912064', 'rs1001469', 'rs756638'],\n",
       "      dtype='object', length=83540)"
      ]
     },
     "execution_count": 7,
     "metadata": {},
     "output_type": "execute_result"
    }
   ],
   "source": [
    "df.columns"
   ]
  },
  {
   "cell_type": "code",
   "execution_count": 10,
   "id": "ab40a2ac",
   "metadata": {},
   "outputs": [
    {
     "data": {
      "image/png": "[encoded data removed]",
      "text/plain": [
       "<Figure size 864x360 with 1 Axes>"
      ]
     },
     "metadata": {
      "needs_background": "light"
     },
     "output_type": "display_data"
    }
   ],
   "source": [
    "df[\"PHENOTYPE\"].value_counts(dropna=False).plot(kind=\"bar\", title=\"Phenotype distribution\", figsize=(12,5), rot=0)\n",
    "plt.show()"
   ]
  },
  {
   "cell_type": "code",
   "execution_count": 61,
   "id": "03fb1e11",
   "metadata": {},
   "outputs": [
    {
     "data": {
      "text/plain": [
       "<AxesSubplot:title={'center':'Phenotype distribution'}>"
      ]
     },
     "execution_count": 61,
     "metadata": {},
     "output_type": "execute_result"
    },
    {
     "data": {
      "image/png": "[encoded data removed]",
      "text/plain": [
       "<Figure size 864x360 with 1 Axes>"
      ]
     },
     "metadata": {
      "needs_background": "light"
     },
     "output_type": "display_data"
    }
   ],
   "source": [
    "dfControl = df[df[\"PHENOTYPE\"] == \"1\"].loc[:, 'rs6681049':'rs756638'].apply(pd.Series.value_counts).replace(np.nan, 0)\n",
    "dfControl.T.sum(axis=0).plot(kind=\"bar\", title=\"Phenotype distribution\", figsize=(12,5), rot=0)"
   ]
  },
  {
   "cell_type": "code",
   "execution_count": 63,
   "id": "b5b7a457",
   "metadata": {},
   "outputs": [
    {
     "data": {
      "text/plain": [
       "0     2521944.0\n",
       "1      976909.0\n",
       "2      238943.0\n",
       "NA      21234.0\n",
       "dtype: float64"
      ]
     },
     "execution_count": 63,
     "metadata": {},
     "output_type": "execute_result"
    }
   ],
   "source": [
    "dfControl.T.sum(axis=0)"
   ]
  },
  {
   "cell_type": "code",
   "execution_count": 62,
   "id": "eb23367b",
   "metadata": {},
   "outputs": [
    {
     "data": {
      "text/plain": [
       "<AxesSubplot:title={'center':'Phenotype distribution'}>"
      ]
     },
     "execution_count": 62,
     "metadata": {},
     "output_type": "execute_result"
    },
    {
     "data": {
      "image/png": "[encoded data removed]",
      "text/plain": [
       "<Figure size 864x360 with 1 Axes>"
      ]
     },
     "metadata": {
      "needs_background": "light"
     },
     "output_type": "display_data"
    }
   ],
   "source": [
    "dfCase = df[df[\"PHENOTYPE\"] == \"2\"].loc[:, 'rs6681049':'rs756638'].apply(pd.Series.value_counts).replace(np.nan, 0)\n",
    "dfCase.T.sum(axis=0).plot(kind=\"bar\", title=\"Phenotype distribution\", figsize=(12,5), rot=0)"
   ]
  },
  {
   "cell_type": "code",
   "execution_count": 64,
   "id": "ecb8a03a",
   "metadata": {},
   "outputs": [
    {
     "data": {
      "text/plain": [
       "0     2470947.0\n",
       "1      949420.0\n",
       "2      234803.0\n",
       "NA      20326.0\n",
       "dtype: float64"
      ]
     },
     "execution_count": 64,
     "metadata": {},
     "output_type": "execute_result"
    }
   ],
   "source": [
    "dfCase.T.sum(axis=0)"
   ]
  }
 ],
 "metadata": {
  "kernelspec": {
   "display_name": "Python 3 (ipykernel)",
   "language": "python",
   "name": "python3"
  },
  "language_info": {
   "codemirror_mode": {
    "name": "ipython",
    "version": 3
   },
   "file_extension": ".py",
   "mimetype": "text/x-python",
   "name": "python",
   "nbconvert_exporter": "python",
   "pygments_lexer": "ipython3",
   "version": "3.9.7"
  }
 },
 "nbformat": 4,
 "nbformat_minor": 5
}
