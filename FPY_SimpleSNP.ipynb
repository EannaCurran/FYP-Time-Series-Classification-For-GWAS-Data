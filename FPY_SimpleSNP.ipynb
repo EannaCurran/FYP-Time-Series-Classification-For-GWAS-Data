{
 "cells": [
  {
   "cell_type": "code",
   "execution_count": 1,
   "metadata": {},
   "outputs": [],
   "source": [
    "# Imports\n",
    "\n",
    "import pandas as pd\n",
    "import matplotlib.pyplot as plt\n",
    "import numpy as np\n",
    "from sklearn.svm import SVC  \n",
    "from matplotlib.pyplot import figure\n",
    "from sklearn.model_selection import train_test_split\n",
    "from sklearn.tree import DecisionTreeClassifier\n",
    "from sklearn.neighbors import KNeighborsClassifier\n",
    "from sklearn.impute import SimpleImputer\n",
    "from sklearn.metrics import accuracy_score\n",
    "from sklearn import tree\n",
    "\n",
    "from sklearn import metrics\n",
    "from sklearn.model_selection import train_test_split\n",
    "\n",
    "from sktime.classification.shapelet_based import MrSEQLClassifier\n",
    "from sktime.datasets import load_arrow_head, load_basic_motions\n",
    "\n",
    "from sktime.datatypes._panel._convert import from_2d_array_to_nested\n",
    "from sktime.transformations.panel.rocket import Rocket\n",
    "from sklearn.linear_model import RidgeClassifierCV\n",
    "\n",
    "from sktime.datasets import load_arrow_head \n",
    "from sklearn.metrics import confusion_matrix\n",
    "from sklearn.metrics import classification_report\n",
    "from sklearn.ensemble import RandomForestClassifier\n",
    "from sklearn.model_selection import GridSearchCV\n",
    "from sklearn.base import clone\n",
    "import warnings\n",
    "\n",
    "warnings.filterwarnings('ignore')\n",
    "pd.set_option(\"display.max_rows\", 100)"
   ]
  },
  {
   "cell_type": "code",
   "execution_count": 2,
   "metadata": {},
   "outputs": [
    {
     "data": {
      "text/plain": [
       "90"
      ]
     },
     "execution_count": 2,
     "metadata": {},
     "output_type": "execute_result"
    }
   ],
   "source": [
    "# Opening up file containing GWAS data and reading in\n",
    "\n",
    "file = open(\"GWAS_Add.raw\", \"r\")\n",
    "lines = file.readlines()\n",
    "len(lines)"
   ]
  },
  {
   "cell_type": "code",
   "execution_count": 3,
   "metadata": {},
   "outputs": [],
   "source": [
    "# Loading GWAS data into DF in the correct format\n",
    "\n",
    "columns = lines[0].strip(\"\\n\").split(\" \")\n",
    "columns = [n.split(\"_\", 1)[0] for n in columns]\n",
    "df = pd.DataFrame(columns=columns)\n",
    "i = 1\n",
    "data = []\n",
    "for line in lines[1:]:\n",
    "    newRow = line.strip(\"\\n\").split(\" \")\n",
    "    for position in range(0, len(newRow)):\n",
    "        if newRow[position] == \"0\":\n",
    "            newRow[position] = \"2\"\n",
    "        elif newRow[position] == \"2\":\n",
    "            newRow[position] = \"0\"\n",
    "        \n",
    "    data.append(newRow)\n",
    "\n",
    "df = pd.DataFrame(data, columns=columns)"
   ]
  },
  {
   "cell_type": "code",
   "execution_count": 4,
   "metadata": {},
   "outputs": [
    {
     "data": {
      "text/plain": [
       "rs2222162  PHENOTYPE\n",
       "1          1            22\n",
       "0          1            17\n",
       "2          1             6\n",
       "dtype: int64"
      ]
     },
     "execution_count": 4,
     "metadata": {},
     "output_type": "execute_result"
    }
   ],
   "source": [
    "# Sanity check to see if control SNPs have been encoded correctly\n",
    "\n",
    "df1 = df[[\"rs2222162\",\"PHENOTYPE\"]]\n",
    "df1[df1[\"PHENOTYPE\"] == \"1\"].value_counts()"
   ]
  },
  {
   "cell_type": "code",
   "execution_count": 5,
   "metadata": {},
   "outputs": [
    {
     "data": {
      "text/plain": [
       "rs2222162  PHENOTYPE\n",
       "2          0            22\n",
       "1          0            19\n",
       "0          0             3\n",
       "dtype: int64"
      ]
     },
     "execution_count": 5,
     "metadata": {},
     "output_type": "execute_result"
    }
   ],
   "source": [
    "# Sanity check to see if cases SNPs have been encoded correctly\n",
    "\n",
    "df1 = df[[\"rs2222162\",\"PHENOTYPE\"]]\n",
    "df1[df1[\"PHENOTYPE\"] == \"0\"].value_counts()"
   ]
  },
  {
   "cell_type": "code",
   "execution_count": 6,
   "metadata": {},
   "outputs": [
    {
     "data": {
      "text/plain": [
       "106"
      ]
     },
     "execution_count": 6,
     "metadata": {},
     "output_type": "execute_result"
    }
   ],
   "source": [
    "# Only selecting 100 SNPs located on chromosome 2 \n",
    "\n",
    "dfAlleles = df.loc[:, \"rs11684739\":\"rs2521953\"]\n",
    "# dfAlleles = df.loc[:, \"rs11684739\":\"rs6757306\"] 500\n",
    "dfInfo = df.loc[:, :\"PHENOTYPE\"]\n",
    "df = dfInfo.join(dfAlleles)\n",
    "len(df.columns)"
   ]
  },
  {
   "cell_type": "code",
   "execution_count": 7,
   "metadata": {},
   "outputs": [],
   "source": [
    "# Fixing Phenotype values\n",
    "\n",
    "df[\"PHENOTYPE\"] = df[\"PHENOTYPE\"].replace(\"0\",\"case\")\n",
    "df[\"PHENOTYPE\"] = df[\"PHENOTYPE\"].replace(\"1\",\"control\")"
   ]
  },
  {
   "cell_type": "code",
   "execution_count": 8,
   "metadata": {},
   "outputs": [],
   "source": [
    "dfSave = df.copy(deep=True)"
   ]
  },
  {
   "cell_type": "code",
   "execution_count": 9,
   "metadata": {},
   "outputs": [],
   "source": [
    "# Re-encoding SNP of interest to generate stronger signal\n",
    "\n",
    "#df.loc[df.PHENOTYPE == \"case\", [\"rs2222162\"]] = \"2\"\n",
    "#df.loc[df.PHENOTYPE == \"control\", [\"rs2222162\"]] = \"0\""
   ]
  },
  {
   "cell_type": "code",
   "execution_count": 10,
   "metadata": {},
   "outputs": [],
   "source": [
    "# Testing to see if amplifying singal increases accuracy\n",
    "\n",
    "# df.insert(df.columns.get_loc(\"rs2222162\"), \"rs222216_1\", df[\"rs2222162\"])\n",
    "# df.insert(df.columns.get_loc(\"rs2222162\"), \"rs222216_2\", df[\"rs2222162\"])\n",
    "# df.insert(df.columns.get_loc(\"rs2222162\"), \"rs222216_3\", df[\"rs2222162\"])\n",
    "# #df.insert(df.columns.get_loc(\"rs2222162\"), \"rs222216_4\", df[\"rs2222162\"])"
   ]
  },
  {
   "cell_type": "code",
   "execution_count": 11,
   "metadata": {},
   "outputs": [],
   "source": [
    "# Removing ID columns and \n",
    "\n",
    "phenotype = df.pop(\"PHENOTYPE\")\n",
    "dfTest = df.drop(columns=[\"FID\",\"IID\",\"PAT\",\"MAT\",\"SEX\"])"
   ]
  },
  {
   "cell_type": "code",
   "execution_count": 12,
   "metadata": {},
   "outputs": [],
   "source": [
    "# Replacing missing SNP entries and replacing with most frequent value for that SNP of other entries\n",
    "\n",
    "imp = SimpleImputer(missing_values=\"NA\", strategy=\"most_frequent\")\n",
    "idf = pd.DataFrame(imp.fit_transform(dfTest))\n",
    "idf.columns = dfTest.columns"
   ]
  },
  {
   "cell_type": "code",
   "execution_count": 13,
   "metadata": {},
   "outputs": [],
   "source": [
    "# Converting columns to be numberical\n",
    "idf = idf.apply(pd.to_numeric)"
   ]
  },
  {
   "cell_type": "code",
   "execution_count": 14,
   "metadata": {},
   "outputs": [],
   "source": [
    "# Getting index of SNP of interest\n",
    "idfT = idf.T"
   ]
  },
  {
   "cell_type": "code",
   "execution_count": 15,
   "metadata": {},
   "outputs": [
    {
     "data": {
      "text/plain": [
       "('control', 2)"
      ]
     },
     "execution_count": 15,
     "metadata": {},
     "output_type": "execute_result"
    },
    {
     "data": {
      "image/png": "[encoded data removed]",
      "text/plain": [
       "<Figure size 432x288 with 1 Axes>"
      ]
     },
     "metadata": {
      "needs_background": "light"
     },
     "output_type": "display_data"
    }
   ],
   "source": [
    "# Visualising entry 0 - control\n",
    "position = idfT[0].index.get_loc(\"rs2222162\")\n",
    "plt.xticks([])\n",
    "plt.plot(idfT[0][0:position+1], color=\"tab:blue\")\n",
    "plt.plot(idfT[0][position-1:position+1], color=\"red\")\n",
    "plt.plot(idfT[0][position:],color=\"tab:blue\")\n",
    "phenotype[0], idfT[0][position]"
   ]
  },
  {
   "cell_type": "code",
   "execution_count": 16,
   "metadata": {},
   "outputs": [
    {
     "data": {
      "text/plain": [
       "('control', 0)"
      ]
     },
     "execution_count": 16,
     "metadata": {},
     "output_type": "execute_result"
    },
    {
     "data": {
      "image/png": "[encoded data removed]",
      "text/plain": [
       "<Figure size 432x288 with 1 Axes>"
      ]
     },
     "metadata": {
      "needs_background": "light"
     },
     "output_type": "display_data"
    }
   ],
   "source": [
    "# Visualising entry 8 - control\n",
    "\n",
    "position = idfT[8].index.get_loc(\"rs2222162\")\n",
    "plt.xticks([])\n",
    "plt.plot(idfT[8][0:position-1], color=\"tab:blue\")\n",
    "plt.plot(idfT[8][position-2:position+1], color=\"red\")\n",
    "plt.plot(idfT[8][position:],color=\"tab:blue\")\n",
    "phenotype[8], idfT[8][position]"
   ]
  },
  {
   "cell_type": "code",
   "execution_count": 17,
   "metadata": {},
   "outputs": [
    {
     "data": {
      "text/plain": [
       "('case', 2)"
      ]
     },
     "execution_count": 17,
     "metadata": {},
     "output_type": "execute_result"
    },
    {
     "data": {
      "image/png": "[encoded data removed]",
      "text/plain": [
       "<Figure size 432x288 with 1 Axes>"
      ]
     },
     "metadata": {
      "needs_background": "light"
     },
     "output_type": "display_data"
    }
   ],
   "source": [
    "# Visualising entry 2 - case\n",
    "\n",
    "position = idfT[2].index.get_loc(\"rs2222162\")\n",
    "plt.xticks([])\n",
    "plt.plot(idfT[2][0:position], color=\"tab:blue\")\n",
    "plt.plot(idfT[2][position-1:position+1], color=\"red\")\n",
    "plt.plot(idfT[2][position:],color=\"tab:blue\")\n",
    "phenotype[2], idfT[2][position]"
   ]
  },
  {
   "cell_type": "code",
   "execution_count": 18,
   "metadata": {},
   "outputs": [
    {
     "data": {
      "text/plain": [
       "('case', 1)"
      ]
     },
     "execution_count": 18,
     "metadata": {},
     "output_type": "execute_result"
    },
    {
     "data": {
      "image/png": "[encoded data removed]",
      "text/plain": [
       "<Figure size 432x288 with 1 Axes>"
      ]
     },
     "metadata": {
      "needs_background": "light"
     },
     "output_type": "display_data"
    }
   ],
   "source": [
    "# Visualising entry 88 - case\n",
    "\n",
    "position = idfT[88].index.get_loc(\"rs2222162\")\n",
    "plt.xticks([])\n",
    "plt.plot(idfT[88][0:position], color=\"tab:blue\")\n",
    "plt.plot(idfT[88][position-1:position+1], color=\"red\")\n",
    "plt.plot(idfT[88][position:],color=\"tab:blue\")\n",
    "phenotype[88], idfT[88][position]"
   ]
  },
  {
   "cell_type": "code",
   "execution_count": 19,
   "metadata": {},
   "outputs": [],
   "source": [
    "# Splitting data into training data and testing data\n",
    "\n",
    "xTrain, xTtest, yTrain, yTest = train_test_split(idf, phenotype, train_size=0.6, random_state=1)"
   ]
  },
  {
   "cell_type": "code",
   "execution_count": 20,
   "metadata": {},
   "outputs": [],
   "source": [
    "# Finding hyperparameters for RandomForst\n",
    "\n",
    "# bootstrap = [True, False]\n",
    "# maxDepth = list(range(10,110,10))\n",
    "# maxFeatures = [\"auto\", \"sqrt\"]\n",
    "# minSamplesLeaf = [1,2,3,4]\n",
    "# minSamplesSplit = [2,3,5]\n",
    "# nEstimators = list(range(100,1100,100))\n",
    "\n",
    "# hyperparameters = dict(bootstrap=bootstrap, max_depth=maxDepth, max_features=maxFeatures, min_samples_leaf=minSamplesLeaf,\n",
    "#                       min_samples_split=minSamplesSplit, n_estimators=nEstimators)\n",
    "\n",
    "# rfd = RandomForestClassifier()\n",
    "\n",
    "# clf = GridSearchCV(rfd, hyperparameters, cv=10)\n",
    "\n",
    "# bestModel = clf.fit(idf, phenotype)\n",
    "# print('Best bootstrap:', bestModel.best_estimator_.get_params()['bootstrap'])\n",
    "# print('Best max_depth:', bestModel.best_estimator_.get_params()['max_depth'])\n",
    "# print('Best max_features:', bestModel.best_estimator_.get_params()['max_features'])\n",
    "# print('Best min_samples_leaf:', bestModel.best_estimator_.get_params()['min_samples_leaf'])\n",
    "# print('Best min_samples_split:', bestModel.best_estimator_.get_params()['min_samples_split'])\n",
    "# print('Best n_estimators:', bestModel.best_estimator_.get_params()['n_estimators'])"
   ]
  },
  {
   "cell_type": "code",
   "execution_count": 21,
   "metadata": {},
   "outputs": [
    {
     "name": "stdout",
     "output_type": "stream",
     "text": [
      "Training accuracy score: 1.0\n",
      "Testing accuracy score: 0.5555555555555556\n",
      "[[ 8 13]\n",
      " [ 3 12]]\n",
      "              precision    recall  f1-score   support\n",
      "\n",
      "        case       0.73      0.38      0.50        21\n",
      "     control       0.48      0.80      0.60        15\n",
      "\n",
      "    accuracy                           0.56        36\n",
      "   macro avg       0.60      0.59      0.55        36\n",
      "weighted avg       0.62      0.56      0.54        36\n",
      "\n"
     ]
    }
   ],
   "source": [
    "# Classifying GWAS data using decision tree and printing results\n",
    "\n",
    "rfc = RandomForestClassifier(bootstrap=True, max_depth=100, max_features=\"sqrt\", \n",
    "                             min_samples_leaf=4, min_samples_split=2, n_estimators=100)\n",
    "rfc.fit(xTrain, yTrain)\n",
    "yPredicted = rfc.predict(xTrain)\n",
    "print(\"Training accuracy score: {}\".format(accuracy_score(yTrain, yPredicted)))\n",
    "yPredicted = rfc.predict(xTtest)\n",
    "print(\"Testing accuracy score: {}\".format(accuracy_score(yTest, yPredicted)))\n",
    "print(confusion_matrix(yTest, yPredicted))\n",
    "print(classification_report(yTest, yPredicted))"
   ]
  },
  {
   "cell_type": "code",
   "execution_count": 22,
   "metadata": {},
   "outputs": [
    {
     "data": {
      "text/plain": [
       "<BarContainer object of 10 artists>"
      ]
     },
     "execution_count": 22,
     "metadata": {},
     "output_type": "execute_result"
    },
    {
     "data": {
      "image/png": "[encoded data removed]",
      "text/plain": [
       "<Figure size 432x288 with 1 Axes>"
      ]
     },
     "metadata": {
      "needs_background": "light"
     },
     "output_type": "display_data"
    }
   ],
   "source": [
    "# Plotting features that random forest classifier found important\n",
    "\n",
    "rf =  pd.DataFrame({\"featrue\": idf.columns, \"importance\":rfc.feature_importances_})\n",
    "sorted_idx = rfc.feature_importances_.argsort()\n",
    "plt.barh(idf.columns[sorted_idx[-10:]], rfc.feature_importances_[sorted_idx[-10:]])"
   ]
  },
  {
   "cell_type": "code",
   "execution_count": 23,
   "metadata": {},
   "outputs": [],
   "source": [
    "# Finding hyperparameters for KNN\n",
    "\n",
    "\n",
    "# leafSize = list(range(1,30))\n",
    "# neighbours = list(range(1,30))\n",
    "# p = [1,2]\n",
    "# hyperparameters = dict(leaf_size=leafSize, n_neighbors=neighbours, p=p)\n",
    "\n",
    "# knn = KNeighborsClassifier() \n",
    "\n",
    "# clf = GridSearchCV(knn, hyperparameters, cv=10)\n",
    "\n",
    "# bestModel = clf.fit(idf, phenotype)\n",
    "# print('Best leaf_size:', bestModel.best_estimator_.get_params()['leaf_size'])\n",
    "# print('Best p:', bestModel.best_estimator_.get_params()['p'])\n",
    "# print('Best n_neighbors:', bestModel.best_estimator_.get_params()['n_neighbors'])"
   ]
  },
  {
   "cell_type": "code",
   "execution_count": 24,
   "metadata": {},
   "outputs": [
    {
     "name": "stdout",
     "output_type": "stream",
     "text": [
      "Training accuracy score: 0.6037735849056604\n",
      "Testing accuracy score: 0.4722222222222222\n",
      "[[ 8 13]\n",
      " [ 6  9]]\n"
     ]
    }
   ],
   "source": [
    "# Classifying GWAS data using KNN and printing results\n",
    "\n",
    "knnClf = KNeighborsClassifier(leaf_size=1, n_neighbors=22,p=2 ) \n",
    "knnClf.fit(xTrain, yTrain)\n",
    "yPredicted = knnClf.predict(xTrain)\n",
    "print(\"Training accuracy score: {}\".format(accuracy_score(yTrain, yPredicted)))\n",
    "yPredicted = knnClf.predict(xTtest)\n",
    "print(\"Testing accuracy score: {}\".format(accuracy_score(yTest, yPredicted)))\n",
    "print(confusion_matrix(yTest, yPredicted))"
   ]
  },
  {
   "cell_type": "code",
   "execution_count": 25,
   "metadata": {},
   "outputs": [],
   "source": [
    "# Finding hyperparameters for KNN\n",
    "\n",
    "# C = [0.1,1, 10, 100]\n",
    "# gamma = [1,0.1,0.01,0.001]\n",
    "# kernel = ['rbf', 'poly', 'sigmoid']\n",
    "# hyperparameters = dict(C=C,gamma=gamma,kernel=kernel)\n",
    "\n",
    "# SVM = SVC()\n",
    "\n",
    "# clf = GridSearchCV(SVM, hyperparameters, refit=True,cv=10)\n",
    "\n",
    "# bestModel = clf.fit(idf, phenotype)\n",
    "# print('Best C:', bestModel.best_estimator_.get_params()['C'])\n",
    "# print('Best gamma:', bestModel.best_estimator_.get_params()['gamma'])\n",
    "# print('Best kernel:', bestModel.best_estimator_.get_params()['kernel'])"
   ]
  },
  {
   "cell_type": "code",
   "execution_count": 26,
   "metadata": {},
   "outputs": [
    {
     "name": "stdout",
     "output_type": "stream",
     "text": [
      "Training accuracy score: 0.9245283018867925\n",
      "Testing accuracy score: 0.4166666666666667\n",
      "[[ 6 15]\n",
      " [ 6  9]]\n"
     ]
    }
   ],
   "source": [
    "# Classifying GWAS data using sigmoid SVC and printing results\n",
    "\n",
    "SVM = SVC(kernel=\"sigmoid\", C=100, gamma=0.001)\n",
    "SVM.fit(xTrain, yTrain)\n",
    "yPredicted = SVM.predict(xTrain)\n",
    "print(\"Training accuracy score: {}\".format(accuracy_score(yTrain, yPredicted)))\n",
    "yPredicted = SVM.predict(xTtest)\n",
    "print(\"Testing accuracy score: {}\".format(accuracy_score(yTest, yPredicted)))\n",
    "print(confusion_matrix(yTest, yPredicted))"
   ]
  },
  {
   "cell_type": "code",
   "execution_count": 27,
   "metadata": {},
   "outputs": [
    {
     "name": "stdout",
     "output_type": "stream",
     "text": [
      "Training accuracy score: 0.7924528301886793\n",
      "Testing accuracy score: 0.5\n",
      "[[ 5 16]\n",
      " [ 2 13]]\n"
     ]
    }
   ],
   "source": [
    "# Classifying GWAS data using sigmoid SVC and printing results\n",
    "\n",
    "RCLF = RidgeClassifierCV(alphas=np.logspace(-3, 3, 10), normalize=True)\n",
    "RCLF.fit(xTrain, yTrain)\n",
    "yPredicted = RCLF.predict(xTrain)\n",
    "print(\"Training accuracy score: {}\".format(accuracy_score(yTrain, yPredicted)))\n",
    "yPredicted = RCLF.predict(xTtest)\n",
    "print(\"Testing accuracy score: {}\".format(accuracy_score(yTest, yPredicted)))\n",
    "print(confusion_matrix(yTest, yPredicted))"
   ]
  },
  {
   "cell_type": "code",
   "execution_count": 28,
   "metadata": {},
   "outputs": [],
   "source": [
    "# Converting df columns into 2d numpy array time series\n",
    "\n",
    "idf = idf.apply(pd.to_numeric)\n",
    "idfSeries = from_2d_array_to_nested(idf)"
   ]
  },
  {
   "cell_type": "code",
   "execution_count": 29,
   "metadata": {},
   "outputs": [],
   "source": [
    "# Splitting time seriesdata into training data and testing data\n",
    "\n",
    "xTrain, xTest, yTrain, yTest = train_test_split(idfSeries, phenotype, train_size=0.6, random_state=1)"
   ]
  },
  {
   "cell_type": "code",
   "execution_count": 30,
   "metadata": {},
   "outputs": [],
   "source": [
    "# Extracting values from training split\n",
    "\n",
    "yTrain = yTrain.values\n",
    "yTest = yTest.values\n",
    "\n",
    "xTrain = xTrain.reset_index()\n",
    "xTrain = xTrain.drop(columns=[\"index\"])\n",
    "\n",
    "xTest = xTest.reset_index()\n",
    "xTest = xTest.drop(columns=[\"index\"])"
   ]
  },
  {
   "cell_type": "code",
   "execution_count": 31,
   "metadata": {},
   "outputs": [],
   "source": [
    "# Running rocket kernal transformation on training data\n",
    "\n",
    "rocket = Rocket()\n",
    "rocket.fit(xTrain)\n",
    "xTrainTransform = rocket.transform(xTrain)"
   ]
  },
  {
   "cell_type": "code",
   "execution_count": 32,
   "metadata": {},
   "outputs": [
    {
     "name": "stdout",
     "output_type": "stream",
     "text": [
      "Accuracy with Rocket: 0.500\n",
      "[[ 5 16]\n",
      " [ 2 13]]\n",
      "              precision    recall  f1-score   support\n",
      "\n",
      "        case       0.71      0.24      0.36        21\n",
      "     control       0.45      0.87      0.59        15\n",
      "\n",
      "    accuracy                           0.50        36\n",
      "   macro avg       0.58      0.55      0.47        36\n",
      "weighted avg       0.60      0.50      0.45        36\n",
      "\n"
     ]
    }
   ],
   "source": [
    "# Classifying GWAS Data from rocket transformation using Ridge Classifier\n",
    "\n",
    "classifier = RidgeClassifierCV(alphas=np.logspace(-3, 3, 10), normalize=True)\n",
    "classifier.fit(xTrainTransform, yTrain)\n",
    "xTestTransform = rocket.transform(xTest)\n",
    "yPredict = classifier.predict(xTestTransform)\n",
    "print(\"Accuracy with Rocket: %2.3f\" % metrics.accuracy_score(yTest, yPredict))\n",
    "print(confusion_matrix(yTest, yPredict))\n",
    "print(classification_report(yTest, yPredict))"
   ]
  },
  {
   "cell_type": "code",
   "execution_count": 33,
   "metadata": {
    "scrolled": true
   },
   "outputs": [
    {
     "name": "stdout",
     "output_type": "stream",
     "text": [
      "Accuracy with MrSEQL: 0.667\n",
      "[[12  9]\n",
      " [ 3 12]]\n",
      "              precision    recall  f1-score   support\n",
      "\n",
      "        case       0.80      0.57      0.67        21\n",
      "     control       0.57      0.80      0.67        15\n",
      "\n",
      "    accuracy                           0.67        36\n",
      "   macro avg       0.69      0.69      0.67        36\n",
      "weighted avg       0.70      0.67      0.67        36\n",
      "\n"
     ]
    }
   ],
   "source": [
    "# Classifying GWAS data using MrSEQL\n",
    "\n",
    "ms = MrSEQLClassifier(seql_mode=\"clf\")\n",
    "ms.fit(xTrain, yTrain)\n",
    "yPredict = ms.predict(xTest)\n",
    "print(\"Accuracy with MrSEQL: %2.3f\" % metrics.accuracy_score(yTest, yPredict))\n",
    "print(confusion_matrix(yTest, yPredict))\n",
    "print(classification_report(yTest, yPredict))"
   ]
  },
  {
   "cell_type": "code",
   "execution_count": 34,
   "metadata": {},
   "outputs": [],
   "source": [
    "# Method to setup df for testing\n",
    "\n",
    "def SetupTest(df):\n",
    "    imp = SimpleImputer(missing_values=\"NA\", strategy=\"most_frequent\")\n",
    "    idf = pd.DataFrame(imp.fit_transform(df))\n",
    "    idf.columns = df.columns\n",
    "    idf = idf.apply(pd.to_numeric)\n",
    "    return idf"
   ]
  },
  {
   "cell_type": "code",
   "execution_count": 35,
   "metadata": {},
   "outputs": [],
   "source": [
    "# Method to generate graph that displays change in accuracy for a given classifier as the length of the target SNP\n",
    "#    is increasde\n",
    "\n",
    "def GenerateSignalGraph(df, classifier):\n",
    "    \n",
    "    results = []\n",
    "    dfTest = df.copy(deep=True)\n",
    "    phenotype = dfTest.pop(\"PHENOTYPE\")\n",
    "    dfTest = dfTest.drop(columns=[\"FID\",\"IID\",\"PAT\",\"MAT\",\"SEX\"])\n",
    "    for n in range(1,10):\n",
    "        classifierTemp = clone(classifier)\n",
    "        dfTest.insert(dfTest.columns.get_loc(\"rs2222162\"), f\"rs222216_{n}\", dfTest[\"rs2222162\"])\n",
    "        idf = SetupTest(dfTest)\n",
    "        xTrain, xTest, yTrain, yTest = train_test_split(idf, phenotype, train_size=0.6, random_state=1)\n",
    "        classifierTemp.fit(xTrain, yTrain)\n",
    "        yPredict = classifierTemp.predict(xTest)\n",
    "        results.append(metrics.accuracy_score(yTest, yPredict))\n",
    "        \n",
    "        if n == 9:\n",
    "            print(f\"Accuracy with 10 length signal: {metrics.accuracy_score(yTest, yPredict)}\")\n",
    "            print(confusion_matrix(yTest, yPredict))\n",
    "            print(classification_report(yTest, yPredict))\n",
    "            \n",
    "    plt.plot(results)"
   ]
  },
  {
   "cell_type": "code",
   "execution_count": 36,
   "metadata": {},
   "outputs": [
    {
     "name": "stdout",
     "output_type": "stream",
     "text": [
      "Accuracy with 10 length signal: 0.6388888888888888\n",
      "[[11 10]\n",
      " [ 3 12]]\n",
      "              precision    recall  f1-score   support\n",
      "\n",
      "        case       0.79      0.52      0.63        21\n",
      "     control       0.55      0.80      0.65        15\n",
      "\n",
      "    accuracy                           0.64        36\n",
      "   macro avg       0.67      0.66      0.64        36\n",
      "weighted avg       0.69      0.64      0.64        36\n",
      "\n"
     ]
    },
    {
     "data": {
      "image/png": "[encoded data removed]",
      "text/plain": [
       "<Figure size 432x288 with 1 Axes>"
      ]
     },
     "metadata": {
      "needs_background": "light"
     },
     "output_type": "display_data"
    }
   ],
   "source": [
    "# Plotting change in accuracy for increased signal length for Random Forst\n",
    "\n",
    "rfc = RandomForestClassifier(bootstrap=True, max_depth=100, max_features=\"sqrt\", \n",
    "                             min_samples_leaf=4, min_samples_split=2, n_estimators=100)\n",
    "GenerateSignalGraph(dfSave, rfc)"
   ]
  },
  {
   "cell_type": "code",
   "execution_count": 37,
   "metadata": {},
   "outputs": [
    {
     "name": "stdout",
     "output_type": "stream",
     "text": [
      "Accuracy with 10 length signal: 0.7222222222222222\n",
      "[[16  5]\n",
      " [ 5 10]]\n",
      "              precision    recall  f1-score   support\n",
      "\n",
      "        case       0.76      0.76      0.76        21\n",
      "     control       0.67      0.67      0.67        15\n",
      "\n",
      "    accuracy                           0.72        36\n",
      "   macro avg       0.71      0.71      0.71        36\n",
      "weighted avg       0.72      0.72      0.72        36\n",
      "\n"
     ]
    },
    {
     "data": {
      "image/png": "[encoded data removed]",
      "text/plain": [
       "<Figure size 432x288 with 1 Axes>"
      ]
     },
     "metadata": {
      "needs_background": "light"
     },
     "output_type": "display_data"
    }
   ],
   "source": [
    "# Plotting change in accuracy for increased signal length for Knn\n",
    "\n",
    "knnClf = KNeighborsClassifier(leaf_size=1, n_neighbors=22,p=2 ) \n",
    "GenerateSignalGraph(dfSave, knnClf)"
   ]
  },
  {
   "cell_type": "code",
   "execution_count": 38,
   "metadata": {},
   "outputs": [
    {
     "name": "stdout",
     "output_type": "stream",
     "text": [
      "Accuracy with 10 length signal: 0.6111111111111112\n",
      "[[12  9]\n",
      " [ 5 10]]\n",
      "              precision    recall  f1-score   support\n",
      "\n",
      "        case       0.71      0.57      0.63        21\n",
      "     control       0.53      0.67      0.59        15\n",
      "\n",
      "    accuracy                           0.61        36\n",
      "   macro avg       0.62      0.62      0.61        36\n",
      "weighted avg       0.63      0.61      0.61        36\n",
      "\n"
     ]
    },
    {
     "data": {
      "image/png": "[encoded data removed]",
      "text/plain": [
       "<Figure size 432x288 with 1 Axes>"
      ]
     },
     "metadata": {
      "needs_background": "light"
     },
     "output_type": "display_data"
    }
   ],
   "source": [
    "# Plotting change in accuracy for increased signal length for SVM\n",
    "\n",
    "SVM = SVC(kernel=\"sigmoid\", C=100, gamma=0.001)\n",
    "GenerateSignalGraph(dfSave, SVM)"
   ]
  },
  {
   "cell_type": "code",
   "execution_count": 39,
   "metadata": {},
   "outputs": [
    {
     "name": "stdout",
     "output_type": "stream",
     "text": [
      "Accuracy with 10 length signal: 0.6666666666666666\n",
      "[[12  9]\n",
      " [ 3 12]]\n",
      "              precision    recall  f1-score   support\n",
      "\n",
      "        case       0.80      0.57      0.67        21\n",
      "     control       0.57      0.80      0.67        15\n",
      "\n",
      "    accuracy                           0.67        36\n",
      "   macro avg       0.69      0.69      0.67        36\n",
      "weighted avg       0.70      0.67      0.67        36\n",
      "\n"
     ]
    },
    {
     "data": {
      "image/png": "[encoded data removed]",
      "text/plain": [
       "<Figure size 432x288 with 1 Axes>"
      ]
     },
     "metadata": {
      "needs_background": "light"
     },
     "output_type": "display_data"
    }
   ],
   "source": [
    "results = []\n",
    "dfTest = dfSave.copy(deep=True)\n",
    "phenotype = dfTest.pop(\"PHENOTYPE\")\n",
    "dfTest = dfTest.drop(columns=[\"FID\",\"IID\",\"PAT\",\"MAT\",\"SEX\"])\n",
    "\n",
    "for n in range(1,10):\n",
    "    \n",
    "    dfTest.insert(dfTest.columns.get_loc(\"rs2222162\"), f\"rs222216_{n}\", dfTest[\"rs2222162\"])\n",
    "    idf = SetupTest(dfTest)\n",
    "    idfSeries = from_2d_array_to_nested(idf)\n",
    "    \n",
    "    xTrain, xTest, yTrain, yTest = train_test_split(idfSeries, phenotype, train_size=0.6, random_state=1)\n",
    "    \n",
    "    yTrain = yTrain.values\n",
    "    yTest = yTest.values\n",
    "\n",
    "    xTrain = xTrain.reset_index()\n",
    "    xTrain = xTrain.drop(columns=[\"index\"])\n",
    "\n",
    "    xTest = xTest.reset_index()\n",
    "    xTest = xTest.drop(columns=[\"index\"])\n",
    "    \n",
    "    rocket = Rocket()\n",
    "    rocket.fit(xTrain)\n",
    "    xTrainTransform = rocket.transform(xTrain)\n",
    "    \n",
    "    classifier = RidgeClassifierCV(alphas=np.logspace(-3, 3, 10), normalize=True)\n",
    "    classifier.fit(xTrainTransform, yTrain)\n",
    "    xTestTransform = rocket.transform(xTest)\n",
    "    yPredict = classifier.predict(xTestTransform)\n",
    "    results.append(metrics.accuracy_score(yTest, yPredict))\n",
    "    \n",
    "    if n == 9:\n",
    "        print(f\"Accuracy with 10 length signal: {metrics.accuracy_score(yTest, yPredict)}\")\n",
    "        print(confusion_matrix(yTest, yPredict))\n",
    "        print(classification_report(yTest, yPredict))\n",
    "    \n",
    "_ = plt.plot(results)"
   ]
  },
  {
   "cell_type": "code",
   "execution_count": null,
   "metadata": {},
   "outputs": [],
   "source": [
    "results = []\n",
    "dfTest = dfSave.copy(deep=True)\n",
    "phenotype = dfTest.pop(\"PHENOTYPE\")\n",
    "dfTest = dfTest.drop(columns=[\"FID\",\"IID\",\"PAT\",\"MAT\",\"SEX\"])\n",
    "idf=None\n",
    "for n in range(1,10):\n",
    "    \n",
    "    dfTest.insert(dfTest.columns.get_loc(\"rs2222162\"), f\"rs2222162_{n}\", dfTest[\"rs2222162\"])\n",
    "    idf = SetupTest(dfTest)\n",
    "    idfSeries = from_2d_array_to_nested(idf)\n",
    "    \n",
    "    xTrain, xTest, yTrain, yTest = train_test_split(idfSeries, phenotype, train_size=0.6, random_state=1)\n",
    "    \n",
    "    yTrain = yTrain.values\n",
    "    yTest = yTest.values\n",
    "\n",
    "    xTrain = xTrain.reset_index()\n",
    "    xTrain = xTrain.drop(columns=[\"index\"])\n",
    "\n",
    "    xTest = xTest.reset_index()\n",
    "    xTest = xTest.drop(columns=[\"index\"])\n",
    "    \n",
    "    ms = MrSEQLClassifier(seql_mode=\"clf\")\n",
    "    ms.fit(xTrain, yTrain)\n",
    "    yPredict = ms.predict(xTest)\n",
    "    results.append(metrics.accuracy_score(yTest, yPredict))\n",
    "    \n",
    "    if n == 9:\n",
    "        print(f\"Accuracy with 10 length signal: {metrics.accuracy_score(yTest, yPredict)}\")\n",
    "        print(confusion_matrix(yTest, yPredict))\n",
    "        print(classification_report(yTest, yPredict))\n",
    "    \n",
    "_ = plt.plot(results)"
   ]
  },
  {
   "cell_type": "code",
   "execution_count": null,
   "metadata": {},
   "outputs": [],
   "source": [
    "idfT = idf.T\n",
    "position = idfT[8].index.get_loc(\"rs2222162\")\n",
    "plt.xticks([])\n",
    "plt.plot(idfT[8][0:position-1], color=\"tab:blue\")\n",
    "plt.plot(idfT[8][position-2:position+1], color=\"red\")\n",
    "plt.plot(idfT[8][position:],color=\"tab:blue\")\n",
    "phenotype[position], idfT[8][position]"
   ]
  },
  {
   "cell_type": "code",
   "execution_count": null,
   "metadata": {},
   "outputs": [],
   "source": [
    "idfT[8].to_string()"
   ]
  }
 ],
 "metadata": {
  "kernelspec": {
   "display_name": "Python 3",
   "language": "python",
   "name": "python3"
  },
  "language_info": {
   "codemirror_mode": {
    "name": "ipython",
    "version": 3
   },
   "file_extension": ".py",
   "mimetype": "text/x-python",
   "name": "python",
   "nbconvert_exporter": "python",
   "pygments_lexer": "ipython3",
   "version": "3.8.3"
  }
 },
 "nbformat": 4,
 "nbformat_minor": 5
}
